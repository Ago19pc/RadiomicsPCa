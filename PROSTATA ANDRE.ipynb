{
  "cells": [
    {
      "cell_type": "markdown",
      "id": "0e41a722",
      "metadata": {
        "id": "0e41a722"
      },
      "source": [
        "# MODELLI CON ISUP <3 E >=3"
      ]
    },
    {
      "cell_type": "markdown",
      "id": "b438e84c",
      "metadata": {
        "id": "b438e84c"
      },
      "source": [
        "You might be asking what is this...\n",
        "\n",
        "Just a mix and mash of ADC, T2W and so on\n",
        "\n",
        "TODO: Definire classe 1 e 2 per esempio classe 1: ISUP 2,3 mentre classe 2: ISUP 3,4.\n",
        "\n",
        "Una classe puo avere 1 o piu valori"
      ]
    },
    {
      "cell_type": "markdown",
      "id": "06463c43",
      "metadata": {
        "id": "06463c43"
      },
      "source": [
        "## Imports"
      ]
    },
    {
      "cell_type": "code",
      "execution_count": 1,
      "id": "8f9c41d2",
      "metadata": {
        "id": "8f9c41d2"
      },
      "outputs": [],
      "source": [
        "import numpy as np\n",
        "import pandas as pd\n",
        "from typing import Literal"
      ]
    },
    {
      "cell_type": "code",
      "source": [
        "from google.colab import files\n",
        "uploaded = files.upload()"
      ],
      "metadata": {
        "colab": {
          "base_uri": "https://localhost:8080/",
          "height": 71
        },
        "id": "ITAuR6lLakgJ",
        "outputId": "2dc3aea0-8085-4d07-9812-64e1beab1cc8"
      },
      "id": "ITAuR6lLakgJ",
      "execution_count": 2,
      "outputs": [
        {
          "output_type": "display_data",
          "data": {
            "text/plain": [
              "<IPython.core.display.HTML object>"
            ],
            "text/html": [
              "\n",
              "     <input type=\"file\" id=\"files-b96c86a9-5aa6-478f-9ec7-205ce1398c73\" name=\"files[]\" multiple disabled\n",
              "        style=\"border:none\" />\n",
              "     <output id=\"result-b96c86a9-5aa6-478f-9ec7-205ce1398c73\">\n",
              "      Upload widget is only available when the cell has been executed in the\n",
              "      current browser session. Please rerun this cell to enable.\n",
              "      </output>\n",
              "      <script>// Copyright 2017 Google LLC\n",
              "//\n",
              "// Licensed under the Apache License, Version 2.0 (the \"License\");\n",
              "// you may not use this file except in compliance with the License.\n",
              "// You may obtain a copy of the License at\n",
              "//\n",
              "//      http://www.apache.org/licenses/LICENSE-2.0\n",
              "//\n",
              "// Unless required by applicable law or agreed to in writing, software\n",
              "// distributed under the License is distributed on an \"AS IS\" BASIS,\n",
              "// WITHOUT WARRANTIES OR CONDITIONS OF ANY KIND, either express or implied.\n",
              "// See the License for the specific language governing permissions and\n",
              "// limitations under the License.\n",
              "\n",
              "/**\n",
              " * @fileoverview Helpers for google.colab Python module.\n",
              " */\n",
              "(function(scope) {\n",
              "function span(text, styleAttributes = {}) {\n",
              "  const element = document.createElement('span');\n",
              "  element.textContent = text;\n",
              "  for (const key of Object.keys(styleAttributes)) {\n",
              "    element.style[key] = styleAttributes[key];\n",
              "  }\n",
              "  return element;\n",
              "}\n",
              "\n",
              "// Max number of bytes which will be uploaded at a time.\n",
              "const MAX_PAYLOAD_SIZE = 100 * 1024;\n",
              "\n",
              "function _uploadFiles(inputId, outputId) {\n",
              "  const steps = uploadFilesStep(inputId, outputId);\n",
              "  const outputElement = document.getElementById(outputId);\n",
              "  // Cache steps on the outputElement to make it available for the next call\n",
              "  // to uploadFilesContinue from Python.\n",
              "  outputElement.steps = steps;\n",
              "\n",
              "  return _uploadFilesContinue(outputId);\n",
              "}\n",
              "\n",
              "// This is roughly an async generator (not supported in the browser yet),\n",
              "// where there are multiple asynchronous steps and the Python side is going\n",
              "// to poll for completion of each step.\n",
              "// This uses a Promise to block the python side on completion of each step,\n",
              "// then passes the result of the previous step as the input to the next step.\n",
              "function _uploadFilesContinue(outputId) {\n",
              "  const outputElement = document.getElementById(outputId);\n",
              "  const steps = outputElement.steps;\n",
              "\n",
              "  const next = steps.next(outputElement.lastPromiseValue);\n",
              "  return Promise.resolve(next.value.promise).then((value) => {\n",
              "    // Cache the last promise value to make it available to the next\n",
              "    // step of the generator.\n",
              "    outputElement.lastPromiseValue = value;\n",
              "    return next.value.response;\n",
              "  });\n",
              "}\n",
              "\n",
              "/**\n",
              " * Generator function which is called between each async step of the upload\n",
              " * process.\n",
              " * @param {string} inputId Element ID of the input file picker element.\n",
              " * @param {string} outputId Element ID of the output display.\n",
              " * @return {!Iterable<!Object>} Iterable of next steps.\n",
              " */\n",
              "function* uploadFilesStep(inputId, outputId) {\n",
              "  const inputElement = document.getElementById(inputId);\n",
              "  inputElement.disabled = false;\n",
              "\n",
              "  const outputElement = document.getElementById(outputId);\n",
              "  outputElement.innerHTML = '';\n",
              "\n",
              "  const pickedPromise = new Promise((resolve) => {\n",
              "    inputElement.addEventListener('change', (e) => {\n",
              "      resolve(e.target.files);\n",
              "    });\n",
              "  });\n",
              "\n",
              "  const cancel = document.createElement('button');\n",
              "  inputElement.parentElement.appendChild(cancel);\n",
              "  cancel.textContent = 'Cancel upload';\n",
              "  const cancelPromise = new Promise((resolve) => {\n",
              "    cancel.onclick = () => {\n",
              "      resolve(null);\n",
              "    };\n",
              "  });\n",
              "\n",
              "  // Wait for the user to pick the files.\n",
              "  const files = yield {\n",
              "    promise: Promise.race([pickedPromise, cancelPromise]),\n",
              "    response: {\n",
              "      action: 'starting',\n",
              "    }\n",
              "  };\n",
              "\n",
              "  cancel.remove();\n",
              "\n",
              "  // Disable the input element since further picks are not allowed.\n",
              "  inputElement.disabled = true;\n",
              "\n",
              "  if (!files) {\n",
              "    return {\n",
              "      response: {\n",
              "        action: 'complete',\n",
              "      }\n",
              "    };\n",
              "  }\n",
              "\n",
              "  for (const file of files) {\n",
              "    const li = document.createElement('li');\n",
              "    li.append(span(file.name, {fontWeight: 'bold'}));\n",
              "    li.append(span(\n",
              "        `(${file.type || 'n/a'}) - ${file.size} bytes, ` +\n",
              "        `last modified: ${\n",
              "            file.lastModifiedDate ? file.lastModifiedDate.toLocaleDateString() :\n",
              "                                    'n/a'} - `));\n",
              "    const percent = span('0% done');\n",
              "    li.appendChild(percent);\n",
              "\n",
              "    outputElement.appendChild(li);\n",
              "\n",
              "    const fileDataPromise = new Promise((resolve) => {\n",
              "      const reader = new FileReader();\n",
              "      reader.onload = (e) => {\n",
              "        resolve(e.target.result);\n",
              "      };\n",
              "      reader.readAsArrayBuffer(file);\n",
              "    });\n",
              "    // Wait for the data to be ready.\n",
              "    let fileData = yield {\n",
              "      promise: fileDataPromise,\n",
              "      response: {\n",
              "        action: 'continue',\n",
              "      }\n",
              "    };\n",
              "\n",
              "    // Use a chunked sending to avoid message size limits. See b/62115660.\n",
              "    let position = 0;\n",
              "    do {\n",
              "      const length = Math.min(fileData.byteLength - position, MAX_PAYLOAD_SIZE);\n",
              "      const chunk = new Uint8Array(fileData, position, length);\n",
              "      position += length;\n",
              "\n",
              "      const base64 = btoa(String.fromCharCode.apply(null, chunk));\n",
              "      yield {\n",
              "        response: {\n",
              "          action: 'append',\n",
              "          file: file.name,\n",
              "          data: base64,\n",
              "        },\n",
              "      };\n",
              "\n",
              "      let percentDone = fileData.byteLength === 0 ?\n",
              "          100 :\n",
              "          Math.round((position / fileData.byteLength) * 100);\n",
              "      percent.textContent = `${percentDone}% done`;\n",
              "\n",
              "    } while (position < fileData.byteLength);\n",
              "  }\n",
              "\n",
              "  // All done.\n",
              "  yield {\n",
              "    response: {\n",
              "      action: 'complete',\n",
              "    }\n",
              "  };\n",
              "}\n",
              "\n",
              "scope.google = scope.google || {};\n",
              "scope.google.colab = scope.google.colab || {};\n",
              "scope.google.colab._files = {\n",
              "  _uploadFiles,\n",
              "  _uploadFilesContinue,\n",
              "};\n",
              "})(self);\n",
              "</script> "
            ]
          },
          "metadata": {}
        },
        {
          "output_type": "stream",
          "name": "stdout",
          "text": [
            "Saving marksheet.csv to marksheet.csv\n"
          ]
        }
      ]
    },
    {
      "cell_type": "code",
      "source": [
        "from google.colab import files\n",
        "uploaded = files.upload()"
      ],
      "metadata": {
        "colab": {
          "base_uri": "https://localhost:8080/",
          "height": 71
        },
        "id": "yZiv8qyZau4N",
        "outputId": "5e71bd24-9471-4d05-8ed1-68708030898e"
      },
      "id": "yZiv8qyZau4N",
      "execution_count": 3,
      "outputs": [
        {
          "output_type": "display_data",
          "data": {
            "text/plain": [
              "<IPython.core.display.HTML object>"
            ],
            "text/html": [
              "\n",
              "     <input type=\"file\" id=\"files-4741954d-13b1-4fae-b282-32f011fb3904\" name=\"files[]\" multiple disabled\n",
              "        style=\"border:none\" />\n",
              "     <output id=\"result-4741954d-13b1-4fae-b282-32f011fb3904\">\n",
              "      Upload widget is only available when the cell has been executed in the\n",
              "      current browser session. Please rerun this cell to enable.\n",
              "      </output>\n",
              "      <script>// Copyright 2017 Google LLC\n",
              "//\n",
              "// Licensed under the Apache License, Version 2.0 (the \"License\");\n",
              "// you may not use this file except in compliance with the License.\n",
              "// You may obtain a copy of the License at\n",
              "//\n",
              "//      http://www.apache.org/licenses/LICENSE-2.0\n",
              "//\n",
              "// Unless required by applicable law or agreed to in writing, software\n",
              "// distributed under the License is distributed on an \"AS IS\" BASIS,\n",
              "// WITHOUT WARRANTIES OR CONDITIONS OF ANY KIND, either express or implied.\n",
              "// See the License for the specific language governing permissions and\n",
              "// limitations under the License.\n",
              "\n",
              "/**\n",
              " * @fileoverview Helpers for google.colab Python module.\n",
              " */\n",
              "(function(scope) {\n",
              "function span(text, styleAttributes = {}) {\n",
              "  const element = document.createElement('span');\n",
              "  element.textContent = text;\n",
              "  for (const key of Object.keys(styleAttributes)) {\n",
              "    element.style[key] = styleAttributes[key];\n",
              "  }\n",
              "  return element;\n",
              "}\n",
              "\n",
              "// Max number of bytes which will be uploaded at a time.\n",
              "const MAX_PAYLOAD_SIZE = 100 * 1024;\n",
              "\n",
              "function _uploadFiles(inputId, outputId) {\n",
              "  const steps = uploadFilesStep(inputId, outputId);\n",
              "  const outputElement = document.getElementById(outputId);\n",
              "  // Cache steps on the outputElement to make it available for the next call\n",
              "  // to uploadFilesContinue from Python.\n",
              "  outputElement.steps = steps;\n",
              "\n",
              "  return _uploadFilesContinue(outputId);\n",
              "}\n",
              "\n",
              "// This is roughly an async generator (not supported in the browser yet),\n",
              "// where there are multiple asynchronous steps and the Python side is going\n",
              "// to poll for completion of each step.\n",
              "// This uses a Promise to block the python side on completion of each step,\n",
              "// then passes the result of the previous step as the input to the next step.\n",
              "function _uploadFilesContinue(outputId) {\n",
              "  const outputElement = document.getElementById(outputId);\n",
              "  const steps = outputElement.steps;\n",
              "\n",
              "  const next = steps.next(outputElement.lastPromiseValue);\n",
              "  return Promise.resolve(next.value.promise).then((value) => {\n",
              "    // Cache the last promise value to make it available to the next\n",
              "    // step of the generator.\n",
              "    outputElement.lastPromiseValue = value;\n",
              "    return next.value.response;\n",
              "  });\n",
              "}\n",
              "\n",
              "/**\n",
              " * Generator function which is called between each async step of the upload\n",
              " * process.\n",
              " * @param {string} inputId Element ID of the input file picker element.\n",
              " * @param {string} outputId Element ID of the output display.\n",
              " * @return {!Iterable<!Object>} Iterable of next steps.\n",
              " */\n",
              "function* uploadFilesStep(inputId, outputId) {\n",
              "  const inputElement = document.getElementById(inputId);\n",
              "  inputElement.disabled = false;\n",
              "\n",
              "  const outputElement = document.getElementById(outputId);\n",
              "  outputElement.innerHTML = '';\n",
              "\n",
              "  const pickedPromise = new Promise((resolve) => {\n",
              "    inputElement.addEventListener('change', (e) => {\n",
              "      resolve(e.target.files);\n",
              "    });\n",
              "  });\n",
              "\n",
              "  const cancel = document.createElement('button');\n",
              "  inputElement.parentElement.appendChild(cancel);\n",
              "  cancel.textContent = 'Cancel upload';\n",
              "  const cancelPromise = new Promise((resolve) => {\n",
              "    cancel.onclick = () => {\n",
              "      resolve(null);\n",
              "    };\n",
              "  });\n",
              "\n",
              "  // Wait for the user to pick the files.\n",
              "  const files = yield {\n",
              "    promise: Promise.race([pickedPromise, cancelPromise]),\n",
              "    response: {\n",
              "      action: 'starting',\n",
              "    }\n",
              "  };\n",
              "\n",
              "  cancel.remove();\n",
              "\n",
              "  // Disable the input element since further picks are not allowed.\n",
              "  inputElement.disabled = true;\n",
              "\n",
              "  if (!files) {\n",
              "    return {\n",
              "      response: {\n",
              "        action: 'complete',\n",
              "      }\n",
              "    };\n",
              "  }\n",
              "\n",
              "  for (const file of files) {\n",
              "    const li = document.createElement('li');\n",
              "    li.append(span(file.name, {fontWeight: 'bold'}));\n",
              "    li.append(span(\n",
              "        `(${file.type || 'n/a'}) - ${file.size} bytes, ` +\n",
              "        `last modified: ${\n",
              "            file.lastModifiedDate ? file.lastModifiedDate.toLocaleDateString() :\n",
              "                                    'n/a'} - `));\n",
              "    const percent = span('0% done');\n",
              "    li.appendChild(percent);\n",
              "\n",
              "    outputElement.appendChild(li);\n",
              "\n",
              "    const fileDataPromise = new Promise((resolve) => {\n",
              "      const reader = new FileReader();\n",
              "      reader.onload = (e) => {\n",
              "        resolve(e.target.result);\n",
              "      };\n",
              "      reader.readAsArrayBuffer(file);\n",
              "    });\n",
              "    // Wait for the data to be ready.\n",
              "    let fileData = yield {\n",
              "      promise: fileDataPromise,\n",
              "      response: {\n",
              "        action: 'continue',\n",
              "      }\n",
              "    };\n",
              "\n",
              "    // Use a chunked sending to avoid message size limits. See b/62115660.\n",
              "    let position = 0;\n",
              "    do {\n",
              "      const length = Math.min(fileData.byteLength - position, MAX_PAYLOAD_SIZE);\n",
              "      const chunk = new Uint8Array(fileData, position, length);\n",
              "      position += length;\n",
              "\n",
              "      const base64 = btoa(String.fromCharCode.apply(null, chunk));\n",
              "      yield {\n",
              "        response: {\n",
              "          action: 'append',\n",
              "          file: file.name,\n",
              "          data: base64,\n",
              "        },\n",
              "      };\n",
              "\n",
              "      let percentDone = fileData.byteLength === 0 ?\n",
              "          100 :\n",
              "          Math.round((position / fileData.byteLength) * 100);\n",
              "      percent.textContent = `${percentDone}% done`;\n",
              "\n",
              "    } while (position < fileData.byteLength);\n",
              "  }\n",
              "\n",
              "  // All done.\n",
              "  yield {\n",
              "    response: {\n",
              "      action: 'complete',\n",
              "    }\n",
              "  };\n",
              "}\n",
              "\n",
              "scope.google = scope.google || {};\n",
              "scope.google.colab = scope.google.colab || {};\n",
              "scope.google.colab._files = {\n",
              "  _uploadFiles,\n",
              "  _uploadFilesContinue,\n",
              "};\n",
              "})(self);\n",
              "</script> "
            ]
          },
          "metadata": {}
        },
        {
          "output_type": "stream",
          "name": "stdout",
          "text": [
            "Saving PI-CAI_labels to PI-CAI_labels\n"
          ]
        }
      ]
    },
    {
      "cell_type": "code",
      "source": [
        "from google.colab import files\n",
        "uploaded = files.upload()"
      ],
      "metadata": {
        "colab": {
          "base_uri": "https://localhost:8080/",
          "height": 71
        },
        "id": "H9NqZ3Svaw5R",
        "outputId": "a5c60769-28d1-4b14-b532-913b1d45e745"
      },
      "id": "H9NqZ3Svaw5R",
      "execution_count": 4,
      "outputs": [
        {
          "output_type": "display_data",
          "data": {
            "text/plain": [
              "<IPython.core.display.HTML object>"
            ],
            "text/html": [
              "\n",
              "     <input type=\"file\" id=\"files-ef5fd286-a5c0-46b0-8619-cb355769a0b7\" name=\"files[]\" multiple disabled\n",
              "        style=\"border:none\" />\n",
              "     <output id=\"result-ef5fd286-a5c0-46b0-8619-cb355769a0b7\">\n",
              "      Upload widget is only available when the cell has been executed in the\n",
              "      current browser session. Please rerun this cell to enable.\n",
              "      </output>\n",
              "      <script>// Copyright 2017 Google LLC\n",
              "//\n",
              "// Licensed under the Apache License, Version 2.0 (the \"License\");\n",
              "// you may not use this file except in compliance with the License.\n",
              "// You may obtain a copy of the License at\n",
              "//\n",
              "//      http://www.apache.org/licenses/LICENSE-2.0\n",
              "//\n",
              "// Unless required by applicable law or agreed to in writing, software\n",
              "// distributed under the License is distributed on an \"AS IS\" BASIS,\n",
              "// WITHOUT WARRANTIES OR CONDITIONS OF ANY KIND, either express or implied.\n",
              "// See the License for the specific language governing permissions and\n",
              "// limitations under the License.\n",
              "\n",
              "/**\n",
              " * @fileoverview Helpers for google.colab Python module.\n",
              " */\n",
              "(function(scope) {\n",
              "function span(text, styleAttributes = {}) {\n",
              "  const element = document.createElement('span');\n",
              "  element.textContent = text;\n",
              "  for (const key of Object.keys(styleAttributes)) {\n",
              "    element.style[key] = styleAttributes[key];\n",
              "  }\n",
              "  return element;\n",
              "}\n",
              "\n",
              "// Max number of bytes which will be uploaded at a time.\n",
              "const MAX_PAYLOAD_SIZE = 100 * 1024;\n",
              "\n",
              "function _uploadFiles(inputId, outputId) {\n",
              "  const steps = uploadFilesStep(inputId, outputId);\n",
              "  const outputElement = document.getElementById(outputId);\n",
              "  // Cache steps on the outputElement to make it available for the next call\n",
              "  // to uploadFilesContinue from Python.\n",
              "  outputElement.steps = steps;\n",
              "\n",
              "  return _uploadFilesContinue(outputId);\n",
              "}\n",
              "\n",
              "// This is roughly an async generator (not supported in the browser yet),\n",
              "// where there are multiple asynchronous steps and the Python side is going\n",
              "// to poll for completion of each step.\n",
              "// This uses a Promise to block the python side on completion of each step,\n",
              "// then passes the result of the previous step as the input to the next step.\n",
              "function _uploadFilesContinue(outputId) {\n",
              "  const outputElement = document.getElementById(outputId);\n",
              "  const steps = outputElement.steps;\n",
              "\n",
              "  const next = steps.next(outputElement.lastPromiseValue);\n",
              "  return Promise.resolve(next.value.promise).then((value) => {\n",
              "    // Cache the last promise value to make it available to the next\n",
              "    // step of the generator.\n",
              "    outputElement.lastPromiseValue = value;\n",
              "    return next.value.response;\n",
              "  });\n",
              "}\n",
              "\n",
              "/**\n",
              " * Generator function which is called between each async step of the upload\n",
              " * process.\n",
              " * @param {string} inputId Element ID of the input file picker element.\n",
              " * @param {string} outputId Element ID of the output display.\n",
              " * @return {!Iterable<!Object>} Iterable of next steps.\n",
              " */\n",
              "function* uploadFilesStep(inputId, outputId) {\n",
              "  const inputElement = document.getElementById(inputId);\n",
              "  inputElement.disabled = false;\n",
              "\n",
              "  const outputElement = document.getElementById(outputId);\n",
              "  outputElement.innerHTML = '';\n",
              "\n",
              "  const pickedPromise = new Promise((resolve) => {\n",
              "    inputElement.addEventListener('change', (e) => {\n",
              "      resolve(e.target.files);\n",
              "    });\n",
              "  });\n",
              "\n",
              "  const cancel = document.createElement('button');\n",
              "  inputElement.parentElement.appendChild(cancel);\n",
              "  cancel.textContent = 'Cancel upload';\n",
              "  const cancelPromise = new Promise((resolve) => {\n",
              "    cancel.onclick = () => {\n",
              "      resolve(null);\n",
              "    };\n",
              "  });\n",
              "\n",
              "  // Wait for the user to pick the files.\n",
              "  const files = yield {\n",
              "    promise: Promise.race([pickedPromise, cancelPromise]),\n",
              "    response: {\n",
              "      action: 'starting',\n",
              "    }\n",
              "  };\n",
              "\n",
              "  cancel.remove();\n",
              "\n",
              "  // Disable the input element since further picks are not allowed.\n",
              "  inputElement.disabled = true;\n",
              "\n",
              "  if (!files) {\n",
              "    return {\n",
              "      response: {\n",
              "        action: 'complete',\n",
              "      }\n",
              "    };\n",
              "  }\n",
              "\n",
              "  for (const file of files) {\n",
              "    const li = document.createElement('li');\n",
              "    li.append(span(file.name, {fontWeight: 'bold'}));\n",
              "    li.append(span(\n",
              "        `(${file.type || 'n/a'}) - ${file.size} bytes, ` +\n",
              "        `last modified: ${\n",
              "            file.lastModifiedDate ? file.lastModifiedDate.toLocaleDateString() :\n",
              "                                    'n/a'} - `));\n",
              "    const percent = span('0% done');\n",
              "    li.appendChild(percent);\n",
              "\n",
              "    outputElement.appendChild(li);\n",
              "\n",
              "    const fileDataPromise = new Promise((resolve) => {\n",
              "      const reader = new FileReader();\n",
              "      reader.onload = (e) => {\n",
              "        resolve(e.target.result);\n",
              "      };\n",
              "      reader.readAsArrayBuffer(file);\n",
              "    });\n",
              "    // Wait for the data to be ready.\n",
              "    let fileData = yield {\n",
              "      promise: fileDataPromise,\n",
              "      response: {\n",
              "        action: 'continue',\n",
              "      }\n",
              "    };\n",
              "\n",
              "    // Use a chunked sending to avoid message size limits. See b/62115660.\n",
              "    let position = 0;\n",
              "    do {\n",
              "      const length = Math.min(fileData.byteLength - position, MAX_PAYLOAD_SIZE);\n",
              "      const chunk = new Uint8Array(fileData, position, length);\n",
              "      position += length;\n",
              "\n",
              "      const base64 = btoa(String.fromCharCode.apply(null, chunk));\n",
              "      yield {\n",
              "        response: {\n",
              "          action: 'append',\n",
              "          file: file.name,\n",
              "          data: base64,\n",
              "        },\n",
              "      };\n",
              "\n",
              "      let percentDone = fileData.byteLength === 0 ?\n",
              "          100 :\n",
              "          Math.round((position / fileData.byteLength) * 100);\n",
              "      percent.textContent = `${percentDone}% done`;\n",
              "\n",
              "    } while (position < fileData.byteLength);\n",
              "  }\n",
              "\n",
              "  // All done.\n",
              "  yield {\n",
              "    response: {\n",
              "      action: 'complete',\n",
              "    }\n",
              "  };\n",
              "}\n",
              "\n",
              "scope.google = scope.google || {};\n",
              "scope.google.colab = scope.google.colab || {};\n",
              "scope.google.colab._files = {\n",
              "  _uploadFiles,\n",
              "  _uploadFilesContinue,\n",
              "};\n",
              "})(self);\n",
              "</script> "
            ]
          },
          "metadata": {}
        },
        {
          "output_type": "stream",
          "name": "stdout",
          "text": [
            "Saving PI-CAI_features to PI-CAI_features\n"
          ]
        }
      ]
    },
    {
      "cell_type": "markdown",
      "id": "48a7227f",
      "metadata": {
        "id": "48a7227f"
      },
      "source": [
        "## Data Reader (!IMPORTANT!)"
      ]
    },
    {
      "cell_type": "code",
      "execution_count": 5,
      "id": "b3a115ff",
      "metadata": {
        "id": "b3a115ff"
      },
      "outputs": [],
      "source": [
        "def is_single_string(param):\n",
        "    return isinstance(param, str)\n",
        "\n",
        "def is_list_of_strings(param):\n",
        "    return isinstance(param, (list, tuple)) and all(isinstance(item, str) for item in param)"
      ]
    },
    {
      "cell_type": "code",
      "execution_count": 6,
      "id": "8a610426",
      "metadata": {
        "id": "8a610426"
      },
      "outputs": [],
      "source": [
        "def no_polyjuice_getter(sequence, dataset):\n",
        "    # Filter the dataset to include only AI annotations and selected sequences and ROI lesion\n",
        "    filtered_dataset = dataset[dataset['annotator'] == 'AI']\n",
        "    filtered_dataset = filtered_dataset[filtered_dataset['sequence'] == sequence]\n",
        "    filtered_dataset = filtered_dataset[filtered_dataset['ROI'] == 'lesion']\n",
        "    filtered_dataset.drop(columns=['annotator', 'sequence', 'ROI_ID', 'ROI','img_path', 'seg_path', 'extraction_ID'], inplace=True)\n",
        "    dataset = filtered_dataset\n",
        "\n",
        "    return dataset"
      ]
    },
    {
      "cell_type": "code",
      "execution_count": 7,
      "id": "700a59d5",
      "metadata": {
        "id": "700a59d5"
      },
      "outputs": [],
      "source": [
        "def polyjuice_getter(sequence, dataset):\n",
        "    polyjuice_dataset = None\n",
        "    filtered_dataset = dataset[dataset['annotator'] == 'AI']\n",
        "    filtered_dataset = filtered_dataset[filtered_dataset['ROI'] == 'lesion']\n",
        "    filtered_dataset.drop(columns=['annotator', 'ROI_ID', 'ROI','img_path', 'seg_path', 'extraction_ID'], inplace=True)\n",
        "\n",
        "    for index, s in enumerate(sequence):\n",
        "        s_dataset = filtered_dataset[filtered_dataset['sequence'] == s]\n",
        "        s_dataset = s_dataset.drop(columns=['sequence'])\n",
        "        for col in s_dataset.columns:\n",
        "            if col != 'patient_ID' and col != 'study_ID':\n",
        "                s_dataset = s_dataset.rename(columns={col : str(col + '_' + s)})\n",
        "        if index == 0:\n",
        "            polyjuice_dataset = s_dataset\n",
        "        else:\n",
        "            polyjuice_dataset = pd.merge(polyjuice_dataset, s_dataset, on=['patient_ID', 'study_ID'], how='inner')\n",
        "\n",
        "    return polyjuice_dataset"
      ]
    },
    {
      "cell_type": "code",
      "execution_count": 8,
      "id": "8a0638c8",
      "metadata": {
        "id": "8a0638c8"
      },
      "outputs": [],
      "source": [
        "SingleSequence = Literal['t2w', 'adc', 'hbv']\n",
        "\n",
        "\n",
        "def get_data(sequence : SingleSequence | str | list[str], isup_class1 : list[int] = [0, 1, 2], isup_class2 : list[int] = [3, 4, 5], corr_cutoff=0.9):\n",
        "    '''\n",
        "    @param squence : What sequence do you want to study. A list of multiple sequence will also work!\n",
        "    @param isup_class1 : What ISUP values do you want in the first class\n",
        "    @param isup_class2 : What ISUP values do you want in the second class\n",
        "    @param corr_cutoff : The value to cutoff high correlated features\n",
        "\n",
        "    @return pd.DataFrame : a new columns 'is_class1' is added, specofing if the row is in class1\n",
        "\n",
        "    Please read the code and the comments, especially the one at the bottom! Some unwanted columns may still be present\n",
        "    '''\n",
        "\n",
        "    is_polyjuice = None\n",
        "    if is_list_of_strings(sequence):\n",
        "        # Is a vector and not a string\n",
        "        if len(sequence) > 1:\n",
        "            # Len > 1 so we are in a polyjuice (mix)\n",
        "            is_polyjuice = True\n",
        "        else:\n",
        "            is_polyjuice = False\n",
        "    else:\n",
        "        is_polyjuice = False\n",
        "\n",
        "    labels = pd.read_csv('marksheet.csv')\n",
        "    dataset = pd.read_csv('PI-CAI_features')\n",
        "\n",
        "    new_dataset = None\n",
        "    if is_polyjuice == False:\n",
        "        new_dataset = no_polyjuice_getter(sequence, dataset)\n",
        "    else:\n",
        "        new_dataset = polyjuice_getter(sequence, dataset)\n",
        "\n",
        "\n",
        "    # The commented code below was an assumption requested in earlier version of this code, just uncomment if needed\n",
        "    # We only want Magnetic Resonace Biopsy (MRBx) labels because Systematic Biopsy (SBx) labels are not for our usecase\n",
        "    # we also remove those that have both because clicinians result might be biased\n",
        "    #labels = labels[labels['histopath_type'] == 'MRBx']\n",
        "\n",
        "\n",
        "    labels.rename(columns={'patient_id': 'patient_ID', 'study_id': 'study_ID'}, inplace=True)\n",
        "    labels.drop(columns=['mri_date', 'histopath_type', 'center', 'lesion_ISUP', 'lesion_GS'], inplace=True)\n",
        "\n",
        "\n",
        "    # Remove high correlated features\n",
        "    corr_matrix = new_dataset.drop(columns=['study_ID', 'patient_ID']).corr().abs()\n",
        "    upper = corr_matrix.where(np.triu(np.ones(corr_matrix.shape), k=1).astype(bool))\n",
        "    to_drop = [column for column in upper.columns if any(upper[column] > corr_cutoff)]\n",
        "    new_dataset.drop(to_drop, axis=1, inplace=True)\n",
        "\n",
        "\n",
        "    # Drop missing values, perhaps a better way might be useful. What about KNNImputer? If so, maybe checking that we don't miss much values before imputing new ones\n",
        "    labels.dropna(inplace=True)\n",
        "\n",
        "    # Rename Yes to 1 and No to 0 in the labels dataset\n",
        "    labels.case_csPCa = labels.case_csPCa.map(lambda x: 1 if x == 'YES' else 0)      # Is this line really useful??? Maybe we just need to drop this column\n",
        "\n",
        "    merge = pd.merge(new_dataset, labels, on=['patient_ID', 'study_ID'], how='inner')\n",
        "    merge.drop(columns=['patient_ID', 'study_ID'], inplace=True)\n",
        "\n",
        "    isup = 'case_ISUP'\n",
        "\n",
        "\n",
        "    if sum(isup_class1 + isup_class2) == 15 and len(isup_class1 + isup_class2) == 6:\n",
        "        # class1 and class2 contains all possible values (from 0 to 5)\n",
        "        merge['is_class1'] = merge[isup].map(lambda x: 1 if x in isup_class1 else 0)\n",
        "    else:\n",
        "        # class1 and class2 don't contain all possible values, so we need to drop some\n",
        "        merge = merge[merge[isup].isin(isup_class1 + isup_class2)]\n",
        "        merge['is_class1'] = merge[isup].map(lambda x: 1 if x in isup_class1 else 0)\n",
        "\n",
        "    # IMPORTANT, README\n",
        "    # Probably we need to drop case_ISUP and case_csPCa\n",
        "\n",
        "\n",
        "    return merge\n",
        "\n"
      ]
    },
    {
      "cell_type": "code",
      "execution_count": 9,
      "id": "20ae40de",
      "metadata": {
        "colab": {
          "base_uri": "https://localhost:8080/",
          "height": 458
        },
        "id": "20ae40de",
        "outputId": "ab6e9cd7-1e1b-467d-d9ac-98afec3688c9"
      },
      "outputs": [
        {
          "output_type": "execute_result",
          "data": {
            "text/plain": [
              "0      0\n",
              "1      0\n",
              "2      1\n",
              "3      1\n",
              "4      1\n",
              "      ..\n",
              "276    0\n",
              "277    0\n",
              "278    1\n",
              "279    1\n",
              "280    0\n",
              "Name: is_class1, Length: 281, dtype: int64"
            ],
            "text/html": [
              "<div>\n",
              "<style scoped>\n",
              "    .dataframe tbody tr th:only-of-type {\n",
              "        vertical-align: middle;\n",
              "    }\n",
              "\n",
              "    .dataframe tbody tr th {\n",
              "        vertical-align: top;\n",
              "    }\n",
              "\n",
              "    .dataframe thead th {\n",
              "        text-align: right;\n",
              "    }\n",
              "</style>\n",
              "<table border=\"1\" class=\"dataframe\">\n",
              "  <thead>\n",
              "    <tr style=\"text-align: right;\">\n",
              "      <th></th>\n",
              "      <th>is_class1</th>\n",
              "    </tr>\n",
              "  </thead>\n",
              "  <tbody>\n",
              "    <tr>\n",
              "      <th>0</th>\n",
              "      <td>0</td>\n",
              "    </tr>\n",
              "    <tr>\n",
              "      <th>1</th>\n",
              "      <td>0</td>\n",
              "    </tr>\n",
              "    <tr>\n",
              "      <th>2</th>\n",
              "      <td>1</td>\n",
              "    </tr>\n",
              "    <tr>\n",
              "      <th>3</th>\n",
              "      <td>1</td>\n",
              "    </tr>\n",
              "    <tr>\n",
              "      <th>4</th>\n",
              "      <td>1</td>\n",
              "    </tr>\n",
              "    <tr>\n",
              "      <th>...</th>\n",
              "      <td>...</td>\n",
              "    </tr>\n",
              "    <tr>\n",
              "      <th>276</th>\n",
              "      <td>0</td>\n",
              "    </tr>\n",
              "    <tr>\n",
              "      <th>277</th>\n",
              "      <td>0</td>\n",
              "    </tr>\n",
              "    <tr>\n",
              "      <th>278</th>\n",
              "      <td>1</td>\n",
              "    </tr>\n",
              "    <tr>\n",
              "      <th>279</th>\n",
              "      <td>1</td>\n",
              "    </tr>\n",
              "    <tr>\n",
              "      <th>280</th>\n",
              "      <td>0</td>\n",
              "    </tr>\n",
              "  </tbody>\n",
              "</table>\n",
              "<p>281 rows × 1 columns</p>\n",
              "</div><br><label><b>dtype:</b> int64</label>"
            ]
          },
          "metadata": {},
          "execution_count": 9
        }
      ],
      "source": [
        "edited = get_data(['t2w', 'adc'])\n",
        "\n",
        "edited['is_class1']"
      ]
    },
    {
      "cell_type": "code",
      "source": [
        "print(edited.shape[1])"
      ],
      "metadata": {
        "colab": {
          "base_uri": "https://localhost:8080/"
        },
        "id": "b52GEploA7-k",
        "outputId": "df474268-6e91-4d38-ee6f-f428d31b1e10"
      },
      "id": "b52GEploA7-k",
      "execution_count": 10,
      "outputs": [
        {
          "output_type": "stream",
          "name": "stdout",
          "text": [
            "618\n"
          ]
        }
      ]
    },
    {
      "cell_type": "markdown",
      "source": [
        "## ELIMINAZIONE VARIABILI CON CORRELAZIONE > DI 0,9"
      ],
      "metadata": {
        "id": "FbbI8a8LoEWO"
      },
      "id": "FbbI8a8LoEWO"
    },
    {
      "cell_type": "code",
      "source": [
        "X = edited.drop(columns=['case_ISUP', 'is_class1'])\n",
        "y = edited['is_class1']\n",
        "\n",
        "# Rimuovi feature altamente correlate\n",
        "corr_matrix = X.corr().abs()\n",
        "upper = corr_matrix.where(np.triu(np.ones(corr_matrix.shape), k=1).astype(bool))\n",
        "to_drop = [column for column in upper.columns if any(upper[column] > 0.9)]\n",
        "X = X.drop(columns=to_drop)\n",
        "\n",
        "print(\"Feature rimosse:\", to_drop)\n"
      ],
      "metadata": {
        "colab": {
          "base_uri": "https://localhost:8080/"
        },
        "id": "UopZ99VbnscW",
        "outputId": "a953b114-f880-4ac9-8fc2-8a975b92381f"
      },
      "id": "UopZ99VbnscW",
      "execution_count": 11,
      "outputs": [
        {
          "output_type": "stream",
          "name": "stdout",
          "text": [
            "Feature rimosse: ['original_shape_MeshVolume_t2w', 'log-sigma-3-0-mm-3D_glszm_LargeAreaHighGrayLevelEmphasis_t2w', 'log-sigma-3-0-mm-3D_gldm_SmallDependenceLowGrayLevelEmphasis_t2w', 'wavelet-LLH_glrlm_LongRunEmphasis_t2w', 'wavelet-LHL_glszm_LargeAreaEmphasis_t2w', 'wavelet-LHH_glszm_LargeAreaEmphasis_t2w', 'wavelet-HLH_firstorder_InterquartileRange_t2w', 'wavelet-HHL_glszm_LargeAreaHighGrayLevelEmphasis_t2w', 'original_ngtdm_Contrast_adc', 'log-sigma-5-0-mm-3D_firstorder_Mean_adc', 'log-sigma-5-0-mm-3D_glszm_LargeAreaHighGrayLevelEmphasis_adc', 'wavelet-LLH_firstorder_RootMeanSquared_adc', 'wavelet-LLH_glcm_Imc2_adc', 'wavelet-LHL_glrlm_LongRunEmphasis_adc', 'wavelet-LHH_glszm_LargeAreaEmphasis_adc', 'wavelet-LHH_glszm_LargeAreaLowGrayLevelEmphasis_adc', 'wavelet-HLH_glszm_LargeAreaHighGrayLevelEmphasis_adc', 'wavelet-HHL_glcm_Imc2_adc', 'wavelet-HHL_glszm_LargeAreaEmphasis_adc', 'wavelet-HHL_glszm_LargeAreaHighGrayLevelEmphasis_adc', 'wavelet-HHL_glszm_LargeAreaLowGrayLevelEmphasis_adc', 'wavelet-HHH_glcm_DifferenceEntropy_adc', 'wavelet-HHH_glcm_Imc2_adc']\n"
          ]
        }
      ]
    },
    {
      "cell_type": "code",
      "source": [
        "print(X.shape[1])"
      ],
      "metadata": {
        "colab": {
          "base_uri": "https://localhost:8080/"
        },
        "id": "MZIJipWknvhw",
        "outputId": "ee733d8d-d4e2-4e70-c16f-d73bb9dbc913"
      },
      "id": "MZIJipWknvhw",
      "execution_count": 12,
      "outputs": [
        {
          "output_type": "stream",
          "name": "stdout",
          "text": [
            "593\n"
          ]
        }
      ]
    },
    {
      "cell_type": "code",
      "source": [
        "from sklearn.model_selection import train_test_split\n",
        "from sklearn.preprocessing import StandardScaler\n",
        "\n",
        "\n",
        "\n",
        "# Normalizzazione\n",
        "scaler = StandardScaler()\n",
        "X_scaled = scaler.fit_transform(X)\n",
        "\n",
        "# Suddivisione in training e test set\n",
        "X_train, X_test, y_train, y_test = train_test_split(X_scaled, y, test_size=0.2, random_state=42)"
      ],
      "metadata": {
        "id": "UH3FQ12xci-g"
      },
      "id": "UH3FQ12xci-g",
      "execution_count": 13,
      "outputs": []
    },
    {
      "cell_type": "markdown",
      "source": [
        "## Insieme di modelli e performance"
      ],
      "metadata": {
        "id": "rYASL3dA03bP"
      },
      "id": "rYASL3dA03bP"
    },
    {
      "cell_type": "code",
      "source": [
        "from sklearn.datasets import make_classification\n",
        "from sklearn.linear_model import LogisticRegression # Import LogisticRegression\n",
        "from sklearn.ensemble import RandomForestClassifier # Import RandomForestClassifier\n",
        "from sklearn.svm import SVC # Import SVC\n",
        "\n",
        "\n",
        "# Caricamento e preparazione dei dati (simulazione per contesto)\n",
        "# Nota: qui uso dati simulati, ma nel tuo notebook dovresti ricaricare o rigenerare `edited`\n",
        "# X = edited.drop(columns=['is_class1'])\n",
        "# y = edited['is_class1']\n",
        "\n",
        "# Per poter procedere, creerò un mock temporaneo di `edited` per simulare il contesto\n",
        "# Questo blocco dovrai sostituirlo con il tuo vero DataFrame `edited`\n",
        "from sklearn.datasets import make_classification\n",
        "\n",
        "# Creazione di un dataset fittizio simile per esempio\n",
        "\n",
        "# Standardizzazione\n",
        "scaler = StandardScaler()\n",
        "X_scaled = scaler.fit_transform(X)\n",
        "\n",
        "# Suddivisione in training e test set\n",
        "X_train, X_test, y_train, y_test = train_test_split(X_scaled, y, test_size=0.2, random_state=42)\n",
        "\n",
        "# Modelli\n",
        "model_lr = LogisticRegression(max_iter=1000)\n",
        "model_rf = RandomForestClassifier(random_state=42)\n",
        "model_svm = SVC(kernel='linear')\n",
        "\n",
        "# Addestramento\n",
        "model_lr.fit(X_train, y_train)\n",
        "model_rf.fit(X_train, y_train)\n",
        "model_svm.fit(X_train, y_train)\n",
        "\n",
        "# Importanza feature - Logistic Regression\n",
        "coef_lr = model_lr.coef_[0]\n",
        "importance_lr = pd.DataFrame({\n",
        "    'Feature': X.columns,\n",
        "    'Importance': np.abs(coef_lr),\n",
        "    'Model': 'Logistic Regression'\n",
        "}).sort_values(by='Importance', ascending=False).head(10)\n",
        "\n",
        "# Importanza feature - Random Forest\n",
        "importance_rf = pd.DataFrame({\n",
        "    'Feature': X.columns,\n",
        "    'Importance': model_rf.feature_importances_,\n",
        "    'Model': 'Random Forest'\n",
        "}).sort_values(by='Importance', ascending=False).head(10)\n",
        "\n",
        "# Importanza feature - SVM\n",
        "coef_svm = model_svm.coef_[0]\n",
        "importance_svm = pd.DataFrame({\n",
        "    'Feature': X.columns,\n",
        "    'Importance': np.abs(coef_svm),\n",
        "    'Model': 'SVM'\n",
        "}).sort_values(by='Importance', ascending=False).head(10)\n",
        "\n",
        "# Concatenazione dei risultati\n",
        "top_features_all = pd.concat([importance_lr, importance_rf, importance_svm])\n",
        "top_features_all.reset_index(drop=True, inplace=True)\n",
        "top_features_all\n"
      ],
      "metadata": {
        "colab": {
          "base_uri": "https://localhost:8080/",
          "height": 990
        },
        "id": "TR73z30X5L60",
        "outputId": "4ee40659-2496-4a16-ed10-e0e32b417c7e"
      },
      "id": "TR73z30X5L60",
      "execution_count": 14,
      "outputs": [
        {
          "output_type": "execute_result",
          "data": {
            "text/plain": [
              "                                              Feature  Importance  \\\n",
              "0                 wavelet-LLL_firstorder_Kurtosis_t2w    0.738340   \n",
              "1                                                 psa    0.700327   \n",
              "2                                                psad    0.670014   \n",
              "3                 wavelet-LLL_firstorder_Kurtosis_adc    0.661221   \n",
              "4   original_glszm_SizeZoneNonUniformityNormalized...    0.644687   \n",
              "5     log-sigma-5-0-mm-3D_glszm_SmallAreaEmphasis_t2w    0.641483   \n",
              "6                  wavelet-LHH_firstorder_Minimum_t2w    0.607702   \n",
              "7   wavelet-HLH_gldm_LargeDependenceLowGrayLevelEm...    0.595841   \n",
              "8   wavelet-HHL_glszm_SmallAreaLowGrayLevelEmphasi...    0.586291   \n",
              "9      log-sigma-5-0-mm-3D_glcm_ClusterProminence_adc    0.557202   \n",
              "10  wavelet-LHH_gldm_LargeDependenceLowGrayLevelEm...    0.013306   \n",
              "11                 wavelet-LHH_firstorder_Minimum_t2w    0.011484   \n",
              "12                wavelet-LLH_firstorder_Skewness_adc    0.006186   \n",
              "13                 wavelet-LLH_firstorder_Maximum_t2w    0.005749   \n",
              "14                  wavelet-HLH_glcm_ClusterShade_adc    0.005607   \n",
              "15                     wavelet-LHH_ngtdm_Busyness_t2w    0.005496   \n",
              "16                                               psad    0.005434   \n",
              "17                    wavelet-HLH_firstorder_Mean_adc    0.005281   \n",
              "18  wavelet-LHH_gldm_LargeDependenceHighGrayLevelE...    0.004914   \n",
              "19               original_firstorder_90Percentile_adc    0.004797   \n",
              "20                wavelet-LLL_firstorder_Kurtosis_t2w    0.311481   \n",
              "21  original_glszm_SizeZoneNonUniformityNormalized...    0.273818   \n",
              "22  wavelet-HHL_glszm_SmallAreaLowGrayLevelEmphasi...    0.255661   \n",
              "23                wavelet-LLL_firstorder_Kurtosis_adc    0.249406   \n",
              "24                                                psa    0.242634   \n",
              "25    log-sigma-5-0-mm-3D_glszm_SmallAreaEmphasis_t2w    0.240906   \n",
              "26                                               psad    0.214313   \n",
              "27  wavelet-LHL_glszm_SizeZoneNonUniformityNormali...    0.210488   \n",
              "28                 wavelet-LHH_firstorder_Minimum_t2w    0.207369   \n",
              "29                   original_firstorder_Skewness_t2w    0.203102   \n",
              "\n",
              "                  Model  \n",
              "0   Logistic Regression  \n",
              "1   Logistic Regression  \n",
              "2   Logistic Regression  \n",
              "3   Logistic Regression  \n",
              "4   Logistic Regression  \n",
              "5   Logistic Regression  \n",
              "6   Logistic Regression  \n",
              "7   Logistic Regression  \n",
              "8   Logistic Regression  \n",
              "9   Logistic Regression  \n",
              "10        Random Forest  \n",
              "11        Random Forest  \n",
              "12        Random Forest  \n",
              "13        Random Forest  \n",
              "14        Random Forest  \n",
              "15        Random Forest  \n",
              "16        Random Forest  \n",
              "17        Random Forest  \n",
              "18        Random Forest  \n",
              "19        Random Forest  \n",
              "20                  SVM  \n",
              "21                  SVM  \n",
              "22                  SVM  \n",
              "23                  SVM  \n",
              "24                  SVM  \n",
              "25                  SVM  \n",
              "26                  SVM  \n",
              "27                  SVM  \n",
              "28                  SVM  \n",
              "29                  SVM  "
            ],
            "text/html": [
              "\n",
              "  <div id=\"df-f83091d1-c486-4845-8c4b-22e20cff06c9\" class=\"colab-df-container\">\n",
              "    <div>\n",
              "<style scoped>\n",
              "    .dataframe tbody tr th:only-of-type {\n",
              "        vertical-align: middle;\n",
              "    }\n",
              "\n",
              "    .dataframe tbody tr th {\n",
              "        vertical-align: top;\n",
              "    }\n",
              "\n",
              "    .dataframe thead th {\n",
              "        text-align: right;\n",
              "    }\n",
              "</style>\n",
              "<table border=\"1\" class=\"dataframe\">\n",
              "  <thead>\n",
              "    <tr style=\"text-align: right;\">\n",
              "      <th></th>\n",
              "      <th>Feature</th>\n",
              "      <th>Importance</th>\n",
              "      <th>Model</th>\n",
              "    </tr>\n",
              "  </thead>\n",
              "  <tbody>\n",
              "    <tr>\n",
              "      <th>0</th>\n",
              "      <td>wavelet-LLL_firstorder_Kurtosis_t2w</td>\n",
              "      <td>0.738340</td>\n",
              "      <td>Logistic Regression</td>\n",
              "    </tr>\n",
              "    <tr>\n",
              "      <th>1</th>\n",
              "      <td>psa</td>\n",
              "      <td>0.700327</td>\n",
              "      <td>Logistic Regression</td>\n",
              "    </tr>\n",
              "    <tr>\n",
              "      <th>2</th>\n",
              "      <td>psad</td>\n",
              "      <td>0.670014</td>\n",
              "      <td>Logistic Regression</td>\n",
              "    </tr>\n",
              "    <tr>\n",
              "      <th>3</th>\n",
              "      <td>wavelet-LLL_firstorder_Kurtosis_adc</td>\n",
              "      <td>0.661221</td>\n",
              "      <td>Logistic Regression</td>\n",
              "    </tr>\n",
              "    <tr>\n",
              "      <th>4</th>\n",
              "      <td>original_glszm_SizeZoneNonUniformityNormalized...</td>\n",
              "      <td>0.644687</td>\n",
              "      <td>Logistic Regression</td>\n",
              "    </tr>\n",
              "    <tr>\n",
              "      <th>5</th>\n",
              "      <td>log-sigma-5-0-mm-3D_glszm_SmallAreaEmphasis_t2w</td>\n",
              "      <td>0.641483</td>\n",
              "      <td>Logistic Regression</td>\n",
              "    </tr>\n",
              "    <tr>\n",
              "      <th>6</th>\n",
              "      <td>wavelet-LHH_firstorder_Minimum_t2w</td>\n",
              "      <td>0.607702</td>\n",
              "      <td>Logistic Regression</td>\n",
              "    </tr>\n",
              "    <tr>\n",
              "      <th>7</th>\n",
              "      <td>wavelet-HLH_gldm_LargeDependenceLowGrayLevelEm...</td>\n",
              "      <td>0.595841</td>\n",
              "      <td>Logistic Regression</td>\n",
              "    </tr>\n",
              "    <tr>\n",
              "      <th>8</th>\n",
              "      <td>wavelet-HHL_glszm_SmallAreaLowGrayLevelEmphasi...</td>\n",
              "      <td>0.586291</td>\n",
              "      <td>Logistic Regression</td>\n",
              "    </tr>\n",
              "    <tr>\n",
              "      <th>9</th>\n",
              "      <td>log-sigma-5-0-mm-3D_glcm_ClusterProminence_adc</td>\n",
              "      <td>0.557202</td>\n",
              "      <td>Logistic Regression</td>\n",
              "    </tr>\n",
              "    <tr>\n",
              "      <th>10</th>\n",
              "      <td>wavelet-LHH_gldm_LargeDependenceLowGrayLevelEm...</td>\n",
              "      <td>0.013306</td>\n",
              "      <td>Random Forest</td>\n",
              "    </tr>\n",
              "    <tr>\n",
              "      <th>11</th>\n",
              "      <td>wavelet-LHH_firstorder_Minimum_t2w</td>\n",
              "      <td>0.011484</td>\n",
              "      <td>Random Forest</td>\n",
              "    </tr>\n",
              "    <tr>\n",
              "      <th>12</th>\n",
              "      <td>wavelet-LLH_firstorder_Skewness_adc</td>\n",
              "      <td>0.006186</td>\n",
              "      <td>Random Forest</td>\n",
              "    </tr>\n",
              "    <tr>\n",
              "      <th>13</th>\n",
              "      <td>wavelet-LLH_firstorder_Maximum_t2w</td>\n",
              "      <td>0.005749</td>\n",
              "      <td>Random Forest</td>\n",
              "    </tr>\n",
              "    <tr>\n",
              "      <th>14</th>\n",
              "      <td>wavelet-HLH_glcm_ClusterShade_adc</td>\n",
              "      <td>0.005607</td>\n",
              "      <td>Random Forest</td>\n",
              "    </tr>\n",
              "    <tr>\n",
              "      <th>15</th>\n",
              "      <td>wavelet-LHH_ngtdm_Busyness_t2w</td>\n",
              "      <td>0.005496</td>\n",
              "      <td>Random Forest</td>\n",
              "    </tr>\n",
              "    <tr>\n",
              "      <th>16</th>\n",
              "      <td>psad</td>\n",
              "      <td>0.005434</td>\n",
              "      <td>Random Forest</td>\n",
              "    </tr>\n",
              "    <tr>\n",
              "      <th>17</th>\n",
              "      <td>wavelet-HLH_firstorder_Mean_adc</td>\n",
              "      <td>0.005281</td>\n",
              "      <td>Random Forest</td>\n",
              "    </tr>\n",
              "    <tr>\n",
              "      <th>18</th>\n",
              "      <td>wavelet-LHH_gldm_LargeDependenceHighGrayLevelE...</td>\n",
              "      <td>0.004914</td>\n",
              "      <td>Random Forest</td>\n",
              "    </tr>\n",
              "    <tr>\n",
              "      <th>19</th>\n",
              "      <td>original_firstorder_90Percentile_adc</td>\n",
              "      <td>0.004797</td>\n",
              "      <td>Random Forest</td>\n",
              "    </tr>\n",
              "    <tr>\n",
              "      <th>20</th>\n",
              "      <td>wavelet-LLL_firstorder_Kurtosis_t2w</td>\n",
              "      <td>0.311481</td>\n",
              "      <td>SVM</td>\n",
              "    </tr>\n",
              "    <tr>\n",
              "      <th>21</th>\n",
              "      <td>original_glszm_SizeZoneNonUniformityNormalized...</td>\n",
              "      <td>0.273818</td>\n",
              "      <td>SVM</td>\n",
              "    </tr>\n",
              "    <tr>\n",
              "      <th>22</th>\n",
              "      <td>wavelet-HHL_glszm_SmallAreaLowGrayLevelEmphasi...</td>\n",
              "      <td>0.255661</td>\n",
              "      <td>SVM</td>\n",
              "    </tr>\n",
              "    <tr>\n",
              "      <th>23</th>\n",
              "      <td>wavelet-LLL_firstorder_Kurtosis_adc</td>\n",
              "      <td>0.249406</td>\n",
              "      <td>SVM</td>\n",
              "    </tr>\n",
              "    <tr>\n",
              "      <th>24</th>\n",
              "      <td>psa</td>\n",
              "      <td>0.242634</td>\n",
              "      <td>SVM</td>\n",
              "    </tr>\n",
              "    <tr>\n",
              "      <th>25</th>\n",
              "      <td>log-sigma-5-0-mm-3D_glszm_SmallAreaEmphasis_t2w</td>\n",
              "      <td>0.240906</td>\n",
              "      <td>SVM</td>\n",
              "    </tr>\n",
              "    <tr>\n",
              "      <th>26</th>\n",
              "      <td>psad</td>\n",
              "      <td>0.214313</td>\n",
              "      <td>SVM</td>\n",
              "    </tr>\n",
              "    <tr>\n",
              "      <th>27</th>\n",
              "      <td>wavelet-LHL_glszm_SizeZoneNonUniformityNormali...</td>\n",
              "      <td>0.210488</td>\n",
              "      <td>SVM</td>\n",
              "    </tr>\n",
              "    <tr>\n",
              "      <th>28</th>\n",
              "      <td>wavelet-LHH_firstorder_Minimum_t2w</td>\n",
              "      <td>0.207369</td>\n",
              "      <td>SVM</td>\n",
              "    </tr>\n",
              "    <tr>\n",
              "      <th>29</th>\n",
              "      <td>original_firstorder_Skewness_t2w</td>\n",
              "      <td>0.203102</td>\n",
              "      <td>SVM</td>\n",
              "    </tr>\n",
              "  </tbody>\n",
              "</table>\n",
              "</div>\n",
              "    <div class=\"colab-df-buttons\">\n",
              "\n",
              "  <div class=\"colab-df-container\">\n",
              "    <button class=\"colab-df-convert\" onclick=\"convertToInteractive('df-f83091d1-c486-4845-8c4b-22e20cff06c9')\"\n",
              "            title=\"Convert this dataframe to an interactive table.\"\n",
              "            style=\"display:none;\">\n",
              "\n",
              "  <svg xmlns=\"http://www.w3.org/2000/svg\" height=\"24px\" viewBox=\"0 -960 960 960\">\n",
              "    <path d=\"M120-120v-720h720v720H120Zm60-500h600v-160H180v160Zm220 220h160v-160H400v160Zm0 220h160v-160H400v160ZM180-400h160v-160H180v160Zm440 0h160v-160H620v160ZM180-180h160v-160H180v160Zm440 0h160v-160H620v160Z\"/>\n",
              "  </svg>\n",
              "    </button>\n",
              "\n",
              "  <style>\n",
              "    .colab-df-container {\n",
              "      display:flex;\n",
              "      gap: 12px;\n",
              "    }\n",
              "\n",
              "    .colab-df-convert {\n",
              "      background-color: #E8F0FE;\n",
              "      border: none;\n",
              "      border-radius: 50%;\n",
              "      cursor: pointer;\n",
              "      display: none;\n",
              "      fill: #1967D2;\n",
              "      height: 32px;\n",
              "      padding: 0 0 0 0;\n",
              "      width: 32px;\n",
              "    }\n",
              "\n",
              "    .colab-df-convert:hover {\n",
              "      background-color: #E2EBFA;\n",
              "      box-shadow: 0px 1px 2px rgba(60, 64, 67, 0.3), 0px 1px 3px 1px rgba(60, 64, 67, 0.15);\n",
              "      fill: #174EA6;\n",
              "    }\n",
              "\n",
              "    .colab-df-buttons div {\n",
              "      margin-bottom: 4px;\n",
              "    }\n",
              "\n",
              "    [theme=dark] .colab-df-convert {\n",
              "      background-color: #3B4455;\n",
              "      fill: #D2E3FC;\n",
              "    }\n",
              "\n",
              "    [theme=dark] .colab-df-convert:hover {\n",
              "      background-color: #434B5C;\n",
              "      box-shadow: 0px 1px 3px 1px rgba(0, 0, 0, 0.15);\n",
              "      filter: drop-shadow(0px 1px 2px rgba(0, 0, 0, 0.3));\n",
              "      fill: #FFFFFF;\n",
              "    }\n",
              "  </style>\n",
              "\n",
              "    <script>\n",
              "      const buttonEl =\n",
              "        document.querySelector('#df-f83091d1-c486-4845-8c4b-22e20cff06c9 button.colab-df-convert');\n",
              "      buttonEl.style.display =\n",
              "        google.colab.kernel.accessAllowed ? 'block' : 'none';\n",
              "\n",
              "      async function convertToInteractive(key) {\n",
              "        const element = document.querySelector('#df-f83091d1-c486-4845-8c4b-22e20cff06c9');\n",
              "        const dataTable =\n",
              "          await google.colab.kernel.invokeFunction('convertToInteractive',\n",
              "                                                    [key], {});\n",
              "        if (!dataTable) return;\n",
              "\n",
              "        const docLinkHtml = 'Like what you see? Visit the ' +\n",
              "          '<a target=\"_blank\" href=https://colab.research.google.com/notebooks/data_table.ipynb>data table notebook</a>'\n",
              "          + ' to learn more about interactive tables.';\n",
              "        element.innerHTML = '';\n",
              "        dataTable['output_type'] = 'display_data';\n",
              "        await google.colab.output.renderOutput(dataTable, element);\n",
              "        const docLink = document.createElement('div');\n",
              "        docLink.innerHTML = docLinkHtml;\n",
              "        element.appendChild(docLink);\n",
              "      }\n",
              "    </script>\n",
              "  </div>\n",
              "\n",
              "\n",
              "    <div id=\"df-23bd93ae-dac9-4433-aec2-9a65c04fa3fc\">\n",
              "      <button class=\"colab-df-quickchart\" onclick=\"quickchart('df-23bd93ae-dac9-4433-aec2-9a65c04fa3fc')\"\n",
              "                title=\"Suggest charts\"\n",
              "                style=\"display:none;\">\n",
              "\n",
              "<svg xmlns=\"http://www.w3.org/2000/svg\" height=\"24px\"viewBox=\"0 0 24 24\"\n",
              "     width=\"24px\">\n",
              "    <g>\n",
              "        <path d=\"M19 3H5c-1.1 0-2 .9-2 2v14c0 1.1.9 2 2 2h14c1.1 0 2-.9 2-2V5c0-1.1-.9-2-2-2zM9 17H7v-7h2v7zm4 0h-2V7h2v10zm4 0h-2v-4h2v4z\"/>\n",
              "    </g>\n",
              "</svg>\n",
              "      </button>\n",
              "\n",
              "<style>\n",
              "  .colab-df-quickchart {\n",
              "      --bg-color: #E8F0FE;\n",
              "      --fill-color: #1967D2;\n",
              "      --hover-bg-color: #E2EBFA;\n",
              "      --hover-fill-color: #174EA6;\n",
              "      --disabled-fill-color: #AAA;\n",
              "      --disabled-bg-color: #DDD;\n",
              "  }\n",
              "\n",
              "  [theme=dark] .colab-df-quickchart {\n",
              "      --bg-color: #3B4455;\n",
              "      --fill-color: #D2E3FC;\n",
              "      --hover-bg-color: #434B5C;\n",
              "      --hover-fill-color: #FFFFFF;\n",
              "      --disabled-bg-color: #3B4455;\n",
              "      --disabled-fill-color: #666;\n",
              "  }\n",
              "\n",
              "  .colab-df-quickchart {\n",
              "    background-color: var(--bg-color);\n",
              "    border: none;\n",
              "    border-radius: 50%;\n",
              "    cursor: pointer;\n",
              "    display: none;\n",
              "    fill: var(--fill-color);\n",
              "    height: 32px;\n",
              "    padding: 0;\n",
              "    width: 32px;\n",
              "  }\n",
              "\n",
              "  .colab-df-quickchart:hover {\n",
              "    background-color: var(--hover-bg-color);\n",
              "    box-shadow: 0 1px 2px rgba(60, 64, 67, 0.3), 0 1px 3px 1px rgba(60, 64, 67, 0.15);\n",
              "    fill: var(--button-hover-fill-color);\n",
              "  }\n",
              "\n",
              "  .colab-df-quickchart-complete:disabled,\n",
              "  .colab-df-quickchart-complete:disabled:hover {\n",
              "    background-color: var(--disabled-bg-color);\n",
              "    fill: var(--disabled-fill-color);\n",
              "    box-shadow: none;\n",
              "  }\n",
              "\n",
              "  .colab-df-spinner {\n",
              "    border: 2px solid var(--fill-color);\n",
              "    border-color: transparent;\n",
              "    border-bottom-color: var(--fill-color);\n",
              "    animation:\n",
              "      spin 1s steps(1) infinite;\n",
              "  }\n",
              "\n",
              "  @keyframes spin {\n",
              "    0% {\n",
              "      border-color: transparent;\n",
              "      border-bottom-color: var(--fill-color);\n",
              "      border-left-color: var(--fill-color);\n",
              "    }\n",
              "    20% {\n",
              "      border-color: transparent;\n",
              "      border-left-color: var(--fill-color);\n",
              "      border-top-color: var(--fill-color);\n",
              "    }\n",
              "    30% {\n",
              "      border-color: transparent;\n",
              "      border-left-color: var(--fill-color);\n",
              "      border-top-color: var(--fill-color);\n",
              "      border-right-color: var(--fill-color);\n",
              "    }\n",
              "    40% {\n",
              "      border-color: transparent;\n",
              "      border-right-color: var(--fill-color);\n",
              "      border-top-color: var(--fill-color);\n",
              "    }\n",
              "    60% {\n",
              "      border-color: transparent;\n",
              "      border-right-color: var(--fill-color);\n",
              "    }\n",
              "    80% {\n",
              "      border-color: transparent;\n",
              "      border-right-color: var(--fill-color);\n",
              "      border-bottom-color: var(--fill-color);\n",
              "    }\n",
              "    90% {\n",
              "      border-color: transparent;\n",
              "      border-bottom-color: var(--fill-color);\n",
              "    }\n",
              "  }\n",
              "</style>\n",
              "\n",
              "      <script>\n",
              "        async function quickchart(key) {\n",
              "          const quickchartButtonEl =\n",
              "            document.querySelector('#' + key + ' button');\n",
              "          quickchartButtonEl.disabled = true;  // To prevent multiple clicks.\n",
              "          quickchartButtonEl.classList.add('colab-df-spinner');\n",
              "          try {\n",
              "            const charts = await google.colab.kernel.invokeFunction(\n",
              "                'suggestCharts', [key], {});\n",
              "          } catch (error) {\n",
              "            console.error('Error during call to suggestCharts:', error);\n",
              "          }\n",
              "          quickchartButtonEl.classList.remove('colab-df-spinner');\n",
              "          quickchartButtonEl.classList.add('colab-df-quickchart-complete');\n",
              "        }\n",
              "        (() => {\n",
              "          let quickchartButtonEl =\n",
              "            document.querySelector('#df-23bd93ae-dac9-4433-aec2-9a65c04fa3fc button');\n",
              "          quickchartButtonEl.style.display =\n",
              "            google.colab.kernel.accessAllowed ? 'block' : 'none';\n",
              "        })();\n",
              "      </script>\n",
              "    </div>\n",
              "\n",
              "  <div id=\"id_96059033-bb09-46ee-9734-e97439c65f27\">\n",
              "    <style>\n",
              "      .colab-df-generate {\n",
              "        background-color: #E8F0FE;\n",
              "        border: none;\n",
              "        border-radius: 50%;\n",
              "        cursor: pointer;\n",
              "        display: none;\n",
              "        fill: #1967D2;\n",
              "        height: 32px;\n",
              "        padding: 0 0 0 0;\n",
              "        width: 32px;\n",
              "      }\n",
              "\n",
              "      .colab-df-generate:hover {\n",
              "        background-color: #E2EBFA;\n",
              "        box-shadow: 0px 1px 2px rgba(60, 64, 67, 0.3), 0px 1px 3px 1px rgba(60, 64, 67, 0.15);\n",
              "        fill: #174EA6;\n",
              "      }\n",
              "\n",
              "      [theme=dark] .colab-df-generate {\n",
              "        background-color: #3B4455;\n",
              "        fill: #D2E3FC;\n",
              "      }\n",
              "\n",
              "      [theme=dark] .colab-df-generate:hover {\n",
              "        background-color: #434B5C;\n",
              "        box-shadow: 0px 1px 3px 1px rgba(0, 0, 0, 0.15);\n",
              "        filter: drop-shadow(0px 1px 2px rgba(0, 0, 0, 0.3));\n",
              "        fill: #FFFFFF;\n",
              "      }\n",
              "    </style>\n",
              "    <button class=\"colab-df-generate\" onclick=\"generateWithVariable('top_features_all')\"\n",
              "            title=\"Generate code using this dataframe.\"\n",
              "            style=\"display:none;\">\n",
              "\n",
              "  <svg xmlns=\"http://www.w3.org/2000/svg\" height=\"24px\"viewBox=\"0 0 24 24\"\n",
              "       width=\"24px\">\n",
              "    <path d=\"M7,19H8.4L18.45,9,17,7.55,7,17.6ZM5,21V16.75L18.45,3.32a2,2,0,0,1,2.83,0l1.4,1.43a1.91,1.91,0,0,1,.58,1.4,1.91,1.91,0,0,1-.58,1.4L9.25,21ZM18.45,9,17,7.55Zm-12,3A5.31,5.31,0,0,0,4.9,8.1,5.31,5.31,0,0,0,1,6.5,5.31,5.31,0,0,0,4.9,4.9,5.31,5.31,0,0,0,6.5,1,5.31,5.31,0,0,0,8.1,4.9,5.31,5.31,0,0,0,12,6.5,5.46,5.46,0,0,0,6.5,12Z\"/>\n",
              "  </svg>\n",
              "    </button>\n",
              "    <script>\n",
              "      (() => {\n",
              "      const buttonEl =\n",
              "        document.querySelector('#id_96059033-bb09-46ee-9734-e97439c65f27 button.colab-df-generate');\n",
              "      buttonEl.style.display =\n",
              "        google.colab.kernel.accessAllowed ? 'block' : 'none';\n",
              "\n",
              "      buttonEl.onclick = () => {\n",
              "        google.colab.notebook.generateWithVariable('top_features_all');\n",
              "      }\n",
              "      })();\n",
              "    </script>\n",
              "  </div>\n",
              "\n",
              "    </div>\n",
              "  </div>\n"
            ],
            "application/vnd.google.colaboratory.intrinsic+json": {
              "type": "dataframe",
              "variable_name": "top_features_all",
              "summary": "{\n  \"name\": \"top_features_all\",\n  \"rows\": 30,\n  \"fields\": [\n    {\n      \"column\": \"Feature\",\n      \"properties\": {\n        \"dtype\": \"string\",\n        \"num_unique_values\": 20,\n        \"samples\": [\n          \"wavelet-LLL_firstorder_Kurtosis_t2w\",\n          \"original_firstorder_90Percentile_adc\",\n          \"wavelet-HLH_firstorder_Mean_adc\"\n        ],\n        \"semantic_type\": \"\",\n        \"description\": \"\"\n      }\n    },\n    {\n      \"column\": \"Importance\",\n      \"properties\": {\n        \"dtype\": \"number\",\n        \"std\": 0.2684631494412212,\n        \"min\": 0.004796795535655204,\n        \"max\": 0.7383404137061893,\n        \"num_unique_values\": 30,\n        \"samples\": [\n          0.2104883489485185,\n          0.005496235396713804,\n          0.24940556243766102\n        ],\n        \"semantic_type\": \"\",\n        \"description\": \"\"\n      }\n    },\n    {\n      \"column\": \"Model\",\n      \"properties\": {\n        \"dtype\": \"category\",\n        \"num_unique_values\": 3,\n        \"samples\": [\n          \"Logistic Regression\",\n          \"Random Forest\",\n          \"SVM\"\n        ],\n        \"semantic_type\": \"\",\n        \"description\": \"\"\n      }\n    }\n  ]\n}"
            }
          },
          "metadata": {},
          "execution_count": 14
        }
      ]
    },
    {
      "cell_type": "code",
      "source": [
        "from sklearn.model_selection import cross_val_score\n",
        "from sklearn.linear_model import LogisticRegression\n",
        "from sklearn.ensemble import RandomForestClassifier\n",
        "from sklearn.svm import SVC\n",
        "\n",
        "# Define the models dictionary\n",
        "models = {\n",
        "    'Logistic Regression': model_lr, # model_lr is defined in the previous cell\n",
        "    'Random Forest': model_rf,       # model_rf is defined in the previous cell\n",
        "    'SVM': model_svm               # model_svm is defined in the previous cell\n",
        "}\n",
        "\n",
        "for name, model in models.items():\n",
        "    scores = cross_val_score(model, X_scaled, y, cv=5, scoring='f1')\n",
        "    print(f\"{name} - Mean F1 score: {scores.mean():.3f}\")"
      ],
      "metadata": {
        "colab": {
          "base_uri": "https://localhost:8080/"
        },
        "id": "Y6ovb0sX32ww",
        "outputId": "1870d59d-692c-4229-82f5-f2f313deeeeb"
      },
      "id": "Y6ovb0sX32ww",
      "execution_count": 15,
      "outputs": [
        {
          "output_type": "stream",
          "name": "stdout",
          "text": [
            "Logistic Regression - Mean F1 score: 0.575\n",
            "Random Forest - Mean F1 score: 0.588\n",
            "SVM - Mean F1 score: 0.550\n"
          ]
        }
      ]
    },
    {
      "cell_type": "code",
      "source": [
        "from sklearn.model_selection import GridSearchCV\n",
        "\n",
        "param_grid = {\n",
        "    'n_estimators': [50, 100, 200],\n",
        "    'max_depth': [None, 10, 20]\n",
        "}\n",
        "\n",
        "grid = GridSearchCV(RandomForestClassifier(random_state=42), param_grid, cv=5, scoring='f1')\n",
        "grid.fit(X_train, y_train)\n",
        "\n",
        "print(\"Miglior F1-score:\", grid.best_score_)\n",
        "print(\"Migliori parametri:\", grid.best_params_)\n"
      ],
      "metadata": {
        "colab": {
          "base_uri": "https://localhost:8080/"
        },
        "id": "F-a6Krtu34Ul",
        "outputId": "bb7b9571-29f3-4ae7-cd71-b2014b00ee8b"
      },
      "id": "F-a6Krtu34Ul",
      "execution_count": 16,
      "outputs": [
        {
          "output_type": "stream",
          "name": "stdout",
          "text": [
            "Miglior F1-score: 0.6314366820748619\n",
            "Migliori parametri: {'max_depth': 10, 'n_estimators': 100}\n"
          ]
        }
      ]
    },
    {
      "cell_type": "code",
      "source": [
        "# Calcolo e salvataggio delle metriche di valutazione per ogni modello\n",
        "from sklearn.metrics import accuracy_score, precision_score, recall_score, f1_score\n",
        "\n",
        "# Dizionario per contenere le metriche\n",
        "model_scores = []\n",
        "\n",
        "# Logistic Regression\n",
        "y_pred_lr = model_lr.predict(X_test)\n",
        "model_scores.append({\n",
        "    'Model': 'Logistic Regression',\n",
        "    'Accuracy': accuracy_score(y_test, y_pred_lr),\n",
        "    'Precision': precision_score(y_test, y_pred_lr),\n",
        "    'Recall': recall_score(y_test, y_pred_lr),\n",
        "    'F1 Score': f1_score(y_test, y_pred_lr)\n",
        "})\n",
        "\n",
        "# Random Forest\n",
        "y_pred_rf = model_rf.predict(X_test)\n",
        "model_scores.append({\n",
        "    'Model': 'Random Forest',\n",
        "    'Accuracy': accuracy_score(y_test, y_pred_rf),\n",
        "    'Precision': precision_score(y_test, y_pred_rf),\n",
        "    'Recall': recall_score(y_test, y_pred_rf),\n",
        "    'F1 Score': f1_score(y_test, y_pred_rf)\n",
        "})\n",
        "\n",
        "# SVM\n",
        "y_pred_svm = model_svm.predict(X_test)\n",
        "model_scores.append({\n",
        "    'Model': 'SVM',\n",
        "    'Accuracy': accuracy_score(y_test, y_pred_svm),\n",
        "    'Precision': precision_score(y_test, y_pred_svm),\n",
        "    'Recall': recall_score(y_test, y_pred_svm),\n",
        "    'F1 Score': f1_score(y_test, y_pred_svm)\n",
        "})\n",
        "\n",
        "# Creazione DataFrame riepilogativo\n",
        "score_summary = pd.DataFrame(model_scores)\n",
        "score_summary\n"
      ],
      "metadata": {
        "colab": {
          "base_uri": "https://localhost:8080/",
          "height": 144
        },
        "id": "9yKjivz46Z32",
        "outputId": "215e4f90-284c-419f-81ed-9064570d9c11"
      },
      "id": "9yKjivz46Z32",
      "execution_count": 17,
      "outputs": [
        {
          "output_type": "execute_result",
          "data": {
            "text/plain": [
              "                 Model  Accuracy  Precision    Recall  F1 Score\n",
              "0  Logistic Regression  0.596491   0.516129  0.666667  0.581818\n",
              "1        Random Forest  0.631579   0.538462  0.875000  0.666667\n",
              "2                  SVM  0.596491   0.517241  0.625000  0.566038"
            ],
            "text/html": [
              "\n",
              "  <div id=\"df-ab531531-b8ca-4998-8589-e9cda0190847\" class=\"colab-df-container\">\n",
              "    <div>\n",
              "<style scoped>\n",
              "    .dataframe tbody tr th:only-of-type {\n",
              "        vertical-align: middle;\n",
              "    }\n",
              "\n",
              "    .dataframe tbody tr th {\n",
              "        vertical-align: top;\n",
              "    }\n",
              "\n",
              "    .dataframe thead th {\n",
              "        text-align: right;\n",
              "    }\n",
              "</style>\n",
              "<table border=\"1\" class=\"dataframe\">\n",
              "  <thead>\n",
              "    <tr style=\"text-align: right;\">\n",
              "      <th></th>\n",
              "      <th>Model</th>\n",
              "      <th>Accuracy</th>\n",
              "      <th>Precision</th>\n",
              "      <th>Recall</th>\n",
              "      <th>F1 Score</th>\n",
              "    </tr>\n",
              "  </thead>\n",
              "  <tbody>\n",
              "    <tr>\n",
              "      <th>0</th>\n",
              "      <td>Logistic Regression</td>\n",
              "      <td>0.596491</td>\n",
              "      <td>0.516129</td>\n",
              "      <td>0.666667</td>\n",
              "      <td>0.581818</td>\n",
              "    </tr>\n",
              "    <tr>\n",
              "      <th>1</th>\n",
              "      <td>Random Forest</td>\n",
              "      <td>0.631579</td>\n",
              "      <td>0.538462</td>\n",
              "      <td>0.875000</td>\n",
              "      <td>0.666667</td>\n",
              "    </tr>\n",
              "    <tr>\n",
              "      <th>2</th>\n",
              "      <td>SVM</td>\n",
              "      <td>0.596491</td>\n",
              "      <td>0.517241</td>\n",
              "      <td>0.625000</td>\n",
              "      <td>0.566038</td>\n",
              "    </tr>\n",
              "  </tbody>\n",
              "</table>\n",
              "</div>\n",
              "    <div class=\"colab-df-buttons\">\n",
              "\n",
              "  <div class=\"colab-df-container\">\n",
              "    <button class=\"colab-df-convert\" onclick=\"convertToInteractive('df-ab531531-b8ca-4998-8589-e9cda0190847')\"\n",
              "            title=\"Convert this dataframe to an interactive table.\"\n",
              "            style=\"display:none;\">\n",
              "\n",
              "  <svg xmlns=\"http://www.w3.org/2000/svg\" height=\"24px\" viewBox=\"0 -960 960 960\">\n",
              "    <path d=\"M120-120v-720h720v720H120Zm60-500h600v-160H180v160Zm220 220h160v-160H400v160Zm0 220h160v-160H400v160ZM180-400h160v-160H180v160Zm440 0h160v-160H620v160ZM180-180h160v-160H180v160Zm440 0h160v-160H620v160Z\"/>\n",
              "  </svg>\n",
              "    </button>\n",
              "\n",
              "  <style>\n",
              "    .colab-df-container {\n",
              "      display:flex;\n",
              "      gap: 12px;\n",
              "    }\n",
              "\n",
              "    .colab-df-convert {\n",
              "      background-color: #E8F0FE;\n",
              "      border: none;\n",
              "      border-radius: 50%;\n",
              "      cursor: pointer;\n",
              "      display: none;\n",
              "      fill: #1967D2;\n",
              "      height: 32px;\n",
              "      padding: 0 0 0 0;\n",
              "      width: 32px;\n",
              "    }\n",
              "\n",
              "    .colab-df-convert:hover {\n",
              "      background-color: #E2EBFA;\n",
              "      box-shadow: 0px 1px 2px rgba(60, 64, 67, 0.3), 0px 1px 3px 1px rgba(60, 64, 67, 0.15);\n",
              "      fill: #174EA6;\n",
              "    }\n",
              "\n",
              "    .colab-df-buttons div {\n",
              "      margin-bottom: 4px;\n",
              "    }\n",
              "\n",
              "    [theme=dark] .colab-df-convert {\n",
              "      background-color: #3B4455;\n",
              "      fill: #D2E3FC;\n",
              "    }\n",
              "\n",
              "    [theme=dark] .colab-df-convert:hover {\n",
              "      background-color: #434B5C;\n",
              "      box-shadow: 0px 1px 3px 1px rgba(0, 0, 0, 0.15);\n",
              "      filter: drop-shadow(0px 1px 2px rgba(0, 0, 0, 0.3));\n",
              "      fill: #FFFFFF;\n",
              "    }\n",
              "  </style>\n",
              "\n",
              "    <script>\n",
              "      const buttonEl =\n",
              "        document.querySelector('#df-ab531531-b8ca-4998-8589-e9cda0190847 button.colab-df-convert');\n",
              "      buttonEl.style.display =\n",
              "        google.colab.kernel.accessAllowed ? 'block' : 'none';\n",
              "\n",
              "      async function convertToInteractive(key) {\n",
              "        const element = document.querySelector('#df-ab531531-b8ca-4998-8589-e9cda0190847');\n",
              "        const dataTable =\n",
              "          await google.colab.kernel.invokeFunction('convertToInteractive',\n",
              "                                                    [key], {});\n",
              "        if (!dataTable) return;\n",
              "\n",
              "        const docLinkHtml = 'Like what you see? Visit the ' +\n",
              "          '<a target=\"_blank\" href=https://colab.research.google.com/notebooks/data_table.ipynb>data table notebook</a>'\n",
              "          + ' to learn more about interactive tables.';\n",
              "        element.innerHTML = '';\n",
              "        dataTable['output_type'] = 'display_data';\n",
              "        await google.colab.output.renderOutput(dataTable, element);\n",
              "        const docLink = document.createElement('div');\n",
              "        docLink.innerHTML = docLinkHtml;\n",
              "        element.appendChild(docLink);\n",
              "      }\n",
              "    </script>\n",
              "  </div>\n",
              "\n",
              "\n",
              "    <div id=\"df-98ce9752-1014-4f93-8ca8-70ef75e0fd51\">\n",
              "      <button class=\"colab-df-quickchart\" onclick=\"quickchart('df-98ce9752-1014-4f93-8ca8-70ef75e0fd51')\"\n",
              "                title=\"Suggest charts\"\n",
              "                style=\"display:none;\">\n",
              "\n",
              "<svg xmlns=\"http://www.w3.org/2000/svg\" height=\"24px\"viewBox=\"0 0 24 24\"\n",
              "     width=\"24px\">\n",
              "    <g>\n",
              "        <path d=\"M19 3H5c-1.1 0-2 .9-2 2v14c0 1.1.9 2 2 2h14c1.1 0 2-.9 2-2V5c0-1.1-.9-2-2-2zM9 17H7v-7h2v7zm4 0h-2V7h2v10zm4 0h-2v-4h2v4z\"/>\n",
              "    </g>\n",
              "</svg>\n",
              "      </button>\n",
              "\n",
              "<style>\n",
              "  .colab-df-quickchart {\n",
              "      --bg-color: #E8F0FE;\n",
              "      --fill-color: #1967D2;\n",
              "      --hover-bg-color: #E2EBFA;\n",
              "      --hover-fill-color: #174EA6;\n",
              "      --disabled-fill-color: #AAA;\n",
              "      --disabled-bg-color: #DDD;\n",
              "  }\n",
              "\n",
              "  [theme=dark] .colab-df-quickchart {\n",
              "      --bg-color: #3B4455;\n",
              "      --fill-color: #D2E3FC;\n",
              "      --hover-bg-color: #434B5C;\n",
              "      --hover-fill-color: #FFFFFF;\n",
              "      --disabled-bg-color: #3B4455;\n",
              "      --disabled-fill-color: #666;\n",
              "  }\n",
              "\n",
              "  .colab-df-quickchart {\n",
              "    background-color: var(--bg-color);\n",
              "    border: none;\n",
              "    border-radius: 50%;\n",
              "    cursor: pointer;\n",
              "    display: none;\n",
              "    fill: var(--fill-color);\n",
              "    height: 32px;\n",
              "    padding: 0;\n",
              "    width: 32px;\n",
              "  }\n",
              "\n",
              "  .colab-df-quickchart:hover {\n",
              "    background-color: var(--hover-bg-color);\n",
              "    box-shadow: 0 1px 2px rgba(60, 64, 67, 0.3), 0 1px 3px 1px rgba(60, 64, 67, 0.15);\n",
              "    fill: var(--button-hover-fill-color);\n",
              "  }\n",
              "\n",
              "  .colab-df-quickchart-complete:disabled,\n",
              "  .colab-df-quickchart-complete:disabled:hover {\n",
              "    background-color: var(--disabled-bg-color);\n",
              "    fill: var(--disabled-fill-color);\n",
              "    box-shadow: none;\n",
              "  }\n",
              "\n",
              "  .colab-df-spinner {\n",
              "    border: 2px solid var(--fill-color);\n",
              "    border-color: transparent;\n",
              "    border-bottom-color: var(--fill-color);\n",
              "    animation:\n",
              "      spin 1s steps(1) infinite;\n",
              "  }\n",
              "\n",
              "  @keyframes spin {\n",
              "    0% {\n",
              "      border-color: transparent;\n",
              "      border-bottom-color: var(--fill-color);\n",
              "      border-left-color: var(--fill-color);\n",
              "    }\n",
              "    20% {\n",
              "      border-color: transparent;\n",
              "      border-left-color: var(--fill-color);\n",
              "      border-top-color: var(--fill-color);\n",
              "    }\n",
              "    30% {\n",
              "      border-color: transparent;\n",
              "      border-left-color: var(--fill-color);\n",
              "      border-top-color: var(--fill-color);\n",
              "      border-right-color: var(--fill-color);\n",
              "    }\n",
              "    40% {\n",
              "      border-color: transparent;\n",
              "      border-right-color: var(--fill-color);\n",
              "      border-top-color: var(--fill-color);\n",
              "    }\n",
              "    60% {\n",
              "      border-color: transparent;\n",
              "      border-right-color: var(--fill-color);\n",
              "    }\n",
              "    80% {\n",
              "      border-color: transparent;\n",
              "      border-right-color: var(--fill-color);\n",
              "      border-bottom-color: var(--fill-color);\n",
              "    }\n",
              "    90% {\n",
              "      border-color: transparent;\n",
              "      border-bottom-color: var(--fill-color);\n",
              "    }\n",
              "  }\n",
              "</style>\n",
              "\n",
              "      <script>\n",
              "        async function quickchart(key) {\n",
              "          const quickchartButtonEl =\n",
              "            document.querySelector('#' + key + ' button');\n",
              "          quickchartButtonEl.disabled = true;  // To prevent multiple clicks.\n",
              "          quickchartButtonEl.classList.add('colab-df-spinner');\n",
              "          try {\n",
              "            const charts = await google.colab.kernel.invokeFunction(\n",
              "                'suggestCharts', [key], {});\n",
              "          } catch (error) {\n",
              "            console.error('Error during call to suggestCharts:', error);\n",
              "          }\n",
              "          quickchartButtonEl.classList.remove('colab-df-spinner');\n",
              "          quickchartButtonEl.classList.add('colab-df-quickchart-complete');\n",
              "        }\n",
              "        (() => {\n",
              "          let quickchartButtonEl =\n",
              "            document.querySelector('#df-98ce9752-1014-4f93-8ca8-70ef75e0fd51 button');\n",
              "          quickchartButtonEl.style.display =\n",
              "            google.colab.kernel.accessAllowed ? 'block' : 'none';\n",
              "        })();\n",
              "      </script>\n",
              "    </div>\n",
              "\n",
              "  <div id=\"id_e7ba4d90-97c5-44a8-aebf-f64d6b16a01d\">\n",
              "    <style>\n",
              "      .colab-df-generate {\n",
              "        background-color: #E8F0FE;\n",
              "        border: none;\n",
              "        border-radius: 50%;\n",
              "        cursor: pointer;\n",
              "        display: none;\n",
              "        fill: #1967D2;\n",
              "        height: 32px;\n",
              "        padding: 0 0 0 0;\n",
              "        width: 32px;\n",
              "      }\n",
              "\n",
              "      .colab-df-generate:hover {\n",
              "        background-color: #E2EBFA;\n",
              "        box-shadow: 0px 1px 2px rgba(60, 64, 67, 0.3), 0px 1px 3px 1px rgba(60, 64, 67, 0.15);\n",
              "        fill: #174EA6;\n",
              "      }\n",
              "\n",
              "      [theme=dark] .colab-df-generate {\n",
              "        background-color: #3B4455;\n",
              "        fill: #D2E3FC;\n",
              "      }\n",
              "\n",
              "      [theme=dark] .colab-df-generate:hover {\n",
              "        background-color: #434B5C;\n",
              "        box-shadow: 0px 1px 3px 1px rgba(0, 0, 0, 0.15);\n",
              "        filter: drop-shadow(0px 1px 2px rgba(0, 0, 0, 0.3));\n",
              "        fill: #FFFFFF;\n",
              "      }\n",
              "    </style>\n",
              "    <button class=\"colab-df-generate\" onclick=\"generateWithVariable('score_summary')\"\n",
              "            title=\"Generate code using this dataframe.\"\n",
              "            style=\"display:none;\">\n",
              "\n",
              "  <svg xmlns=\"http://www.w3.org/2000/svg\" height=\"24px\"viewBox=\"0 0 24 24\"\n",
              "       width=\"24px\">\n",
              "    <path d=\"M7,19H8.4L18.45,9,17,7.55,7,17.6ZM5,21V16.75L18.45,3.32a2,2,0,0,1,2.83,0l1.4,1.43a1.91,1.91,0,0,1,.58,1.4,1.91,1.91,0,0,1-.58,1.4L9.25,21ZM18.45,9,17,7.55Zm-12,3A5.31,5.31,0,0,0,4.9,8.1,5.31,5.31,0,0,0,1,6.5,5.31,5.31,0,0,0,4.9,4.9,5.31,5.31,0,0,0,6.5,1,5.31,5.31,0,0,0,8.1,4.9,5.31,5.31,0,0,0,12,6.5,5.46,5.46,0,0,0,6.5,12Z\"/>\n",
              "  </svg>\n",
              "    </button>\n",
              "    <script>\n",
              "      (() => {\n",
              "      const buttonEl =\n",
              "        document.querySelector('#id_e7ba4d90-97c5-44a8-aebf-f64d6b16a01d button.colab-df-generate');\n",
              "      buttonEl.style.display =\n",
              "        google.colab.kernel.accessAllowed ? 'block' : 'none';\n",
              "\n",
              "      buttonEl.onclick = () => {\n",
              "        google.colab.notebook.generateWithVariable('score_summary');\n",
              "      }\n",
              "      })();\n",
              "    </script>\n",
              "  </div>\n",
              "\n",
              "    </div>\n",
              "  </div>\n"
            ],
            "application/vnd.google.colaboratory.intrinsic+json": {
              "type": "dataframe",
              "variable_name": "score_summary",
              "summary": "{\n  \"name\": \"score_summary\",\n  \"rows\": 3,\n  \"fields\": [\n    {\n      \"column\": \"Model\",\n      \"properties\": {\n        \"dtype\": \"string\",\n        \"num_unique_values\": 3,\n        \"samples\": [\n          \"Logistic Regression\",\n          \"Random Forest\",\n          \"SVM\"\n        ],\n        \"semantic_type\": \"\",\n        \"description\": \"\"\n      }\n    },\n    {\n      \"column\": \"Accuracy\",\n      \"properties\": {\n        \"dtype\": \"number\",\n        \"std\": 0.02025790418209213,\n        \"min\": 0.5964912280701754,\n        \"max\": 0.631578947368421,\n        \"num_unique_values\": 2,\n        \"samples\": [\n          0.631578947368421,\n          0.5964912280701754\n        ],\n        \"semantic_type\": \"\",\n        \"description\": \"\"\n      }\n    },\n    {\n      \"column\": \"Precision\",\n      \"properties\": {\n        \"dtype\": \"number\",\n        \"std\": 0.012584867259893943,\n        \"min\": 0.5161290322580645,\n        \"max\": 0.5384615384615384,\n        \"num_unique_values\": 3,\n        \"samples\": [\n          0.5161290322580645,\n          0.5384615384615384\n        ],\n        \"semantic_type\": \"\",\n        \"description\": \"\"\n      }\n    },\n    {\n      \"column\": \"Recall\",\n      \"properties\": {\n        \"dtype\": \"number\",\n        \"std\": 0.13393959390267995,\n        \"min\": 0.625,\n        \"max\": 0.875,\n        \"num_unique_values\": 3,\n        \"samples\": [\n          0.6666666666666666,\n          0.875\n        ],\n        \"semantic_type\": \"\",\n        \"description\": \"\"\n      }\n    },\n    {\n      \"column\": \"F1 Score\",\n      \"properties\": {\n        \"dtype\": \"number\",\n        \"std\": 0.05412095954674644,\n        \"min\": 0.5660377358490566,\n        \"max\": 0.6666666666666666,\n        \"num_unique_values\": 3,\n        \"samples\": [\n          0.5818181818181818,\n          0.6666666666666666\n        ],\n        \"semantic_type\": \"\",\n        \"description\": \"\"\n      }\n    }\n  ]\n}"
            }
          },
          "metadata": {},
          "execution_count": 17
        }
      ]
    },
    {
      "cell_type": "markdown",
      "source": [
        "# MODELLI PER ISUP 2 O 3"
      ],
      "metadata": {
        "id": "FpayxS1F7H0U"
      },
      "id": "FpayxS1F7H0U"
    },
    {
      "cell_type": "markdown",
      "source": [
        "## Random forest"
      ],
      "metadata": {
        "id": "rnfZ-78H0bkG"
      },
      "id": "rnfZ-78H0bkG"
    },
    {
      "cell_type": "code",
      "source": [
        "# Filter the existing 'edited' DataFrame\n",
        "edited = edited[edited['case_ISUP'].isin([2, 3])].copy()\n",
        "edited['is_class1'] = edited['case_ISUP'].map(lambda x: 1 if x == 3 else 0)"
      ],
      "metadata": {
        "id": "PJ98LE_dX9n_"
      },
      "id": "PJ98LE_dX9n_",
      "execution_count": 30,
      "outputs": []
    },
    {
      "cell_type": "code",
      "source": [
        "count_2 = (edited['case_ISUP'] == 2).sum()\n",
        "count_3 = (edited['case_ISUP'] == 3).sum()\n",
        "\n",
        "print(\"Valori 2:\", count_2)\n",
        "print(\"Valori 3:\", count_3)"
      ],
      "metadata": {
        "colab": {
          "base_uri": "https://localhost:8080/"
        },
        "id": "jSiQwTZSX_Uq",
        "outputId": "aa5041c0-7437-41bf-ad1d-937161cf29ac"
      },
      "id": "jSiQwTZSX_Uq",
      "execution_count": 31,
      "outputs": [
        {
          "output_type": "stream",
          "name": "stdout",
          "text": [
            "Valori 2: 118\n",
            "Valori 3: 127\n"
          ]
        }
      ]
    },
    {
      "cell_type": "code",
      "source": [
        "print(\"Numero di colonne:\", edited.shape[1])"
      ],
      "metadata": {
        "colab": {
          "base_uri": "https://localhost:8080/"
        },
        "id": "Kc4wOmkSZiUP",
        "outputId": "51ca5213-a743-40e2-d299-0b3d86df43eb"
      },
      "id": "Kc4wOmkSZiUP",
      "execution_count": 32,
      "outputs": [
        {
          "output_type": "stream",
          "name": "stdout",
          "text": [
            "Numero di colonne: 12\n"
          ]
        }
      ]
    },
    {
      "cell_type": "code",
      "source": [
        "print(\"Numero di righe:\", edited.shape[0])"
      ],
      "metadata": {
        "colab": {
          "base_uri": "https://localhost:8080/"
        },
        "id": "3Cyara8DdpYZ",
        "outputId": "6b98549d-224c-4193-c24c-f58bb89c144b"
      },
      "id": "3Cyara8DdpYZ",
      "execution_count": 36,
      "outputs": [
        {
          "output_type": "stream",
          "name": "stdout",
          "text": [
            "Numero di righe: 245\n"
          ]
        }
      ]
    },
    {
      "cell_type": "code",
      "source": [
        "import seaborn as sns\n",
        "import matplotlib.pyplot as plt\n",
        "\n",
        "plt.figure(figsize=(10, 8))\n",
        "sns.heatmap(edited.corr(), annot=True, fmt=\".2f\", cmap=\"coolwarm\", square=True)\n",
        "plt.title(\"Matrice di Correlazione\")\n",
        "plt.show()"
      ],
      "metadata": {
        "colab": {
          "base_uri": "https://localhost:8080/",
          "height": 755
        },
        "id": "iHam1q_vZtty",
        "outputId": "56b51755-2f03-4e4d-c4ed-f79b561449cb"
      },
      "id": "iHam1q_vZtty",
      "execution_count": 33,
      "outputs": [
        {
          "output_type": "display_data",
          "data": {
            "text/plain": [
              "<Figure size 1000x800 with 2 Axes>"
            ],
            "image/png": "[encoded data removed]"
          },
          "metadata": {}
        }
      ]
    },
    {
      "cell_type": "code",
      "source": [
        "print(edited.dtypes)"
      ],
      "metadata": {
        "colab": {
          "base_uri": "https://localhost:8080/"
        },
        "id": "IotMilEiaIvb",
        "outputId": "360e1ef4-3c9f-4d89-f8bb-c17d71c0f98e"
      },
      "id": "IotMilEiaIvb",
      "execution_count": 34,
      "outputs": [
        {
          "output_type": "stream",
          "name": "stdout",
          "text": [
            "feature_0    float64\n",
            "feature_1    float64\n",
            "feature_2    float64\n",
            "feature_3    float64\n",
            "feature_4    float64\n",
            "feature_5    float64\n",
            "feature_6    float64\n",
            "feature_7    float64\n",
            "feature_8    float64\n",
            "feature_9    float64\n",
            "case_ISUP      int64\n",
            "is_class1      int64\n",
            "dtype: object\n"
          ]
        }
      ]
    },
    {
      "cell_type": "code",
      "source": [
        "import pandas as pd\n",
        "from scipy.stats import ttest_ind\n",
        "\n",
        "# Supponendo che 'edited' sia il tuo DataFrame\n",
        "# e che 'is_class1' sia la variabile categorica binaria\n",
        "\n",
        "# Seleziona le colonne numeriche\n",
        "numerical_features = edited.select_dtypes(include=['int64', 'float64']).columns.drop('is_class1')\n",
        "\n",
        "# Crea due gruppi basati su 'is_class1'\n",
        "group0 = edited[edited['is_class1'] == 0]\n",
        "group1 = edited[edited['is_class1'] == 1]\n",
        "\n",
        "# Esegui il t-test per ciascuna variabile numerica\n",
        "results = []\n",
        "for feature in numerical_features:\n",
        "    stat, p_value = ttest_ind(group0[feature], group1[feature], equal_var=False)\n",
        "    results.append({'Feature': feature, 'T-Statistic': stat, 'P-Value': p_value})\n",
        "\n",
        "# Crea un DataFrame con i risultati\n",
        "results_df = pd.DataFrame(results)\n",
        "\n",
        "# Ordina i risultati per P-Value\n",
        "results_df = results_df.sort_values(by='P-Value')\n",
        "\n",
        "print(results_df)"
      ],
      "metadata": {
        "colab": {
          "base_uri": "https://localhost:8080/"
        },
        "id": "ByUQbU3kdeXS",
        "outputId": "57d51fef-d7da-439f-9d09-8330dcab18c8"
      },
      "id": "ByUQbU3kdeXS",
      "execution_count": 35,
      "outputs": [
        {
          "output_type": "stream",
          "name": "stdout",
          "text": [
            "      Feature  T-Statistic   P-Value\n",
            "10  case_ISUP         -inf  0.000000\n",
            "1   feature_1     1.477366  0.140883\n",
            "8   feature_8    -1.284594  0.200174\n",
            "4   feature_4     0.840311  0.401575\n",
            "3   feature_3    -0.778139  0.437247\n",
            "9   feature_9     0.755519  0.450710\n",
            "5   feature_5    -0.575909  0.565214\n",
            "2   feature_2    -0.258357  0.796352\n",
            "0   feature_0    -0.235773  0.813808\n",
            "7   feature_7     0.129555  0.897026\n",
            "6   feature_6     0.068543  0.945410\n"
          ]
        },
        {
          "output_type": "stream",
          "name": "stderr",
          "text": [
            "/usr/local/lib/python3.11/dist-packages/scipy/stats/_axis_nan_policy.py:586: RuntimeWarning: Precision loss occurred in moment calculation due to catastrophic cancellation. This occurs when the data are nearly identical. Results may be unreliable.\n",
            "  res = hypotest_fun_out(*samples, **kwds)\n"
          ]
        }
      ]
    },
    {
      "cell_type": "code",
      "source": [
        "from sklearn.ensemble import RandomForestClassifier\n",
        "from sklearn.model_selection import train_test_split, RandomizedSearchCV\n",
        "from sklearn.preprocessing import StandardScaler\n",
        "from sklearn.metrics import accuracy_score, precision_score, recall_score, f1_score\n",
        "from scipy.stats import randint\n",
        "import pandas as pd\n",
        "\n",
        "# --- STEP 1: Filtra ISUP 2 vs 3 ---\n",
        "# The previous line filtering 'edited' is redundant and can be removed.\n",
        "# edited = edited[edited['case_ISUP'].isin([2, 3])].copy() # Remove this line\n",
        "# The line below was causing the error because 'full_dataset' was not defined.\n",
        "# edited = full_dataset[full_dataset['case_ISUP'].isin([2, 3])].copy() # This line caused the error\n",
        "\n",
        "\n",
        "\n",
        "\n",
        "# STEP 2: Feature + Target\n",
        "X = edited.drop(columns=['case_ISUP', 'is_class1'])\n",
        "y = edited['is_class1']\n",
        "\n",
        "\n",
        "\n",
        "# TOLGO ALTA CORRELAZIONE E NAN\n",
        "corr_matrix = X.corr().abs()\n",
        "upper = corr_matrix.where(np.triu(np.ones(corr_matrix.shape), k=1).astype(bool))\n",
        "to_drop = [column for column in upper.columns if any(upper[column] > 0.9)]\n",
        "X = X.drop(columns=to_drop)\n",
        "\n",
        "X = X.fillna(X.mean())\n",
        "\n",
        "# Train/Test Split\n",
        "X_train, X_test, y_train, y_test = train_test_split(X, y, test_size=0.2, random_state=42)\n",
        "\n",
        "# --- STEP 3: RandomizedSearchCV con class_weight='balanced' ---\n",
        "param_dist = {\n",
        "    'n_estimators': randint(50, 200),\n",
        "    'max_depth': randint(3, 20),\n",
        "    'min_samples_split': randint(2, 10),\n",
        "    'min_samples_leaf': randint(1, 10),\n",
        "    'max_features': ['auto', 'sqrt', 'log2']\n",
        "}\n",
        "\n",
        "random_search = RandomizedSearchCV(\n",
        "    estimator=RandomForestClassifier(random_state=42, class_weight='balanced'),\n",
        "    param_distributions=param_dist,\n",
        "    n_iter=20,\n",
        "    scoring='f1',  # Cambia in 'recall' se preferisci ottimizzare il recall\n",
        "    cv=5,\n",
        "    random_state=42,\n",
        "    n_jobs=-1\n",
        ")\n",
        "\n",
        "# Addestramento\n",
        "random_search.fit(X_train, y_train)\n",
        "\n",
        "# Valutazione\n",
        "best_rf = random_search.best_estimator_\n",
        "y_pred = best_rf.predict(X_test)\n",
        "\n",
        "print(\" Migliori iperparametri trovati:\")\n",
        "print(random_search.best_params_)\n",
        "\n",
        "print(\"\\n Metriche sul test set:\")\n",
        "print(f\"Accuracy : {accuracy_score(y_test, y_pred):.3f}\")\n",
        "print(f\"Precision: {precision_score(y_test, y_pred):.3f}\")\n",
        "print(f\"Recall   : {recall_score(y_test, y_pred):.3f}\")\n",
        "print(f\"F1 Score : {f1_score(y_test, y_pred):.3f}\")"
      ],
      "metadata": {
        "colab": {
          "base_uri": "https://localhost:8080/"
        },
        "id": "wsW_OSO-CLDp",
        "outputId": "46b6a8bc-9e9d-4a73-ebe8-6df3dda61213"
      },
      "id": "wsW_OSO-CLDp",
      "execution_count": 28,
      "outputs": [
        {
          "output_type": "stream",
          "name": "stdout",
          "text": [
            " Migliori iperparametri trovati:\n",
            "{'max_depth': 17, 'max_features': 'log2', 'min_samples_leaf': 1, 'min_samples_split': 5, 'n_estimators': 99}\n",
            "\n",
            " Metriche sul test set:\n",
            "Accuracy : 0.490\n",
            "Precision: 0.407\n",
            "Recall   : 0.550\n",
            "F1 Score : 0.468\n"
          ]
        },
        {
          "output_type": "stream",
          "name": "stderr",
          "text": [
            "/usr/local/lib/python3.11/dist-packages/sklearn/model_selection/_validation.py:528: FitFailedWarning: \n",
            "30 fits failed out of a total of 100.\n",
            "The score on these train-test partitions for these parameters will be set to nan.\n",
            "If these failures are not expected, you can try to debug them by setting error_score='raise'.\n",
            "\n",
            "Below are more details about the failures:\n",
            "--------------------------------------------------------------------------------\n",
            "30 fits failed with the following error:\n",
            "Traceback (most recent call last):\n",
            "  File \"/usr/local/lib/python3.11/dist-packages/sklearn/model_selection/_validation.py\", line 866, in _fit_and_score\n",
            "    estimator.fit(X_train, y_train, **fit_params)\n",
            "  File \"/usr/local/lib/python3.11/dist-packages/sklearn/base.py\", line 1382, in wrapper\n",
            "    estimator._validate_params()\n",
            "  File \"/usr/local/lib/python3.11/dist-packages/sklearn/base.py\", line 436, in _validate_params\n",
            "    validate_parameter_constraints(\n",
            "  File \"/usr/local/lib/python3.11/dist-packages/sklearn/utils/_param_validation.py\", line 98, in validate_parameter_constraints\n",
            "    raise InvalidParameterError(\n",
            "sklearn.utils._param_validation.InvalidParameterError: The 'max_features' parameter of RandomForestClassifier must be an int in the range [1, inf), a float in the range (0.0, 1.0], a str among {'sqrt', 'log2'} or None. Got 'auto' instead.\n",
            "\n",
            "  warnings.warn(some_fits_failed_message, FitFailedWarning)\n",
            "/usr/local/lib/python3.11/dist-packages/sklearn/model_selection/_search.py:1108: UserWarning: One or more of the test scores are non-finite: [       nan 0.47682344        nan 0.53688989 0.52277257 0.5250402\n",
            "        nan 0.52254172 0.50477477 0.50412409 0.55892461 0.52510305\n",
            " 0.52753477 0.52780045 0.53416534        nan        nan        nan\n",
            " 0.51805004 0.53575852]\n",
            "  warnings.warn(\n"
          ]
        }
      ]
    },
    {
      "cell_type": "code",
      "source": [
        "import matplotlib.pyplot as plt\n",
        "\n",
        "# Ottieni le feature importance dal modello\n",
        "importances = best_rf.feature_importances_\n",
        "feature_names = X.columns\n",
        "\n",
        "# Crea un DataFrame per ordinarle\n",
        "feat_imp = pd.DataFrame({\n",
        "    'Feature': feature_names,\n",
        "    'Importance': importances\n",
        "}).sort_values(by='Importance', ascending=False)\n",
        "\n",
        "# Mostra le top 10\n",
        "print(\"\\nTop 10 Feature per Random Forest (Tuned):\")\n",
        "print(feat_imp.head(10))\n",
        "\n",
        "# Plot (opzionale)\n",
        "plt.figure(figsize=(10, 6))\n",
        "plt.barh(feat_imp['Feature'][:10], feat_imp['Importance'][:10])\n",
        "plt.xlabel(\"Importanza\")\n",
        "plt.title(\"Top 10 Feature - Random Forest (Tuned)\")\n",
        "plt.gca().invert_yaxis()\n",
        "plt.show()\n"
      ],
      "metadata": {
        "colab": {
          "base_uri": "https://localhost:8080/",
          "height": 790
        },
        "id": "94pB8ZY--6z3",
        "outputId": "7117c9c9-850a-4ede-858c-a607b126ac4a"
      },
      "id": "94pB8ZY--6z3",
      "execution_count": 19,
      "outputs": [
        {
          "output_type": "stream",
          "name": "stdout",
          "text": [
            "\n",
            "Top 10 Feature per Random Forest (Tuned):\n",
            "                                               Feature  Importance\n",
            "88                  wavelet-LHL_firstorder_Entropy_t2w    0.012059\n",
            "118  wavelet-LHH_gldm_LargeDependenceLowGrayLevelEm...    0.010691\n",
            "106            wavelet-LHH_firstorder_10Percentile_t2w    0.010466\n",
            "258                     wavelet-LHL_ngtdm_Busyness_adc    0.010297\n",
            "170                    wavelet-HHH_firstorder_Mean_t2w    0.010156\n",
            "343  wavelet-HHH_glszm_SizeZoneNonUniformityNormali...    0.010108\n",
            "173                wavelet-HHH_firstorder_Skewness_t2w    0.009701\n",
            "321                  wavelet-HHL_glcm_ClusterShade_adc    0.009498\n",
            "298                    wavelet-HLH_firstorder_Mean_adc    0.009408\n",
            "77              wavelet-LLH_glcm_ClusterProminence_t2w    0.009365\n"
          ]
        },
        {
          "output_type": "display_data",
          "data": {
            "text/plain": [
              "<Figure size 1000x600 with 1 Axes>"
            ],
            "image/png": "[encoded data removed]"
          },
          "metadata": {}
        }
      ]
    },
    {
      "cell_type": "markdown",
      "source": [
        "## RANDOM FOREST CON SMOTE (è peggio)"
      ],
      "metadata": {
        "id": "gnhwulhr2TBK"
      },
      "id": "gnhwulhr2TBK"
    },
    {
      "cell_type": "code",
      "source": [
        "from imblearn.over_sampling import SMOTE\n",
        "from sklearn.ensemble import RandomForestClassifier\n",
        "from sklearn.model_selection import train_test_split, RandomizedSearchCV\n",
        "from sklearn.metrics import accuracy_score, precision_score, recall_score, f1_score\n",
        "from scipy.stats import randint\n",
        "\n",
        "# STEP 1: Filtro classi 2 vs 3\n",
        "edited = edited[edited['case_ISUP'].isin([2, 3])].copy()\n",
        "edited['is_class1'] = edited['case_ISUP'].map(lambda x: 1 if x == 3 else 0)\n",
        "\n",
        "# STEP 2: X e y\n",
        "X = edited.drop(columns=['case_ISUP', 'is_class1'])\n",
        "y = edited['is_class1']\n",
        "\n",
        "# Togli feature altamente correlate\n",
        "corr_matrix = X.corr().abs()\n",
        "upper = corr_matrix.where(np.triu(np.ones(corr_matrix.shape), k=1).astype(bool))\n",
        "to_drop = [column for column in upper.columns if any(upper[column] > 0.8)]\n",
        "X = X.drop(columns=to_drop)\n",
        "\n",
        "# Riempie NaN\n",
        "X = X.fillna(X.mean())\n",
        "\n",
        "# Train/test split PRIMA di SMOTE (SMOTE va solo sul train!)\n",
        "X_train, X_test, y_train, y_test = train_test_split(X, y, test_size=0.2, random_state=42)\n",
        "\n",
        "# Applica SMOTE SOLO al training set\n",
        "smote = SMOTE(random_state=42)\n",
        "X_train_res, y_train_res = smote.fit_resample(X_train, y_train)\n",
        "\n",
        "# Tuning Random Forest\n",
        "param_dist = {\n",
        "    'n_estimators': randint(50, 200),\n",
        "    'max_depth': randint(3, 20),\n",
        "    'min_samples_split': randint(2, 10),\n",
        "    'min_samples_leaf': randint(1, 10),\n",
        "    'max_features': ['auto', 'sqrt', 'log2']\n",
        "}\n",
        "\n",
        "random_search = RandomizedSearchCV(\n",
        "    estimator=RandomForestClassifier(random_state=42),\n",
        "    param_distributions=param_dist,\n",
        "    n_iter=20,\n",
        "    scoring='f1',\n",
        "    cv=5,\n",
        "    random_state=42,\n",
        "    n_jobs=-1\n",
        ")\n",
        "\n",
        "# Fit su dati aumentati\n",
        "random_search.fit(X_train_res, y_train_res)\n",
        "\n",
        "# Valutazione su test (non SMOTizzato)\n",
        "best_rf = random_search.best_estimator_\n",
        "y_pred = best_rf.predict(X_test)\n",
        "\n",
        "print(\"\\n📊 Migliori iperparametri trovati:\")\n",
        "print(random_search.best_params_)\n",
        "\n",
        "print(\"\\n🔍 Metriche sul test set (non oversampled):\")\n",
        "print(f\"Accuracy : {accuracy_score(y_test, y_pred):.3f}\")\n",
        "print(f\"Precision: {precision_score(y_test, y_pred):.3f}\")\n",
        "print(f\"Recall   : {recall_score(y_test, y_pred):.3f}\")\n",
        "print(f\"F1 Score : {f1_score(y_test, y_pred):.3f}\")"
      ],
      "metadata": {
        "colab": {
          "base_uri": "https://localhost:8080/"
        },
        "id": "iUbE8kuK2WBX",
        "outputId": "4aadc1ba-364f-4558-afc9-f30de047c37c"
      },
      "id": "iUbE8kuK2WBX",
      "execution_count": 20,
      "outputs": [
        {
          "output_type": "stream",
          "name": "stderr",
          "text": [
            "/usr/local/lib/python3.11/dist-packages/sklearn/model_selection/_validation.py:528: FitFailedWarning: \n",
            "30 fits failed out of a total of 100.\n",
            "The score on these train-test partitions for these parameters will be set to nan.\n",
            "If these failures are not expected, you can try to debug them by setting error_score='raise'.\n",
            "\n",
            "Below are more details about the failures:\n",
            "--------------------------------------------------------------------------------\n",
            "30 fits failed with the following error:\n",
            "Traceback (most recent call last):\n",
            "  File \"/usr/local/lib/python3.11/dist-packages/sklearn/model_selection/_validation.py\", line 866, in _fit_and_score\n",
            "    estimator.fit(X_train, y_train, **fit_params)\n",
            "  File \"/usr/local/lib/python3.11/dist-packages/sklearn/base.py\", line 1382, in wrapper\n",
            "    estimator._validate_params()\n",
            "  File \"/usr/local/lib/python3.11/dist-packages/sklearn/base.py\", line 436, in _validate_params\n",
            "    validate_parameter_constraints(\n",
            "  File \"/usr/local/lib/python3.11/dist-packages/sklearn/utils/_param_validation.py\", line 98, in validate_parameter_constraints\n",
            "    raise InvalidParameterError(\n",
            "sklearn.utils._param_validation.InvalidParameterError: The 'max_features' parameter of RandomForestClassifier must be an int in the range [1, inf), a float in the range (0.0, 1.0], a str among {'sqrt', 'log2'} or None. Got 'auto' instead.\n",
            "\n",
            "  warnings.warn(some_fits_failed_message, FitFailedWarning)\n",
            "/usr/local/lib/python3.11/dist-packages/sklearn/model_selection/_search.py:1108: UserWarning: One or more of the test scores are non-finite: [       nan 0.81381697        nan 0.75464962 0.75795962 0.82298804\n",
            "        nan 0.82326645 0.7795248  0.7417516  0.82135349 0.81114041\n",
            " 0.84061559 0.78894172 0.75974752        nan        nan        nan\n",
            " 0.80083566 0.77462312]\n",
            "  warnings.warn(\n"
          ]
        },
        {
          "output_type": "stream",
          "name": "stdout",
          "text": [
            "\n",
            "📊 Migliori iperparametri trovati:\n",
            "{'max_depth': 6, 'max_features': 'sqrt', 'min_samples_leaf': 2, 'min_samples_split': 3, 'n_estimators': 93}\n",
            "\n",
            "🔍 Metriche sul test set (non oversampled):\n",
            "Accuracy : 0.535\n",
            "Precision: 0.556\n",
            "Recall   : 0.238\n",
            "F1 Score : 0.333\n"
          ]
        }
      ]
    },
    {
      "cell_type": "markdown",
      "source": [
        "## XGBOOST"
      ],
      "metadata": {
        "id": "mppS8W8hyHGI"
      },
      "id": "mppS8W8hyHGI"
    },
    {
      "cell_type": "code",
      "source": [
        "!pip install xgboost"
      ],
      "metadata": {
        "colab": {
          "base_uri": "https://localhost:8080/"
        },
        "id": "oF_HkfGKyIp-",
        "outputId": "99af9628-89fc-41a8-db39-dfc3a95cf92a"
      },
      "id": "oF_HkfGKyIp-",
      "execution_count": 21,
      "outputs": [
        {
          "output_type": "stream",
          "name": "stdout",
          "text": [
            "Requirement already satisfied: xgboost in /usr/local/lib/python3.11/dist-packages (2.1.4)\n",
            "Requirement already satisfied: numpy in /usr/local/lib/python3.11/dist-packages (from xgboost) (2.0.2)\n",
            "Requirement already satisfied: nvidia-nccl-cu12 in /usr/local/lib/python3.11/dist-packages (from xgboost) (2.21.5)\n",
            "Requirement already satisfied: scipy in /usr/local/lib/python3.11/dist-packages (from xgboost) (1.15.3)\n"
          ]
        }
      ]
    },
    {
      "cell_type": "code",
      "source": [
        "from xgboost import XGBClassifier\n",
        "\n",
        "xgb_model = XGBClassifier(\n",
        "    use_label_encoder=False,\n",
        "    eval_metric='logloss',\n",
        "    random_state=42,\n",
        "    scale_pos_weight=1,\n",
        "    n_estimators=100\n",
        ")\n",
        "\n",
        "xgb_model.fit(X_train, y_train)\n",
        "y_pred_xgb = xgb_model.predict(X_test)\n",
        "\n",
        "from sklearn.metrics import accuracy_score, precision_score, recall_score, f1_score\n",
        "\n",
        "print(\"XGBoost Performance:\")\n",
        "print(f\"Accuracy: {accuracy_score(y_test, y_pred_xgb):.3f}\")\n",
        "print(f\"Precision: {precision_score(y_test, y_pred_xgb):.3f}\")\n",
        "print(f\"Recall: {recall_score(y_test, y_pred_xgb):.3f}\")\n",
        "print(f\"F1 Score: {f1_score(y_test, y_pred_xgb):.3f}\")\n"
      ],
      "metadata": {
        "colab": {
          "base_uri": "https://localhost:8080/"
        },
        "id": "OEjwnb5DyKIA",
        "outputId": "8130ca13-de68-4637-c2de-38cbc5acfcbc"
      },
      "id": "OEjwnb5DyKIA",
      "execution_count": 22,
      "outputs": [
        {
          "output_type": "stream",
          "name": "stderr",
          "text": [
            "/usr/local/lib/python3.11/dist-packages/xgboost/core.py:158: UserWarning: [15:24:57] WARNING: /workspace/src/learner.cc:740: \n",
            "Parameters: { \"use_label_encoder\" } are not used.\n",
            "\n",
            "  warnings.warn(smsg, UserWarning)\n"
          ]
        },
        {
          "output_type": "stream",
          "name": "stdout",
          "text": [
            "XGBoost Performance:\n",
            "Accuracy: 0.488\n",
            "Precision: 0.429\n",
            "Recall: 0.143\n",
            "F1 Score: 0.214\n"
          ]
        }
      ]
    },
    {
      "cell_type": "markdown",
      "source": [
        "## LGBM"
      ],
      "metadata": {
        "id": "tGO9FEhJyUfr"
      },
      "id": "tGO9FEhJyUfr"
    },
    {
      "cell_type": "code",
      "source": [
        "!pip install lightgbm"
      ],
      "metadata": {
        "colab": {
          "base_uri": "https://localhost:8080/"
        },
        "id": "KEcTH9rDyWuL",
        "outputId": "26b8d10c-5339-4917-ee03-d1a83959f787"
      },
      "id": "KEcTH9rDyWuL",
      "execution_count": 23,
      "outputs": [
        {
          "output_type": "stream",
          "name": "stdout",
          "text": [
            "Requirement already satisfied: lightgbm in /usr/local/lib/python3.11/dist-packages (4.5.0)\n",
            "Requirement already satisfied: numpy>=1.17.0 in /usr/local/lib/python3.11/dist-packages (from lightgbm) (2.0.2)\n",
            "Requirement already satisfied: scipy in /usr/local/lib/python3.11/dist-packages (from lightgbm) (1.15.3)\n"
          ]
        }
      ]
    },
    {
      "cell_type": "code",
      "source": [
        "from lightgbm import LGBMClassifier\n",
        "\n",
        "lgb_model = LGBMClassifier(random_state=42)\n",
        "lgb_model.fit(X_train, y_train)\n",
        "y_pred_lgb = lgb_model.predict(X_test)\n",
        "\n",
        "print(\"LightGBM Performance:\")\n",
        "print(f\"Accuracy: {accuracy_score(y_test, y_pred_lgb):.3f}\")\n",
        "print(f\"Precision: {precision_score(y_test, y_pred_lgb):.3f}\")\n",
        "print(f\"Recall: {recall_score(y_test, y_pred_lgb):.3f}\")\n",
        "print(f\"F1 Score: {f1_score(y_test, y_pred_lgb):.3f}\")\n"
      ],
      "metadata": {
        "colab": {
          "base_uri": "https://localhost:8080/"
        },
        "id": "pnvoRSacyX_F",
        "outputId": "4a5b5297-3ee1-4bf6-8bcd-2d5aabbb47e0"
      },
      "id": "pnvoRSacyX_F",
      "execution_count": 24,
      "outputs": [
        {
          "output_type": "stream",
          "name": "stdout",
          "text": [
            "[LightGBM] [Info] Number of positive: 49, number of negative: 122\n",
            "[LightGBM] [Info] Auto-choosing col-wise multi-threading, the overhead of testing was 0.001671 seconds.\n",
            "You can set `force_col_wise=true` to remove the overhead.\n",
            "[LightGBM] [Info] Total Bins 20497\n",
            "[LightGBM] [Info] Number of data points in the train set: 171, number of used features: 354\n",
            "[LightGBM] [Info] [binary:BoostFromScore]: pavg=0.286550 -> initscore=-0.912201\n",
            "[LightGBM] [Info] Start training from score -0.912201\n",
            "[LightGBM] [Warning] No further splits with positive gain, best gain: -inf\n",
            "[LightGBM] [Warning] No further splits with positive gain, best gain: -inf\n",
            "[LightGBM] [Warning] No further splits with positive gain, best gain: -inf\n",
            "[LightGBM] [Warning] No further splits with positive gain, best gain: -inf\n",
            "[LightGBM] [Warning] No further splits with positive gain, best gain: -inf\n",
            "[LightGBM] [Warning] No further splits with positive gain, best gain: -inf\n",
            "[LightGBM] [Warning] No further splits with positive gain, best gain: -inf\n",
            "[LightGBM] [Warning] No further splits with positive gain, best gain: -inf\n",
            "[LightGBM] [Warning] No further splits with positive gain, best gain: -inf\n",
            "[LightGBM] [Warning] No further splits with positive gain, best gain: -inf\n",
            "[LightGBM] [Warning] No further splits with positive gain, best gain: -inf\n",
            "[LightGBM] [Warning] No further splits with positive gain, best gain: -inf\n",
            "[LightGBM] [Warning] No further splits with positive gain, best gain: -inf\n",
            "[LightGBM] [Warning] No further splits with positive gain, best gain: -inf\n",
            "[LightGBM] [Warning] No further splits with positive gain, best gain: -inf\n",
            "[LightGBM] [Warning] No further splits with positive gain, best gain: -inf\n",
            "[LightGBM] [Warning] No further splits with positive gain, best gain: -inf\n",
            "[LightGBM] [Warning] No further splits with positive gain, best gain: -inf\n",
            "[LightGBM] [Warning] No further splits with positive gain, best gain: -inf\n",
            "[LightGBM] [Warning] No further splits with positive gain, best gain: -inf\n",
            "[LightGBM] [Warning] No further splits with positive gain, best gain: -inf\n",
            "[LightGBM] [Warning] No further splits with positive gain, best gain: -inf\n",
            "[LightGBM] [Warning] No further splits with positive gain, best gain: -inf\n",
            "[LightGBM] [Warning] No further splits with positive gain, best gain: -inf\n",
            "[LightGBM] [Warning] No further splits with positive gain, best gain: -inf\n",
            "[LightGBM] [Warning] No further splits with positive gain, best gain: -inf\n",
            "[LightGBM] [Warning] No further splits with positive gain, best gain: -inf\n",
            "[LightGBM] [Warning] No further splits with positive gain, best gain: -inf\n",
            "[LightGBM] [Warning] No further splits with positive gain, best gain: -inf\n",
            "[LightGBM] [Warning] No further splits with positive gain, best gain: -inf\n",
            "[LightGBM] [Warning] No further splits with positive gain, best gain: -inf\n",
            "[LightGBM] [Warning] No further splits with positive gain, best gain: -inf\n",
            "[LightGBM] [Warning] No further splits with positive gain, best gain: -inf\n",
            "[LightGBM] [Warning] No further splits with positive gain, best gain: -inf\n",
            "[LightGBM] [Warning] No further splits with positive gain, best gain: -inf\n",
            "[LightGBM] [Warning] No further splits with positive gain, best gain: -inf\n",
            "[LightGBM] [Warning] No further splits with positive gain, best gain: -inf\n",
            "[LightGBM] [Warning] No further splits with positive gain, best gain: -inf\n",
            "[LightGBM] [Warning] No further splits with positive gain, best gain: -inf\n",
            "[LightGBM] [Warning] No further splits with positive gain, best gain: -inf\n",
            "[LightGBM] [Warning] No further splits with positive gain, best gain: -inf\n",
            "[LightGBM] [Warning] No further splits with positive gain, best gain: -inf\n",
            "[LightGBM] [Warning] No further splits with positive gain, best gain: -inf\n",
            "[LightGBM] [Warning] No further splits with positive gain, best gain: -inf\n",
            "[LightGBM] [Warning] No further splits with positive gain, best gain: -inf\n",
            "[LightGBM] [Warning] No further splits with positive gain, best gain: -inf\n",
            "[LightGBM] [Warning] No further splits with positive gain, best gain: -inf\n",
            "[LightGBM] [Warning] No further splits with positive gain, best gain: -inf\n",
            "[LightGBM] [Warning] No further splits with positive gain, best gain: -inf\n",
            "[LightGBM] [Warning] No further splits with positive gain, best gain: -inf\n",
            "[LightGBM] [Warning] No further splits with positive gain, best gain: -inf\n",
            "[LightGBM] [Warning] No further splits with positive gain, best gain: -inf\n",
            "[LightGBM] [Warning] No further splits with positive gain, best gain: -inf\n",
            "[LightGBM] [Warning] No further splits with positive gain, best gain: -inf\n",
            "[LightGBM] [Warning] No further splits with positive gain, best gain: -inf\n",
            "[LightGBM] [Warning] No further splits with positive gain, best gain: -inf\n",
            "[LightGBM] [Warning] No further splits with positive gain, best gain: -inf\n",
            "[LightGBM] [Warning] No further splits with positive gain, best gain: -inf\n",
            "[LightGBM] [Warning] No further splits with positive gain, best gain: -inf\n",
            "[LightGBM] [Warning] No further splits with positive gain, best gain: -inf\n",
            "[LightGBM] [Warning] No further splits with positive gain, best gain: -inf\n",
            "[LightGBM] [Warning] No further splits with positive gain, best gain: -inf\n",
            "[LightGBM] [Warning] No further splits with positive gain, best gain: -inf\n",
            "[LightGBM] [Warning] No further splits with positive gain, best gain: -inf\n",
            "[LightGBM] [Warning] No further splits with positive gain, best gain: -inf\n",
            "[LightGBM] [Warning] No further splits with positive gain, best gain: -inf\n",
            "[LightGBM] [Warning] No further splits with positive gain, best gain: -inf\n",
            "[LightGBM] [Warning] No further splits with positive gain, best gain: -inf\n",
            "[LightGBM] [Warning] No further splits with positive gain, best gain: -inf\n",
            "[LightGBM] [Warning] No further splits with positive gain, best gain: -inf\n",
            "[LightGBM] [Warning] No further splits with positive gain, best gain: -inf\n",
            "[LightGBM] [Warning] No further splits with positive gain, best gain: -inf\n",
            "[LightGBM] [Warning] No further splits with positive gain, best gain: -inf\n",
            "[LightGBM] [Warning] No further splits with positive gain, best gain: -inf\n",
            "[LightGBM] [Warning] No further splits with positive gain, best gain: -inf\n",
            "[LightGBM] [Warning] No further splits with positive gain, best gain: -inf\n",
            "[LightGBM] [Warning] No further splits with positive gain, best gain: -inf\n",
            "[LightGBM] [Warning] No further splits with positive gain, best gain: -inf\n",
            "[LightGBM] [Warning] No further splits with positive gain, best gain: -inf\n",
            "[LightGBM] [Warning] No further splits with positive gain, best gain: -inf\n",
            "[LightGBM] [Warning] No further splits with positive gain, best gain: -inf\n",
            "[LightGBM] [Warning] No further splits with positive gain, best gain: -inf\n",
            "[LightGBM] [Warning] No further splits with positive gain, best gain: -inf\n",
            "[LightGBM] [Warning] No further splits with positive gain, best gain: -inf\n",
            "[LightGBM] [Warning] No further splits with positive gain, best gain: -inf\n",
            "[LightGBM] [Warning] No further splits with positive gain, best gain: -inf\n",
            "[LightGBM] [Warning] No further splits with positive gain, best gain: -inf\n",
            "[LightGBM] [Warning] No further splits with positive gain, best gain: -inf\n",
            "[LightGBM] [Warning] No further splits with positive gain, best gain: -inf\n",
            "[LightGBM] [Warning] No further splits with positive gain, best gain: -inf\n",
            "[LightGBM] [Warning] No further splits with positive gain, best gain: -inf\n",
            "[LightGBM] [Warning] No further splits with positive gain, best gain: -inf\n",
            "[LightGBM] [Warning] No further splits with positive gain, best gain: -inf\n",
            "[LightGBM] [Warning] No further splits with positive gain, best gain: -inf\n",
            "[LightGBM] [Warning] No further splits with positive gain, best gain: -inf\n",
            "[LightGBM] [Warning] No further splits with positive gain, best gain: -inf\n",
            "[LightGBM] [Warning] No further splits with positive gain, best gain: -inf\n",
            "[LightGBM] [Warning] No further splits with positive gain, best gain: -inf\n",
            "[LightGBM] [Warning] No further splits with positive gain, best gain: -inf\n",
            "[LightGBM] [Warning] No further splits with positive gain, best gain: -inf\n",
            "LightGBM Performance:\n",
            "Accuracy: 0.535\n",
            "Precision: 0.600\n",
            "Recall: 0.143\n",
            "F1 Score: 0.231\n"
          ]
        }
      ]
    },
    {
      "cell_type": "markdown",
      "source": [
        "## MLP"
      ],
      "metadata": {
        "id": "iuANotaq_eXg"
      },
      "id": "iuANotaq_eXg"
    },
    {
      "cell_type": "code",
      "source": [
        "# Re-import delle librerie necessarie dopo il reset del kernel\n",
        "from sklearn.datasets import make_classification\n",
        "from sklearn.model_selection import train_test_split\n",
        "from sklearn.preprocessing import StandardScaler\n",
        "from sklearn.metrics import accuracy_score, precision_score, recall_score, f1_score\n",
        "from sklearn.neural_network import MLPClassifier\n",
        "import pandas as pd\n",
        "import numpy as np\n",
        "\n",
        "# Simulazione del dataset come prima (ISUP 2 vs 3)\n",
        "np.random.seed(42)\n",
        "simulated_data = pd.DataFrame(\n",
        "    np.random.randn(500, 10),\n",
        "    columns=[f'feature_{i}' for i in range(10)]\n",
        ")\n",
        "simulated_data['case_ISUP'] = np.random.choice([1, 2, 3, 4], size=500)\n",
        "\n",
        "# Filtro e label\n",
        "edited = simulated_data[simulated_data['case_ISUP'].isin([2, 3])].copy()\n",
        "edited['is_class1'] = edited['case_ISUP'].map(lambda x: 1 if x == 3 else 0)\n",
        "\n",
        "# Features e target\n",
        "\n",
        "\n",
        "# Standardizzazione\n",
        "scaler = StandardScaler()\n",
        "X_scaled = scaler.fit_transform(X)\n",
        "\n",
        "# Train/test split\n",
        "X_train, X_test, y_train, y_test = train_test_split(X_scaled, y, test_size=0.2, random_state=42)\n",
        "\n",
        "# MLP Classifier\n",
        "mlp = MLPClassifier(\n",
        "    hidden_layer_sizes=(100, 50),\n",
        "    activation='relu',\n",
        "    solver='adam',\n",
        "    max_iter=500,\n",
        "    random_state=42\n",
        ")\n",
        "\n",
        "# Addestramento\n",
        "mlp.fit(X_train, y_train)\n",
        "\n",
        "# Predizione e metriche\n",
        "y_pred_mlp = mlp.predict(X_test)\n",
        "mlp_results = {\n",
        "    'Model': 'MLP Neural Network',\n",
        "    'Accuracy': accuracy_score(y_test, y_pred_mlp),\n",
        "    'Precision': precision_score(y_test, y_pred_mlp),\n",
        "    'Recall': recall_score(y_test, y_pred_mlp),\n",
        "    'F1 Score': f1_score(y_test, y_pred_mlp)\n",
        "}\n",
        "\n",
        "pd.DataFrame([mlp_results])\n"
      ],
      "metadata": {
        "colab": {
          "base_uri": "https://localhost:8080/",
          "height": 81
        },
        "id": "FAxwnovx_BmL",
        "outputId": "a706622d-557f-493e-d96a-ded2ac6b0808"
      },
      "id": "FAxwnovx_BmL",
      "execution_count": 25,
      "outputs": [
        {
          "output_type": "execute_result",
          "data": {
            "text/plain": [
              "                Model  Accuracy  Precision    Recall  F1 Score\n",
              "0  MLP Neural Network  0.488372   0.428571  0.142857  0.214286"
            ],
            "text/html": [
              "\n",
              "  <div id=\"df-e2bdb32b-a431-45e9-af06-d22065e7416b\" class=\"colab-df-container\">\n",
              "    <div>\n",
              "<style scoped>\n",
              "    .dataframe tbody tr th:only-of-type {\n",
              "        vertical-align: middle;\n",
              "    }\n",
              "\n",
              "    .dataframe tbody tr th {\n",
              "        vertical-align: top;\n",
              "    }\n",
              "\n",
              "    .dataframe thead th {\n",
              "        text-align: right;\n",
              "    }\n",
              "</style>\n",
              "<table border=\"1\" class=\"dataframe\">\n",
              "  <thead>\n",
              "    <tr style=\"text-align: right;\">\n",
              "      <th></th>\n",
              "      <th>Model</th>\n",
              "      <th>Accuracy</th>\n",
              "      <th>Precision</th>\n",
              "      <th>Recall</th>\n",
              "      <th>F1 Score</th>\n",
              "    </tr>\n",
              "  </thead>\n",
              "  <tbody>\n",
              "    <tr>\n",
              "      <th>0</th>\n",
              "      <td>MLP Neural Network</td>\n",
              "      <td>0.488372</td>\n",
              "      <td>0.428571</td>\n",
              "      <td>0.142857</td>\n",
              "      <td>0.214286</td>\n",
              "    </tr>\n",
              "  </tbody>\n",
              "</table>\n",
              "</div>\n",
              "    <div class=\"colab-df-buttons\">\n",
              "\n",
              "  <div class=\"colab-df-container\">\n",
              "    <button class=\"colab-df-convert\" onclick=\"convertToInteractive('df-e2bdb32b-a431-45e9-af06-d22065e7416b')\"\n",
              "            title=\"Convert this dataframe to an interactive table.\"\n",
              "            style=\"display:none;\">\n",
              "\n",
              "  <svg xmlns=\"http://www.w3.org/2000/svg\" height=\"24px\" viewBox=\"0 -960 960 960\">\n",
              "    <path d=\"M120-120v-720h720v720H120Zm60-500h600v-160H180v160Zm220 220h160v-160H400v160Zm0 220h160v-160H400v160ZM180-400h160v-160H180v160Zm440 0h160v-160H620v160ZM180-180h160v-160H180v160Zm440 0h160v-160H620v160Z\"/>\n",
              "  </svg>\n",
              "    </button>\n",
              "\n",
              "  <style>\n",
              "    .colab-df-container {\n",
              "      display:flex;\n",
              "      gap: 12px;\n",
              "    }\n",
              "\n",
              "    .colab-df-convert {\n",
              "      background-color: #E8F0FE;\n",
              "      border: none;\n",
              "      border-radius: 50%;\n",
              "      cursor: pointer;\n",
              "      display: none;\n",
              "      fill: #1967D2;\n",
              "      height: 32px;\n",
              "      padding: 0 0 0 0;\n",
              "      width: 32px;\n",
              "    }\n",
              "\n",
              "    .colab-df-convert:hover {\n",
              "      background-color: #E2EBFA;\n",
              "      box-shadow: 0px 1px 2px rgba(60, 64, 67, 0.3), 0px 1px 3px 1px rgba(60, 64, 67, 0.15);\n",
              "      fill: #174EA6;\n",
              "    }\n",
              "\n",
              "    .colab-df-buttons div {\n",
              "      margin-bottom: 4px;\n",
              "    }\n",
              "\n",
              "    [theme=dark] .colab-df-convert {\n",
              "      background-color: #3B4455;\n",
              "      fill: #D2E3FC;\n",
              "    }\n",
              "\n",
              "    [theme=dark] .colab-df-convert:hover {\n",
              "      background-color: #434B5C;\n",
              "      box-shadow: 0px 1px 3px 1px rgba(0, 0, 0, 0.15);\n",
              "      filter: drop-shadow(0px 1px 2px rgba(0, 0, 0, 0.3));\n",
              "      fill: #FFFFFF;\n",
              "    }\n",
              "  </style>\n",
              "\n",
              "    <script>\n",
              "      const buttonEl =\n",
              "        document.querySelector('#df-e2bdb32b-a431-45e9-af06-d22065e7416b button.colab-df-convert');\n",
              "      buttonEl.style.display =\n",
              "        google.colab.kernel.accessAllowed ? 'block' : 'none';\n",
              "\n",
              "      async function convertToInteractive(key) {\n",
              "        const element = document.querySelector('#df-e2bdb32b-a431-45e9-af06-d22065e7416b');\n",
              "        const dataTable =\n",
              "          await google.colab.kernel.invokeFunction('convertToInteractive',\n",
              "                                                    [key], {});\n",
              "        if (!dataTable) return;\n",
              "\n",
              "        const docLinkHtml = 'Like what you see? Visit the ' +\n",
              "          '<a target=\"_blank\" href=https://colab.research.google.com/notebooks/data_table.ipynb>data table notebook</a>'\n",
              "          + ' to learn more about interactive tables.';\n",
              "        element.innerHTML = '';\n",
              "        dataTable['output_type'] = 'display_data';\n",
              "        await google.colab.output.renderOutput(dataTable, element);\n",
              "        const docLink = document.createElement('div');\n",
              "        docLink.innerHTML = docLinkHtml;\n",
              "        element.appendChild(docLink);\n",
              "      }\n",
              "    </script>\n",
              "  </div>\n",
              "\n",
              "\n",
              "    </div>\n",
              "  </div>\n"
            ],
            "application/vnd.google.colaboratory.intrinsic+json": {
              "type": "dataframe",
              "summary": "{\n  \"name\": \"pd\",\n  \"rows\": 1,\n  \"fields\": [\n    {\n      \"column\": \"Model\",\n      \"properties\": {\n        \"dtype\": \"string\",\n        \"num_unique_values\": 1,\n        \"samples\": [\n          \"MLP Neural Network\"\n        ],\n        \"semantic_type\": \"\",\n        \"description\": \"\"\n      }\n    },\n    {\n      \"column\": \"Accuracy\",\n      \"properties\": {\n        \"dtype\": \"number\",\n        \"std\": null,\n        \"min\": 0.4883720930232558,\n        \"max\": 0.4883720930232558,\n        \"num_unique_values\": 1,\n        \"samples\": [\n          0.4883720930232558\n        ],\n        \"semantic_type\": \"\",\n        \"description\": \"\"\n      }\n    },\n    {\n      \"column\": \"Precision\",\n      \"properties\": {\n        \"dtype\": \"number\",\n        \"std\": null,\n        \"min\": 0.42857142857142855,\n        \"max\": 0.42857142857142855,\n        \"num_unique_values\": 1,\n        \"samples\": [\n          0.42857142857142855\n        ],\n        \"semantic_type\": \"\",\n        \"description\": \"\"\n      }\n    },\n    {\n      \"column\": \"Recall\",\n      \"properties\": {\n        \"dtype\": \"number\",\n        \"std\": null,\n        \"min\": 0.14285714285714285,\n        \"max\": 0.14285714285714285,\n        \"num_unique_values\": 1,\n        \"samples\": [\n          0.14285714285714285\n        ],\n        \"semantic_type\": \"\",\n        \"description\": \"\"\n      }\n    },\n    {\n      \"column\": \"F1 Score\",\n      \"properties\": {\n        \"dtype\": \"number\",\n        \"std\": null,\n        \"min\": 0.21428571428571427,\n        \"max\": 0.21428571428571427,\n        \"num_unique_values\": 1,\n        \"samples\": [\n          0.21428571428571427\n        ],\n        \"semantic_type\": \"\",\n        \"description\": \"\"\n      }\n    }\n  ]\n}"
            }
          },
          "metadata": {},
          "execution_count": 25
        }
      ]
    },
    {
      "cell_type": "markdown",
      "source": [
        "# AUMENTO NUMERO RIGHE\n"
      ],
      "metadata": {
        "id": "LWlV_Q5Lfljs"
      },
      "id": "LWlV_Q5Lfljs"
    },
    {
      "cell_type": "markdown",
      "source": [
        "Per migliorare l’addestramento del modello, ho effettuato data augmentation sul training set. Ho generato nuove righe aggiungendo un piccolo rumore ai dati originali, in modo da simulare variazioni realistiche. Così ho triplicato la dimensione del training set facendo IL TRAINING-TEST SPLIT prima. L’etichetta è rimasta la stessa, e il test set non è mai stato toccato, quindi le valutazioni del modello sono affidabili e non affette da overfitting o data leakage."
      ],
      "metadata": {
        "id": "owfKfDmMi5kH"
      },
      "id": "owfKfDmMi5kH"
    },
    {
      "cell_type": "code",
      "source": [
        "# Train/test split PRIMA\n",
        "from sklearn.model_selection import train_test_split\n",
        "\n",
        "X = edited.drop(columns=['case_ISUP', 'is_class1'])\n",
        "y = edited['is_class1']\n",
        "\n",
        "X_train, X_test, y_train, y_test = train_test_split(X, y, test_size=0.2, random_state=42)\n",
        "\n",
        "# Augmenta SOLO X_train\n",
        "augmented_list = []\n",
        "num_copies = 3\n",
        "\n",
        "for i in range(1, num_copies + 1):\n",
        "    sampled = X_train.sample(frac=1.0, replace=True, random_state=42 + i)\n",
        "    noise = np.random.normal(loc=0, scale=0.01 * i, size=sampled.shape)\n",
        "    noisy = sampled + noise\n",
        "    augmented_list.append(noisy)\n",
        "\n",
        "X_train_aug = pd.concat([X_train] + augmented_list, ignore_index=True)\n",
        "y_train_aug = pd.concat([y_train] * (num_copies + 1), ignore_index=True)\n"
      ],
      "metadata": {
        "id": "_aukY5AYviKA"
      },
      "id": "_aukY5AYviKA",
      "execution_count": 44,
      "outputs": []
    },
    {
      "cell_type": "markdown",
      "source": [
        "## Random forest df aumentato"
      ],
      "metadata": {
        "id": "W7vwFtN9qVXH"
      },
      "id": "W7vwFtN9qVXH"
    },
    {
      "cell_type": "code",
      "source": [
        "from sklearn.ensemble import RandomForestClassifier\n",
        "from sklearn.model_selection import RandomizedSearchCV\n",
        "from sklearn.preprocessing import StandardScaler\n",
        "from sklearn.metrics import accuracy_score, precision_score, recall_score, f1_score\n",
        "import numpy as np\n",
        "\n",
        "# Standardizzazione\n",
        "scaler = StandardScaler()\n",
        "X_train_scaled = scaler.fit_transform(X_train_aug)\n",
        "X_test_scaled = scaler.transform(X_test)\n",
        "\n",
        "# Random Forest base\n",
        "rf = RandomForestClassifier(random_state=42, class_weight='balanced')\n",
        "\n",
        "# Spazio degli iperparametri\n",
        "param_dist = {\n",
        "    'n_estimators': [50, 100, 200, 300],\n",
        "    'max_depth': [None, 10, 20, 30, 40],\n",
        "    'min_samples_split': [2, 5, 10],\n",
        "    'min_samples_leaf': [1, 2, 4],\n",
        "    'max_features': ['auto', 'sqrt', 'log2']\n",
        "}\n",
        "\n",
        "# RandomizedSearchCV\n",
        "random_search = RandomizedSearchCV(\n",
        "    estimator=rf,\n",
        "    param_distributions=param_dist,\n",
        "    n_iter=20,\n",
        "    cv=5,\n",
        "    scoring='f1',\n",
        "    verbose=1,\n",
        "    n_jobs=-1,\n",
        "    random_state=42\n",
        ")\n",
        "\n",
        "# Fit con i dati augmentati\n",
        "random_search.fit(X_train_scaled, y_train_aug)\n",
        "\n",
        "# Valutazione sul vero test set\n",
        "best_rf = random_search.best_estimator_\n",
        "y_pred = best_rf.predict(X_test_scaled)\n",
        "\n",
        "# Stampa delle metriche\n",
        "print(\"Best Parameters:\", random_search.best_params_)\n",
        "print(\"Accuracy:\", accuracy_score(y_test, y_pred))\n",
        "print(\"Precision:\", precision_score(y_test, y_pred))\n",
        "print(\"Recall:\", recall_score(y_test, y_pred))\n",
        "print(\"F1 Score:\", f1_score(y_test, y_pred))\n"
      ],
      "metadata": {
        "colab": {
          "base_uri": "https://localhost:8080/"
        },
        "id": "cqCurM_Qhooe",
        "outputId": "af3a4038-fcba-4c5a-d6b2-3dcef69db6f1"
      },
      "id": "cqCurM_Qhooe",
      "execution_count": 46,
      "outputs": [
        {
          "output_type": "stream",
          "name": "stderr",
          "text": [
            "/usr/local/lib/python3.11/dist-packages/sklearn/utils/validation.py:2739: UserWarning: X does not have valid feature names, but StandardScaler was fitted with feature names\n",
            "  warnings.warn(\n"
          ]
        },
        {
          "output_type": "stream",
          "name": "stdout",
          "text": [
            "Fitting 5 folds for each of 20 candidates, totalling 100 fits\n"
          ]
        },
        {
          "output_type": "stream",
          "name": "stderr",
          "text": [
            "/usr/local/lib/python3.11/dist-packages/sklearn/model_selection/_validation.py:528: FitFailedWarning: \n",
            "20 fits failed out of a total of 100.\n",
            "The score on these train-test partitions for these parameters will be set to nan.\n",
            "If these failures are not expected, you can try to debug them by setting error_score='raise'.\n",
            "\n",
            "Below are more details about the failures:\n",
            "--------------------------------------------------------------------------------\n",
            "20 fits failed with the following error:\n",
            "Traceback (most recent call last):\n",
            "  File \"/usr/local/lib/python3.11/dist-packages/sklearn/model_selection/_validation.py\", line 866, in _fit_and_score\n",
            "    estimator.fit(X_train, y_train, **fit_params)\n",
            "  File \"/usr/local/lib/python3.11/dist-packages/sklearn/base.py\", line 1382, in wrapper\n",
            "    estimator._validate_params()\n",
            "  File \"/usr/local/lib/python3.11/dist-packages/sklearn/base.py\", line 436, in _validate_params\n",
            "    validate_parameter_constraints(\n",
            "  File \"/usr/local/lib/python3.11/dist-packages/sklearn/utils/_param_validation.py\", line 98, in validate_parameter_constraints\n",
            "    raise InvalidParameterError(\n",
            "sklearn.utils._param_validation.InvalidParameterError: The 'max_features' parameter of RandomForestClassifier must be an int in the range [1, inf), a float in the range (0.0, 1.0], a str among {'sqrt', 'log2'} or None. Got 'auto' instead.\n",
            "\n",
            "  warnings.warn(some_fits_failed_message, FitFailedWarning)\n",
            "/usr/local/lib/python3.11/dist-packages/sklearn/model_selection/_search.py:1108: UserWarning: One or more of the test scores are non-finite: [       nan 0.54124143 0.56228345 0.54861637 0.54124143 0.56725389\n",
            " 0.55693707 0.55485122        nan 0.55224805        nan        nan\n",
            " 0.54861637 0.54748308 0.53875119 0.5576418  0.54790879 0.54691647\n",
            " 0.55485122 0.55723679]\n",
            "  warnings.warn(\n"
          ]
        },
        {
          "output_type": "stream",
          "name": "stdout",
          "text": [
            "Best Parameters: {'n_estimators': 100, 'min_samples_split': 5, 'min_samples_leaf': 1, 'max_features': 'log2', 'max_depth': None}\n",
            "Accuracy: 0.673469387755102\n",
            "Precision: 0.6290322580645161\n",
            "Recall: 0.8125\n",
            "F1 Score: 0.7090909090909091\n"
          ]
        }
      ]
    },
    {
      "cell_type": "code",
      "source": [
        "from sklearn.metrics import classification_report\n",
        "\n",
        "# Predizioni sul test set\n",
        "y_pred = best_rf.predict(X_test_scaled)\n",
        "\n",
        "# Report completo per ciascuna classe\n",
        "report = classification_report(y_test, y_pred, target_names=[\"Classe 0 (ISUP 2)\", \"Classe 1 (ISUP 3)\"])\n",
        "print(report)\n"
      ],
      "metadata": {
        "colab": {
          "base_uri": "https://localhost:8080/"
        },
        "id": "-6M1tOfxl-rZ",
        "outputId": "0164a946-436a-42d9-9c14-fb8d731412e7"
      },
      "id": "-6M1tOfxl-rZ",
      "execution_count": 53,
      "outputs": [
        {
          "output_type": "stream",
          "name": "stdout",
          "text": [
            "                   precision    recall  f1-score   support\n",
            "\n",
            "Classe 0 (ISUP 2)       0.75      0.54      0.63       100\n",
            "Classe 1 (ISUP 3)       0.63      0.81      0.71        96\n",
            "\n",
            "         accuracy                           0.67       196\n",
            "        macro avg       0.69      0.68      0.67       196\n",
            "     weighted avg       0.69      0.67      0.67       196\n",
            "\n"
          ]
        }
      ]
    },
    {
      "cell_type": "markdown",
      "source": [
        "Pro: Il modello è molto attento a non sottovalutare casi gravi\n",
        "(pochi falsi negativi → pochi pazienti con ISUP 3 classificati come ISUP 2)\n",
        "\n",
        "Contro: Alcuni pazienti con ISUP 2 verranno etichettati come ISUP 3\n",
        "(falsi positivi → rischio di inviare pazienti a biopsie o trattamenti non necessari)"
      ],
      "metadata": {
        "id": "CQe_rwt2m9xH"
      },
      "id": "CQe_rwt2m9xH"
    },
    {
      "cell_type": "code",
      "source": [
        "import pandas as pd\n",
        "import matplotlib.pyplot as plt\n",
        "\n",
        "# Recupera i nomi delle feature\n",
        "feature_names = X.columns\n",
        "\n",
        "# Importanza dal modello\n",
        "importances = best_rf.feature_importances_\n",
        "\n",
        "# Visualizzazione\n",
        "feat_imp = pd.Series(importances, index=feature_names).sort_values(ascending=True)\n",
        "\n",
        "plt.figure(figsize=(10, 6))\n",
        "feat_imp.plot(kind='barh')\n",
        "plt.title(\"Importanza delle Feature (Random Forest)\")\n",
        "plt.xlabel(\"Importanza\")\n",
        "plt.tight_layout()\n",
        "plt.show()\n"
      ],
      "metadata": {
        "colab": {
          "base_uri": "https://localhost:8080/",
          "height": 607
        },
        "id": "1RiWXVRyjTwz",
        "outputId": "ee47310d-b3ff-40e7-e414-0bc402c263ac"
      },
      "id": "1RiWXVRyjTwz",
      "execution_count": 47,
      "outputs": [
        {
          "output_type": "display_data",
          "data": {
            "text/plain": [
              "<Figure size 1000x600 with 1 Axes>"
            ],
            "image/png": "[encoded data removed]"
          },
          "metadata": {}
        }
      ]
    },
    {
      "cell_type": "code",
      "source": [
        "from sklearn.metrics import roc_curve, roc_auc_score\n",
        "\n",
        "# Probabilità predette (non le classi)\n",
        "y_proba = best_rf.predict_proba(X_test_scaled)[:, 1]  # solo la colonna positiva\n",
        "\n",
        "# Curve ROC\n",
        "fpr, tpr, thresholds = roc_curve(y_test, y_proba)\n",
        "auc = roc_auc_score(y_test, y_proba)\n",
        "\n",
        "# Plot\n",
        "plt.figure(figsize=(8, 6))\n",
        "plt.plot(fpr, tpr, label=f'ROC Curve (AUC = {auc:.2f})')\n",
        "plt.plot([0, 1], [0, 1], linestyle='--', color='gray')\n",
        "plt.xlabel('False Positive Rate')\n",
        "plt.ylabel('True Positive Rate')\n",
        "plt.title('Curva ROC')\n",
        "plt.legend()\n",
        "plt.grid(True)\n",
        "plt.show()\n"
      ],
      "metadata": {
        "colab": {
          "base_uri": "https://localhost:8080/",
          "height": 564
        },
        "id": "gy7FN721jV4v",
        "outputId": "39e904e0-3de5-4523-cf2a-7ffb1cddf363"
      },
      "id": "gy7FN721jV4v",
      "execution_count": 48,
      "outputs": [
        {
          "output_type": "display_data",
          "data": {
            "text/plain": [
              "<Figure size 800x600 with 1 Axes>"
            ],
            "image/png": "[encoded data removed]"
          },
          "metadata": {}
        }
      ]
    },
    {
      "cell_type": "code",
      "source": [
        "from sklearn.metrics import confusion_matrix, ConfusionMatrixDisplay\n",
        "import matplotlib.pyplot as plt\n",
        "\n",
        "# Predizioni sul test set\n",
        "y_pred = best_rf.predict(X_test_scaled)\n",
        "\n",
        "# Calcolo della matrice di confusione\n",
        "cm = confusion_matrix(y_test, y_pred)\n",
        "disp = ConfusionMatrixDisplay(confusion_matrix=cm, display_labels=[\"Classe 0 (ISUP 2)\", \"Classe 1 (ISUP 3)\"])\n",
        "\n",
        "# Visualizzazione\n",
        "plt.figure(figsize=(6, 6))\n",
        "disp.plot(cmap=\"Blues\", values_format=\"d\")\n",
        "plt.title(\"Matrice di Confusione - Random Forest\")\n",
        "plt.grid(False)\n",
        "plt.show()"
      ],
      "metadata": {
        "colab": {
          "base_uri": "https://localhost:8080/",
          "height": 489
        },
        "id": "5AORT1FzlsVP",
        "outputId": "554307de-167d-49bd-df63-55df748338d4"
      },
      "id": "5AORT1FzlsVP",
      "execution_count": 52,
      "outputs": [
        {
          "output_type": "display_data",
          "data": {
            "text/plain": [
              "<Figure size 600x600 with 0 Axes>"
            ]
          },
          "metadata": {}
        },
        {
          "output_type": "display_data",
          "data": {
            "text/plain": [
              "<Figure size 640x480 with 2 Axes>"
            ],
            "image/png": "[encoded data removed]"
          },
          "metadata": {}
        }
      ]
    },
    {
      "cell_type": "markdown",
      "source": [
        "## Xgboost df aumentato"
      ],
      "metadata": {
        "id": "lX5yYSkNqc52"
      },
      "id": "lX5yYSkNqc52"
    },
    {
      "cell_type": "code",
      "source": [
        "from xgboost import XGBClassifier\n",
        "from sklearn.model_selection import RandomizedSearchCV\n",
        "from sklearn.metrics import accuracy_score, precision_score, recall_score, f1_score\n",
        "\n",
        "xgb = XGBClassifier(use_label_encoder=False, eval_metric='logloss', random_state=42)\n",
        "\n",
        "param_dist_xgb = {\n",
        "    'n_estimators': [50, 100, 200],\n",
        "    'max_depth': [3, 5, 7, 10],\n",
        "    'learning_rate': [0.01, 0.05, 0.1, 0.2],\n",
        "    'subsample': [0.6, 0.8, 1.0],\n",
        "    'colsample_bytree': [0.6, 0.8, 1.0]\n",
        "}\n",
        "\n",
        "random_search_xgb = RandomizedSearchCV(\n",
        "    estimator=xgb,\n",
        "    param_distributions=param_dist_xgb,\n",
        "    n_iter=20,\n",
        "    cv=5,\n",
        "    scoring='f1',\n",
        "    verbose=1,\n",
        "    n_jobs=-1,\n",
        "    random_state=42\n",
        ")\n",
        "\n",
        "random_search_xgb.fit(X_train_scaled, y_train_aug)\n",
        "best_xgb = random_search_xgb.best_estimator_\n",
        "y_pred_xgb = best_xgb.predict(X_test_scaled)\n",
        "\n",
        "print(\"Best XGBoost Parameters:\", random_search_xgb.best_params_)\n",
        "print(\"Accuracy:\", accuracy_score(y_test, y_pred_xgb))\n",
        "print(\"Precision:\", precision_score(y_test, y_pred_xgb))\n",
        "print(\"Recall:\", recall_score(y_test, y_pred_xgb))\n",
        "print(\"F1 Score:\", f1_score(y_test, y_pred_xgb))"
      ],
      "metadata": {
        "colab": {
          "base_uri": "https://localhost:8080/"
        },
        "id": "V6c0CgyRkGN0",
        "outputId": "998d4499-d230-4d41-f580-d1f99e4df04a"
      },
      "id": "V6c0CgyRkGN0",
      "execution_count": 57,
      "outputs": [
        {
          "output_type": "stream",
          "name": "stdout",
          "text": [
            "Fitting 5 folds for each of 20 candidates, totalling 100 fits\n",
            "Best XGBoost Parameters: {'subsample': 0.6, 'n_estimators': 50, 'max_depth': 5, 'learning_rate': 0.01, 'colsample_bytree': 0.6}\n",
            "Accuracy: 0.5561224489795918\n",
            "Precision: 0.5248618784530387\n",
            "Recall: 0.9895833333333334\n",
            "F1 Score: 0.6859205776173285\n"
          ]
        },
        {
          "output_type": "stream",
          "name": "stderr",
          "text": [
            "/usr/local/lib/python3.11/dist-packages/xgboost/core.py:158: UserWarning: [16:41:58] WARNING: /workspace/src/learner.cc:740: \n",
            "Parameters: { \"use_label_encoder\" } are not used.\n",
            "\n",
            "  warnings.warn(smsg, UserWarning)\n"
          ]
        }
      ]
    },
    {
      "cell_type": "code",
      "source": [
        "from sklearn.metrics import classification_report\n",
        "\n",
        "# Predizioni XGBoost\n",
        "y_pred_xgb = best_xgb.predict(X_test_scaled)\n",
        "\n",
        "# Report completo\n",
        "report_xgb = classification_report(y_test, y_pred_xgb, target_names=[\"Classe 0 (ISUP 2)\", \"Classe 1 (ISUP 3)\"])\n",
        "print(report_xgb)\n",
        "\n"
      ],
      "metadata": {
        "colab": {
          "base_uri": "https://localhost:8080/"
        },
        "id": "ZTFyjU1inuDn",
        "outputId": "25a066c7-bb81-4537-89a2-c824826acbc5"
      },
      "id": "ZTFyjU1inuDn",
      "execution_count": 58,
      "outputs": [
        {
          "output_type": "stream",
          "name": "stdout",
          "text": [
            "                   precision    recall  f1-score   support\n",
            "\n",
            "Classe 0 (ISUP 2)       0.93      0.14      0.24       100\n",
            "Classe 1 (ISUP 3)       0.52      0.99      0.69        96\n",
            "\n",
            "         accuracy                           0.56       196\n",
            "        macro avg       0.73      0.56      0.46       196\n",
            "     weighted avg       0.73      0.56      0.46       196\n",
            "\n"
          ]
        }
      ]
    },
    {
      "cell_type": "code",
      "source": [
        "from sklearn.metrics import confusion_matrix, ConfusionMatrixDisplay\n",
        "import matplotlib.pyplot as plt\n",
        "\n",
        "# Predizioni XGBoost\n",
        "y_pred_xgb = best_xgb.predict(X_test_scaled)\n",
        "\n",
        "# Matrice di confusione\n",
        "cm_xgb = confusion_matrix(y_test, y_pred_xgb)\n",
        "disp_xgb = ConfusionMatrixDisplay(confusion_matrix=cm_xgb, display_labels=[\"Classe 0 (ISUP 2)\", \"Classe 1 (ISUP 3)\"])\n",
        "\n",
        "# Visualizzazione\n",
        "plt.figure(figsize=(6, 6))\n",
        "disp_xgb.plot(cmap=\"Purples\", values_format=\"d\")\n",
        "plt.title(\"Matrice di Confusione - XGBoost\")\n",
        "plt.grid(False)\n",
        "plt.show()\n"
      ],
      "metadata": {
        "colab": {
          "base_uri": "https://localhost:8080/",
          "height": 489
        },
        "id": "ugj8JPAknhEa",
        "outputId": "8646e62b-dd53-448d-ea70-2df324e0ed18"
      },
      "id": "ugj8JPAknhEa",
      "execution_count": 59,
      "outputs": [
        {
          "output_type": "display_data",
          "data": {
            "text/plain": [
              "<Figure size 600x600 with 0 Axes>"
            ]
          },
          "metadata": {}
        },
        {
          "output_type": "display_data",
          "data": {
            "text/plain": [
              "<Figure size 640x480 with 2 Axes>"
            ],
            "image/png": "[encoded data removed]"
          },
          "metadata": {}
        }
      ]
    },
    {
      "cell_type": "code",
      "source": [
        "from sklearn.metrics import roc_curve, roc_auc_score\n",
        "\n",
        "# Probabilità previste\n",
        "y_proba_xgb = best_xgb.predict_proba(X_test_scaled)[:, 1]  # Probabilità della classe 1\n",
        "\n",
        "# Curve ROC\n",
        "fpr_xgb, tpr_xgb, _ = roc_curve(y_test, y_proba_xgb)\n",
        "auc_xgb = roc_auc_score(y_test, y_proba_xgb)\n",
        "\n",
        "# Plot\n",
        "plt.figure(figsize=(8, 6))\n",
        "plt.plot(fpr_xgb, tpr_xgb, label=f'XGBoost (AUC = {auc_xgb:.2f})')\n",
        "plt.plot([0, 1], [0, 1], linestyle='--', color='gray')\n",
        "plt.xlabel('False Positive Rate')\n",
        "plt.ylabel('True Positive Rate')\n",
        "plt.title('Curva ROC - XGBoost')\n",
        "plt.legend()\n",
        "plt.grid(True)\n",
        "plt.show()\n"
      ],
      "metadata": {
        "colab": {
          "base_uri": "https://localhost:8080/",
          "height": 564
        },
        "id": "2ypjEeiYnlIJ",
        "outputId": "ca5d92e3-519a-464b-a345-c1cf8b593cc7"
      },
      "id": "2ypjEeiYnlIJ",
      "execution_count": 60,
      "outputs": [
        {
          "output_type": "display_data",
          "data": {
            "text/plain": [
              "<Figure size 800x600 with 1 Axes>"
            ],
            "image/png": "[encoded data removed]"
          },
          "metadata": {}
        }
      ]
    },
    {
      "cell_type": "markdown",
      "source": [
        "## MLP df aumentato"
      ],
      "metadata": {
        "id": "oMZl8Uzdqg0g"
      },
      "id": "oMZl8Uzdqg0g"
    },
    {
      "cell_type": "code",
      "source": [
        "from sklearn.neural_network import MLPClassifier\n",
        "\n",
        "mlp = MLPClassifier(max_iter=500, random_state=42)\n",
        "\n",
        "param_dist_mlp = {\n",
        "    'hidden_layer_sizes': [(50,), (100,), (50, 50), (100, 50)],\n",
        "    'activation': ['relu', 'tanh'],\n",
        "    'solver': ['adam'],\n",
        "    'alpha': [0.0001, 0.001, 0.01],\n",
        "    'learning_rate_init': [0.001, 0.01]\n",
        "}\n",
        "\n",
        "random_search_mlp = RandomizedSearchCV(\n",
        "    estimator=mlp,\n",
        "    param_distributions=param_dist_mlp,\n",
        "    n_iter=20,\n",
        "    cv=5,\n",
        "    scoring='f1',\n",
        "    verbose=1,\n",
        "    n_jobs=-1,\n",
        "    random_state=42\n",
        ")\n",
        "\n",
        "random_search_mlp.fit(X_train_scaled, y_train_aug)\n",
        "best_mlp = random_search_mlp.best_estimator_\n",
        "y_pred_mlp = best_mlp.predict(X_test_scaled)\n",
        "\n",
        "print(\"Best MLP Parameters:\", random_search_mlp.best_params_)\n",
        "print(\"Accuracy:\", accuracy_score(y_test, y_pred_mlp))\n",
        "print(\"Precision:\", precision_score(y_test, y_pred_mlp))\n",
        "print(\"Recall:\", recall_score(y_test, y_pred_mlp))\n",
        "print(\"F1 Score:\", f1_score(y_test, y_pred_mlp))\n"
      ],
      "metadata": {
        "colab": {
          "base_uri": "https://localhost:8080/"
        },
        "id": "Q_huteeSkJDX",
        "outputId": "cbe9a8eb-7e0d-4073-d2e9-77a7e8004408"
      },
      "id": "Q_huteeSkJDX",
      "execution_count": 61,
      "outputs": [
        {
          "output_type": "stream",
          "name": "stdout",
          "text": [
            "Fitting 5 folds for each of 20 candidates, totalling 100 fits\n",
            "Best MLP Parameters: {'solver': 'adam', 'learning_rate_init': 0.001, 'hidden_layer_sizes': (100,), 'alpha': 0.0001, 'activation': 'tanh'}\n",
            "Accuracy: 0.6530612244897959\n",
            "Precision: 0.6111111111111112\n",
            "Recall: 0.8020833333333334\n",
            "F1 Score: 0.6936936936936937\n"
          ]
        },
        {
          "output_type": "stream",
          "name": "stderr",
          "text": [
            "/usr/local/lib/python3.11/dist-packages/sklearn/neural_network/_multilayer_perceptron.py:691: ConvergenceWarning: Stochastic Optimizer: Maximum iterations (500) reached and the optimization hasn't converged yet.\n",
            "  warnings.warn(\n"
          ]
        }
      ]
    },
    {
      "cell_type": "code",
      "source": [
        "from sklearn.metrics import classification_report\n",
        "\n",
        "# Predizioni\n",
        "y_pred_mlp = best_mlp.predict(X_test_scaled)\n",
        "\n",
        "# Report dettagliato\n",
        "report_mlp = classification_report(y_test, y_pred_mlp, target_names=[\"Classe 0 (ISUP 2)\", \"Classe 1 (ISUP 3)\"])\n",
        "print(report_mlp)\n"
      ],
      "metadata": {
        "colab": {
          "base_uri": "https://localhost:8080/"
        },
        "id": "NfwXHI2coZ_8",
        "outputId": "98b3c35a-abe0-4176-9167-ecdeac0bae5a"
      },
      "id": "NfwXHI2coZ_8",
      "execution_count": 62,
      "outputs": [
        {
          "output_type": "stream",
          "name": "stdout",
          "text": [
            "                   precision    recall  f1-score   support\n",
            "\n",
            "Classe 0 (ISUP 2)       0.73      0.51      0.60       100\n",
            "Classe 1 (ISUP 3)       0.61      0.80      0.69        96\n",
            "\n",
            "         accuracy                           0.65       196\n",
            "        macro avg       0.67      0.66      0.65       196\n",
            "     weighted avg       0.67      0.65      0.65       196\n",
            "\n"
          ]
        }
      ]
    },
    {
      "cell_type": "code",
      "source": [
        "from sklearn.metrics import confusion_matrix, ConfusionMatrixDisplay\n",
        "import matplotlib.pyplot as plt\n",
        "\n",
        "# Matrice di confusione\n",
        "cm_mlp = confusion_matrix(y_test, y_pred_mlp)\n",
        "disp_mlp = ConfusionMatrixDisplay(confusion_matrix=cm_mlp, display_labels=[\"Classe 0 (ISUP 2)\", \"Classe 1 (ISUP 3)\"])\n",
        "\n",
        "# Visualizzazione\n",
        "plt.figure(figsize=(6, 6))\n",
        "disp_mlp.plot(cmap=\"Greens\", values_format=\"d\")\n",
        "plt.title(\"Matrice di Confusione - MLP\")\n",
        "plt.grid(False)\n",
        "plt.show()\n"
      ],
      "metadata": {
        "colab": {
          "base_uri": "https://localhost:8080/",
          "height": 489
        },
        "id": "mjnZMBbnocuH",
        "outputId": "75e9976c-8e30-4f44-814b-efac64eeb669"
      },
      "id": "mjnZMBbnocuH",
      "execution_count": 63,
      "outputs": [
        {
          "output_type": "display_data",
          "data": {
            "text/plain": [
              "<Figure size 600x600 with 0 Axes>"
            ]
          },
          "metadata": {}
        },
        {
          "output_type": "display_data",
          "data": {
            "text/plain": [
              "<Figure size 640x480 with 2 Axes>"
            ],
            "image/png": "[encoded data removed]"
          },
          "metadata": {}
        }
      ]
    },
    {
      "cell_type": "code",
      "source": [
        "from sklearn.metrics import roc_curve, roc_auc_score\n",
        "\n",
        "# Probabilità predette (classe positiva)\n",
        "y_proba_mlp = best_mlp.predict_proba(X_test_scaled)[:, 1]\n",
        "\n",
        "# ROC Curve\n",
        "fpr_mlp, tpr_mlp, _ = roc_curve(y_test, y_proba_mlp)\n",
        "auc_mlp = roc_auc_score(y_test, y_proba_mlp)\n",
        "\n",
        "# Plot ROC\n",
        "plt.figure(figsize=(8, 6))\n",
        "plt.plot(fpr_mlp, tpr_mlp, label=f'MLP (AUC = {auc_mlp:.2f})')\n",
        "plt.plot([0, 1], [0, 1], linestyle='--', color='gray')\n",
        "plt.xlabel('False Positive Rate')\n",
        "plt.ylabel('True Positive Rate')\n",
        "plt.title('Curva ROC - MLP')\n",
        "plt.legend()\n",
        "plt.grid(True)\n",
        "plt.show()\n"
      ],
      "metadata": {
        "colab": {
          "base_uri": "https://localhost:8080/",
          "height": 564
        },
        "id": "6pk_yltpoeSC",
        "outputId": "08f58c91-bee9-4b62-9b8c-9dae7779e2f9"
      },
      "id": "6pk_yltpoeSC",
      "execution_count": 64,
      "outputs": [
        {
          "output_type": "display_data",
          "data": {
            "text/plain": [
              "<Figure size 800x600 with 1 Axes>"
            ],
            "image/png": "[encoded data removed]"
          },
          "metadata": {}
        }
      ]
    },
    {
      "cell_type": "code",
      "source": [
        "# Creo un confronto a partire dai valori riportati per RF, XGBoost e MLP\n",
        "\n",
        "import pandas as pd\n",
        "import matplotlib.pyplot as plt\n",
        "import numpy as np\n",
        "\n",
        "# Modello: RF, XGBoost, MLP\n",
        "data = {\n",
        "    'Modello': ['Random Forest', 'XGBoost', 'MLP'],\n",
        "    'Precision Classe 0': [0.75, 0.93, 0.73],\n",
        "    'Recall Classe 0': [0.54, 0.14, 0.51],\n",
        "    'F1 Classe 0': [0.63, 0.24, 0.60],\n",
        "    'Precision Classe 1': [0.63, 0.52, 0.61],\n",
        "    'Recall Classe 1': [0.81, 0.99, 0.80],\n",
        "    'F1 Classe 1': [0.71, 0.69, 0.69],\n",
        "    'Accuracy': [0.67, 0.56, 0.65],\n",
        "    'ROC AUC': [0.74, 0.76, 0.71]\n",
        "}\n",
        "\n",
        "df = pd.DataFrame(data)\n",
        "\n",
        "# Plotting (focus su Classe 1 + ROC)\n",
        "metrics = ['Precision Classe 1', 'Recall Classe 1', 'F1 Classe 1', 'ROC AUC', 'Accuracy']\n",
        "x = np.arange(len(df['Modello']))\n",
        "width = 0.15\n",
        "\n",
        "fig, ax = plt.subplots(figsize=(12, 6))\n",
        "\n",
        "for i, metric in enumerate(metrics):\n",
        "    ax.bar(x + i * width, df[metric], width, label=metric)\n",
        "\n",
        "ax.set_ylabel('Score')\n",
        "ax.set_title('Confronto Modelli - ISUP 3 (Classe 1) + ROC AUC')\n",
        "ax.set_xticks(x + width * 2)\n",
        "ax.set_xticklabels(df['Modello'])\n",
        "ax.legend()\n",
        "plt.ylim(0, 1)\n",
        "plt.grid(True)\n",
        "plt.tight_layout()\n",
        "plt.show()\n"
      ],
      "metadata": {
        "colab": {
          "base_uri": "https://localhost:8080/",
          "height": 607
        },
        "id": "2saQn8OCp_k9",
        "outputId": "9674cb0b-8325-4432-85b6-d0a1709784fa"
      },
      "id": "2saQn8OCp_k9",
      "execution_count": 65,
      "outputs": [
        {
          "output_type": "display_data",
          "data": {
            "text/plain": [
              "<Figure size 1200x600 with 1 Axes>"
            ],
            "image/png": "[encoded data removed]"
          },
          "metadata": {}
        }
      ]
    }
  ],
  "metadata": {
    "kernelspec": {
      "display_name": "Python 3",
      "language": "python",
      "name": "python3"
    },
    "language_info": {
      "codemirror_mode": {
        "name": "ipython",
        "version": 3
      },
      "file_extension": ".py",
      "mimetype": "text/x-python",
      "name": "python",
      "nbconvert_exporter": "python",
      "pygments_lexer": "ipython3",
      "version": "3.13.3"
    },
    "colab": {
      "provenance": [],
      "toc_visible": true
    }
  },
  "nbformat": 4,
  "nbformat_minor": 5
}
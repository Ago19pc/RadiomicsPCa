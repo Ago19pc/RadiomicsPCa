{
 "cells": [
  {
   "cell_type": "markdown",
   "id": "cd6604fc",
   "metadata": {},
   "source": [
    "# Deep Neural Network"
   ]
  },
  {
   "cell_type": "markdown",
   "id": "c77cfd1a",
   "metadata": {},
   "source": [
    "## Preliminar Settings"
   ]
  },
  {
   "cell_type": "code",
   "execution_count": 1,
   "id": "a3904a2d",
   "metadata": {},
   "outputs": [],
   "source": [
    "import torch\n",
    "from torch import nn\n",
    "from torch.utils.data import Dataset, DataLoader\n",
    "import pandas as pd\n",
    "import numpy as np\n",
    "from sklearn.model_selection import train_test_split"
   ]
  },
  {
   "cell_type": "code",
   "execution_count": 2,
   "id": "af07d0bc",
   "metadata": {},
   "outputs": [
    {
     "name": "stdout",
     "output_type": "stream",
     "text": [
      "Using cuda device\n"
     ]
    }
   ],
   "source": [
    "device = torch.accelerator.current_accelerator().type if torch.accelerator.is_available() else \"cpu\"\n",
    "print(f\"Using {device} device\")"
   ]
  },
  {
   "cell_type": "markdown",
   "id": "3c310a20",
   "metadata": {},
   "source": [
    "## Import the data"
   ]
  },
  {
   "cell_type": "code",
   "execution_count": 3,
   "id": "05c7197b",
   "metadata": {},
   "outputs": [],
   "source": [
    "labels = pd.read_csv('marksheet.csv')\n",
    "dataset = pd.read_csv('PI-CAI_features')\n",
    "\n",
    "# Filter the dataset to include only AI annotations and t2w sequences and ROI lesion\n",
    "filtered_dataset = dataset[dataset['annotator'] == 'AI']\n",
    "filtered_dataset = filtered_dataset[filtered_dataset['sequence'] == 't2w']\n",
    "filtered_dataset = filtered_dataset[filtered_dataset['ROI'] == 'lesion']\n",
    "filtered_dataset.drop(columns=['annotator', 'sequence', 'ROI_ID', 'ROI','img_path', 'seg_path', 'extraction_ID'], inplace=True)\n",
    "dataset = filtered_dataset\n",
    "\n",
    "# Rename columns to match the labels dataset\n",
    "labels.rename(columns={'patient_id': 'patient_ID', 'study_id': 'study_ID'}, inplace=True)\n",
    "\n",
    "# We only want Magnetic Resonace Biopsy (MRBx) labels because Systematic Biopsy (SBx) labels are not for our usecase\n",
    "# we also remove those that have both because clicinians result might be biased\n",
    "#labels = labels[labels['histopath_type'] == 'MRBx']\n",
    "\n",
    "# Remove useless columns from labels dataset\n",
    "labels.drop(columns=['mri_date', 'histopath_type', 'center', 'lesion_ISUP', 'lesion_GS'], inplace=True)\n",
    "\n",
    "# Rename Yes to 1 and No to 0 in the labels dataset\n",
    "labels.case_csPCa = labels.case_csPCa.map(lambda x: 1 if x == 'YES' else 0)\n",
    "\n",
    "# Drop Missing values\n",
    "labels.dropna(inplace=True)\n",
    "\n",
    "# Remove High Correlated Features\n",
    "corr_matrix = dataset.drop(columns=['study_ID', 'patient_ID']).corr().abs()\n",
    "upper = corr_matrix.where(np.triu(np.ones(corr_matrix.shape), k=1).astype(bool))\n",
    "to_drop = [column for column in upper.columns if any(upper[column] > 0.90)]\n",
    "dataset.drop(to_drop, axis=1, inplace=True)\n",
    "\n",
    "# Merge data\n",
    "merge = pd.merge(dataset, labels, on=['patient_ID', 'study_ID'], how='inner')\n",
    "merge.drop(columns=['patient_ID', 'study_ID'], inplace=True)\n",
    "\n",
    "\n",
    "isup = 'case_ISUP'\n",
    "pca = 'case_csPCa'\n",
    "\n",
    "# Study case: IS ISUP>=3\n",
    "merge['ISUP>=3'] = merge[isup].map(lambda x: 1 if x >= 3 else 0)\n",
    "\n",
    "# Train test split\n",
    "X_train, X_test, y_train, y_test = train_test_split(merge.drop(columns=[isup, pca, 'ISUP>=3']), merge['ISUP>=3'], test_size=0.2, random_state=42)"
   ]
  },
  {
   "cell_type": "markdown",
   "id": "a6ec1654",
   "metadata": {},
   "source": [
    "## Convert into Pytorch supported"
   ]
  },
  {
   "cell_type": "code",
   "execution_count": 4,
   "id": "5cded700",
   "metadata": {},
   "outputs": [],
   "source": [
    "class TabularDataset(Dataset):\n",
    "    def __init__(self, X, y):\n",
    "        self.X = torch.tensor(X, dtype=torch.float32)\n",
    "        self.y = torch.tensor(y, dtype=torch.float32)\n",
    "\n",
    "    def __len__(self):\n",
    "        return len(self.X)\n",
    "\n",
    "    def __getitem__(self, idx):\n",
    "        return self.X[idx], self.y[idx]"
   ]
  },
  {
   "cell_type": "code",
   "execution_count": 5,
   "id": "3002841d",
   "metadata": {},
   "outputs": [],
   "source": [
    "train_ds = TabularDataset(X_train.values, y_train.values)\n",
    "test_ds = TabularDataset(X_test.values, y_test.values)\n",
    "\n",
    "train_loader = DataLoader(train_ds, batch_size=32, shuffle=True)\n",
    "test_loader = DataLoader(test_ds, batch_size=32)"
   ]
  },
  {
   "cell_type": "markdown",
   "id": "83ddb688",
   "metadata": {},
   "source": [
    "## Create the Network"
   ]
  },
  {
   "cell_type": "code",
   "execution_count": 159,
   "id": "3d827cd4",
   "metadata": {},
   "outputs": [],
   "source": [
    "class NeuralNetwork(nn.Module):\n",
    "    def __init__(self):\n",
    "        super().__init__()\n",
    "        self.flatten = nn.Flatten()\n",
    "        self.linear_relu_stack = nn.Sequential(\n",
    "            nn.Linear(317, 100),\n",
    "            nn.ReLU(),\n",
    "            nn.Linear(100, 50),\n",
    "            nn.ReLU(),\n",
    "            nn.Linear(50, 10),\n",
    "            nn.ReLU(),\n",
    "            nn.Linear(10, 1),\n",
    "        )\n",
    "\n",
    "    def forward(self, x):\n",
    "        x = self.flatten(x)\n",
    "        logits = self.linear_relu_stack(x)\n",
    "        return logits"
   ]
  },
  {
   "cell_type": "markdown",
   "id": "59484745",
   "metadata": {},
   "source": [
    "## Train And Eval"
   ]
  },
  {
   "cell_type": "code",
   "execution_count": 160,
   "id": "0550770e",
   "metadata": {},
   "outputs": [],
   "source": [
    "def train(model, criterion, optimizer, epoch_count=10, verbose=True):\n",
    "    print(f'Training')\n",
    "    model = model.to(device)\n",
    "    for epoch in range(epoch_count):\n",
    "        model.train()\n",
    "        for xb, yb in train_loader:\n",
    "            xb, yb = xb.to(device), yb.to(device)\n",
    "            pred = model(xb).squeeze()\n",
    "            loss = criterion(pred, yb)\n",
    "            optimizer.zero_grad()\n",
    "            loss.backward()\n",
    "            optimizer.step()\n",
    "        if verbose:\n",
    "            print(f'Epoch {epoch+1}, Loss: {loss.item():.4f}')\n",
    "    return\n",
    "\n",
    "def eval(model):\n",
    "    print(f'Eval')\n",
    "    model = model.to(device)\n",
    "    model.eval()\n",
    "    with torch.no_grad():\n",
    "        correct = 0\n",
    "        total = 0\n",
    "        for xb, yb in test_loader:\n",
    "            xb, yb = xb.to(device), yb.to(device)\n",
    "            pred = torch.sigmoid(model(xb).squeeze()) > 0.5\n",
    "            correct += (pred == yb).sum().item()\n",
    "            total += yb.size(0)\n",
    "        print(f\"Accuracy: {correct / total:.2%}\")\n",
    "    return\n",
    "\n",
    "def train_and_eval(model, criterion, optimizer, epoch_count=10, verbose=True):\n",
    "    train(model=model, criterion=criterion, optimizer=optimizer, epoch_count=epoch_count, verbose=verbose)\n",
    "    eval(model)\n",
    "    return"
   ]
  },
  {
   "cell_type": "markdown",
   "id": "f930d1ce",
   "metadata": {},
   "source": [
    "## CODES"
   ]
  },
  {
   "cell_type": "code",
   "execution_count": 162,
   "id": "06d07bb2",
   "metadata": {},
   "outputs": [
    {
     "name": "stdout",
     "output_type": "stream",
     "text": [
      "Training\n",
      "Eval\n",
      "Accuracy: 54.39%\n"
     ]
    }
   ],
   "source": [
    "model = NeuralNetwork()\n",
    "\n",
    "lr = 0.0001\n",
    "epochs = 200\n",
    "\n",
    "criterion = nn.BCEWithLogitsLoss()\n",
    "optimizer = torch.optim.Adam(model.parameters(), lr=lr)\n",
    "train_and_eval(model=model, criterion=criterion, optimizer=optimizer, epoch_count=epochs, verbose=False)"
   ]
  }
 ],
 "metadata": {
  "kernelspec": {
   "display_name": "Python 3",
   "language": "python",
   "name": "python3"
  },
  "language_info": {
   "codemirror_mode": {
    "name": "ipython",
    "version": 3
   },
   "file_extension": ".py",
   "mimetype": "text/x-python",
   "name": "python",
   "nbconvert_exporter": "python",
   "pygments_lexer": "ipython3",
   "version": "3.13.3"
  }
 },
 "nbformat": 4,
 "nbformat_minor": 5
}

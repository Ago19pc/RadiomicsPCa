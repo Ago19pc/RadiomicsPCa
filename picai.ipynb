{
 "cells": [
  {
   "cell_type": "code",
   "execution_count": 1,
   "id": "fd75b24a",
   "metadata": {},
   "outputs": [],
   "source": [
    "import pandas as pd\n",
    "import numpy as np"
   ]
  },
  {
   "cell_type": "code",
   "execution_count": 14,
   "id": "5185f8bc",
   "metadata": {},
   "outputs": [],
   "source": [
    "df = pd.read_csv('marksheet.csv')"
   ]
  },
  {
   "cell_type": "code",
   "execution_count": 9,
   "id": "a549f249",
   "metadata": {},
   "outputs": [
    {
     "data": {
      "text/plain": [
       "Index(['patient_id', 'study_id', 'mri_date', 'patient_age', 'psa', 'psad',\n",
       "       'prostate_volume', 'histopath_type', 'lesion_GS', 'lesion_ISUP',\n",
       "       'case_ISUP', 'case_csPCa', 'center'],\n",
       "      dtype='object')"
      ]
     },
     "execution_count": 9,
     "metadata": {},
     "output_type": "execute_result"
    }
   ],
   "source": [
    "df.columns"
   ]
  },
  {
   "cell_type": "code",
   "execution_count": 16,
   "id": "e6e48340",
   "metadata": {},
   "outputs": [
    {
     "data": {
      "text/plain": [
       "4       0\n",
       "5       3\n",
       "6       1\n",
       "7       1\n",
       "8       3\n",
       "       ..\n",
       "1492    3\n",
       "1495    2\n",
       "1496    2\n",
       "1497    0\n",
       "1499    5\n",
       "Name: max_isup, Length: 606, dtype: int64"
      ]
     },
     "execution_count": 16,
     "metadata": {},
     "output_type": "execute_result"
    }
   ],
   "source": [
    "# Remove rows with missing values\n",
    "df.dropna(inplace=True)\n",
    "df['max_isup'] = df['lesion_ISUP'].apply(lambda x: eval(x))\n",
    "df['max_isup'] = df['max_isup'].apply(lambda x: max(x) if isinstance(x, tuple) else x)\n",
    "df['max_isup']"
   ]
  },
  {
   "cell_type": "code",
   "execution_count": null,
   "id": "d320e3d5",
   "metadata": {},
   "outputs": [
    {
     "data": {
      "text/plain": [
       "malignant\n",
       "0    463\n",
       "1    143\n",
       "Name: count, dtype: int64"
      ]
     },
     "execution_count": 17,
     "metadata": {},
     "output_type": "execute_result"
    }
   ],
   "source": [
    "# ISUP <= 2 Benign\n",
    "df['malignant'] = df['max_isup'].apply(lambda x: 1 if x > 2 else 0)\n",
    "df['malignant'].value_counts()"
   ]
  }
 ],
 "metadata": {
  "kernelspec": {
   "display_name": "Python 3",
   "language": "python",
   "name": "python3"
  },
  "language_info": {
   "codemirror_mode": {
    "name": "ipython",
    "version": 3
   },
   "file_extension": ".py",
   "mimetype": "text/x-python",
   "name": "python",
   "nbconvert_exporter": "python",
   "pygments_lexer": "ipython3",
   "version": "3.13.3"
  }
 },
 "nbformat": 4,
 "nbformat_minor": 5
}

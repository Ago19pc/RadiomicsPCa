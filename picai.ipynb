{
 "cells": [
  {
   "cell_type": "code",
   "execution_count": 1,
   "id": "fd75b24a",
   "metadata": {},
   "outputs": [],
   "source": [
    "import pandas as pd\n",
    "import numpy as np"
   ]
  },
  {
   "cell_type": "code",
   "execution_count": 2,
   "id": "5185f8bc",
   "metadata": {},
   "outputs": [],
   "source": [
    "df = pd.read_csv('marksheet.csv')"
   ]
  },
  {
   "cell_type": "code",
   "execution_count": 3,
   "id": "a549f249",
   "metadata": {},
   "outputs": [
    {
     "data": {
      "text/plain": [
       "Index(['patient_id', 'study_id', 'mri_date', 'patient_age', 'psa', 'psad',\n",
       "       'prostate_volume', 'histopath_type', 'lesion_GS', 'lesion_ISUP',\n",
       "       'case_ISUP', 'case_csPCa', 'center'],\n",
       "      dtype='object')"
      ]
     },
     "execution_count": 3,
     "metadata": {},
     "output_type": "execute_result"
    }
   ],
   "source": [
    "df.columns"
   ]
  },
  {
   "cell_type": "code",
   "execution_count": 4,
   "id": "e6e48340",
   "metadata": {},
   "outputs": [
    {
     "data": {
      "text/plain": [
       "lesion_ISUP\n",
       "0        282\n",
       "1        158\n",
       "2        158\n",
       "3         62\n",
       "0,0       60\n",
       "        ... \n",
       "1,3,1      1\n",
       "1,2,4      1\n",
       "4,1,1      1\n",
       "4,3        1\n",
       "5,1,3      1\n",
       "Name: count, Length: 63, dtype: int64"
      ]
     },
     "execution_count": 4,
     "metadata": {},
     "output_type": "execute_result"
    }
   ],
   "source": [
    "df.lesion_ISUP.value_counts()"
   ]
  }
 ],
 "metadata": {
  "kernelspec": {
   "display_name": "Python 3",
   "language": "python",
   "name": "python3"
  },
  "language_info": {
   "codemirror_mode": {
    "name": "ipython",
    "version": 3
   },
   "file_extension": ".py",
   "mimetype": "text/x-python",
   "name": "python",
   "nbconvert_exporter": "python",
   "pygments_lexer": "ipython3",
   "version": "3.13.3"
  }
 },
 "nbformat": 4,
 "nbformat_minor": 5
}

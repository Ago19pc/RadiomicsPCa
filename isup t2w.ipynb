{
 "cells": [
  {
   "cell_type": "code",
   "execution_count": null,
   "id": "fd75b24a",
   "metadata": {},
   "outputs": [
    {
     "ename": "XGBoostError",
     "evalue": "\nXGBoost Library (libxgboost.dylib) could not be loaded.\nLikely causes:\n  * OpenMP runtime is not installed\n    - vcomp140.dll or libgomp-1.dll for Windows\n    - libomp.dylib for Mac OSX\n    - libgomp.so for Linux and other UNIX-like OSes\n    Mac OSX users: Run `brew install libomp` to install OpenMP runtime.\n\n  * You are running 32-bit Python on a 64-bit OS\n\nError message(s): [\"dlopen(/Users/tizianapelamatti/Library/Python/3.9/lib/python/site-packages/xgboost/lib/libxgboost.dylib, 0x0006): Library not loaded: @rpath/libomp.dylib\\n  Referenced from: <FBD6AEF9-AFAB-39D7-B881-755157DA0497> /Users/tizianapelamatti/Library/Python/3.9/lib/python/site-packages/xgboost/lib/libxgboost.dylib\\n  Reason: tried: '/usr/local/opt/libomp/lib/libomp.dylib' (no such file), '/System/Volumes/Preboot/Cryptexes/OS/usr/local/opt/libomp/lib/libomp.dylib' (no such file), '/usr/local/opt/libomp/lib/libomp.dylib' (no such file), '/System/Volumes/Preboot/Cryptexes/OS/usr/local/opt/libomp/lib/libomp.dylib' (no such file)\"]\n",
     "output_type": "error",
     "traceback": [
      "\u001b[0;31m---------------------------------------------------------------------------\u001b[0m",
      "\u001b[0;31mXGBoostError\u001b[0m                              Traceback (most recent call last)",
      "Cell \u001b[0;32mIn[70], line 16\u001b[0m\n\u001b[1;32m     14\u001b[0m \u001b[38;5;28;01mfrom\u001b[39;00m\u001b[38;5;250m \u001b[39m\u001b[38;5;21;01msklearn\u001b[39;00m\u001b[38;5;21;01m.\u001b[39;00m\u001b[38;5;21;01mfeature_selection\u001b[39;00m\u001b[38;5;250m \u001b[39m\u001b[38;5;28;01mimport\u001b[39;00m RFE\n\u001b[1;32m     15\u001b[0m \u001b[38;5;28;01mfrom\u001b[39;00m\u001b[38;5;250m \u001b[39m\u001b[38;5;21;01msklearn\u001b[39;00m\u001b[38;5;21;01m.\u001b[39;00m\u001b[38;5;21;01mfeature_selection\u001b[39;00m\u001b[38;5;250m \u001b[39m\u001b[38;5;28;01mimport\u001b[39;00m SelectFromModel\n\u001b[0;32m---> 16\u001b[0m \u001b[38;5;28;01mimport\u001b[39;00m\u001b[38;5;250m \u001b[39m\u001b[38;5;21;01mxgboost\u001b[39;00m\u001b[38;5;250m \u001b[39m\u001b[38;5;28;01mas\u001b[39;00m\u001b[38;5;250m \u001b[39m\u001b[38;5;21;01mxgb\u001b[39;00m\n",
      "File \u001b[0;32m~/Library/Python/3.9/lib/python/site-packages/xgboost/__init__.py:6\u001b[0m\n\u001b[1;32m      1\u001b[0m \u001b[38;5;124;03m\"\"\"XGBoost: eXtreme Gradient Boosting library.\u001b[39;00m\n\u001b[1;32m      2\u001b[0m \n\u001b[1;32m      3\u001b[0m \u001b[38;5;124;03mContributors: https://github.com/dmlc/xgboost/blob/master/CONTRIBUTORS.md\u001b[39;00m\n\u001b[1;32m      4\u001b[0m \u001b[38;5;124;03m\"\"\"\u001b[39;00m\n\u001b[0;32m----> 6\u001b[0m \u001b[38;5;28;01mfrom\u001b[39;00m\u001b[38;5;250m \u001b[39m\u001b[38;5;21;01m.\u001b[39;00m\u001b[38;5;250m \u001b[39m\u001b[38;5;28;01mimport\u001b[39;00m tracker  \u001b[38;5;66;03m# noqa\u001b[39;00m\n\u001b[1;32m      7\u001b[0m \u001b[38;5;28;01mfrom\u001b[39;00m\u001b[38;5;250m \u001b[39m\u001b[38;5;21;01m.\u001b[39;00m\u001b[38;5;250m \u001b[39m\u001b[38;5;28;01mimport\u001b[39;00m collective, dask\n\u001b[1;32m      8\u001b[0m \u001b[38;5;28;01mfrom\u001b[39;00m\u001b[38;5;250m \u001b[39m\u001b[38;5;21;01m.\u001b[39;00m\u001b[38;5;21;01mcore\u001b[39;00m\u001b[38;5;250m \u001b[39m\u001b[38;5;28;01mimport\u001b[39;00m (\n\u001b[1;32m      9\u001b[0m     Booster,\n\u001b[1;32m     10\u001b[0m     DataIter,\n\u001b[0;32m   (...)\u001b[0m\n\u001b[1;32m     15\u001b[0m     build_info,\n\u001b[1;32m     16\u001b[0m )\n",
      "File \u001b[0;32m~/Library/Python/3.9/lib/python/site-packages/xgboost/tracker.py:9\u001b[0m\n\u001b[1;32m      6\u001b[0m \u001b[38;5;28;01mfrom\u001b[39;00m\u001b[38;5;250m \u001b[39m\u001b[38;5;21;01menum\u001b[39;00m\u001b[38;5;250m \u001b[39m\u001b[38;5;28;01mimport\u001b[39;00m IntEnum, unique\n\u001b[1;32m      7\u001b[0m \u001b[38;5;28;01mfrom\u001b[39;00m\u001b[38;5;250m \u001b[39m\u001b[38;5;21;01mtyping\u001b[39;00m\u001b[38;5;250m \u001b[39m\u001b[38;5;28;01mimport\u001b[39;00m Dict, Optional, Union\n\u001b[0;32m----> 9\u001b[0m \u001b[38;5;28;01mfrom\u001b[39;00m\u001b[38;5;250m \u001b[39m\u001b[38;5;21;01m.\u001b[39;00m\u001b[38;5;21;01mcore\u001b[39;00m\u001b[38;5;250m \u001b[39m\u001b[38;5;28;01mimport\u001b[39;00m _LIB, _check_call, make_jcargs\n\u001b[1;32m     12\u001b[0m \u001b[38;5;28;01mdef\u001b[39;00m\u001b[38;5;250m \u001b[39m\u001b[38;5;21mget_family\u001b[39m(addr: \u001b[38;5;28mstr\u001b[39m) \u001b[38;5;241m-\u001b[39m\u001b[38;5;241m>\u001b[39m \u001b[38;5;28mint\u001b[39m:\n\u001b[1;32m     13\u001b[0m \u001b[38;5;250m    \u001b[39m\u001b[38;5;124;03m\"\"\"Get network family from address.\"\"\"\u001b[39;00m\n",
      "File \u001b[0;32m~/Library/Python/3.9/lib/python/site-packages/xgboost/core.py:269\u001b[0m\n\u001b[1;32m    265\u001b[0m     \u001b[38;5;28;01mreturn\u001b[39;00m lib\n\u001b[1;32m    268\u001b[0m \u001b[38;5;66;03m# load the XGBoost library globally\u001b[39;00m\n\u001b[0;32m--> 269\u001b[0m _LIB \u001b[38;5;241m=\u001b[39m \u001b[43m_load_lib\u001b[49m\u001b[43m(\u001b[49m\u001b[43m)\u001b[49m\n\u001b[1;32m    272\u001b[0m \u001b[38;5;28;01mdef\u001b[39;00m\u001b[38;5;250m \u001b[39m\u001b[38;5;21m_check_call\u001b[39m(ret: \u001b[38;5;28mint\u001b[39m) \u001b[38;5;241m-\u001b[39m\u001b[38;5;241m>\u001b[39m \u001b[38;5;28;01mNone\u001b[39;00m:\n\u001b[1;32m    273\u001b[0m \u001b[38;5;250m    \u001b[39m\u001b[38;5;124;03m\"\"\"Check the return value of C API call\u001b[39;00m\n\u001b[1;32m    274\u001b[0m \n\u001b[1;32m    275\u001b[0m \u001b[38;5;124;03m    This function will raise exception when error occurs.\u001b[39;00m\n\u001b[0;32m   (...)\u001b[0m\n\u001b[1;32m    281\u001b[0m \u001b[38;5;124;03m        return value from API calls\u001b[39;00m\n\u001b[1;32m    282\u001b[0m \u001b[38;5;124;03m    \"\"\"\u001b[39;00m\n",
      "File \u001b[0;32m~/Library/Python/3.9/lib/python/site-packages/xgboost/core.py:222\u001b[0m, in \u001b[0;36m_load_lib\u001b[0;34m()\u001b[0m\n\u001b[1;32m    220\u001b[0m     \u001b[38;5;28;01mif\u001b[39;00m \u001b[38;5;129;01mnot\u001b[39;00m lib_success:\n\u001b[1;32m    221\u001b[0m         libname \u001b[38;5;241m=\u001b[39m os\u001b[38;5;241m.\u001b[39mpath\u001b[38;5;241m.\u001b[39mbasename(lib_paths[\u001b[38;5;241m0\u001b[39m])\n\u001b[0;32m--> 222\u001b[0m         \u001b[38;5;28;01mraise\u001b[39;00m XGBoostError(\n\u001b[1;32m    223\u001b[0m             \u001b[38;5;124mf\u001b[39m\u001b[38;5;124m\"\"\"\u001b[39m\n\u001b[1;32m    224\u001b[0m \u001b[38;5;124mXGBoost Library (\u001b[39m\u001b[38;5;132;01m{\u001b[39;00mlibname\u001b[38;5;132;01m}\u001b[39;00m\u001b[38;5;124m) could not be loaded.\u001b[39m\n\u001b[1;32m    225\u001b[0m \u001b[38;5;124mLikely causes:\u001b[39m\n\u001b[1;32m    226\u001b[0m \u001b[38;5;124m  * OpenMP runtime is not installed\u001b[39m\n\u001b[1;32m    227\u001b[0m \u001b[38;5;124m    - vcomp140.dll or libgomp-1.dll for Windows\u001b[39m\n\u001b[1;32m    228\u001b[0m \u001b[38;5;124m    - libomp.dylib for Mac OSX\u001b[39m\n\u001b[1;32m    229\u001b[0m \u001b[38;5;124m    - libgomp.so for Linux and other UNIX-like OSes\u001b[39m\n\u001b[1;32m    230\u001b[0m \u001b[38;5;124m    Mac OSX users: Run `brew install libomp` to install OpenMP runtime.\u001b[39m\n\u001b[1;32m    231\u001b[0m \n\u001b[1;32m    232\u001b[0m \u001b[38;5;124m  * You are running 32-bit Python on a 64-bit OS\u001b[39m\n\u001b[1;32m    233\u001b[0m \n\u001b[1;32m    234\u001b[0m \u001b[38;5;124mError message(s): \u001b[39m\u001b[38;5;132;01m{\u001b[39;00mos_error_list\u001b[38;5;132;01m}\u001b[39;00m\n\u001b[1;32m    235\u001b[0m \u001b[38;5;124m\"\"\"\u001b[39m\n\u001b[1;32m    236\u001b[0m         )\n\u001b[1;32m    237\u001b[0m     _register_log_callback(lib)\n\u001b[1;32m    239\u001b[0m     \u001b[38;5;28;01mdef\u001b[39;00m\u001b[38;5;250m \u001b[39m\u001b[38;5;21mparse\u001b[39m(ver: \u001b[38;5;28mstr\u001b[39m) \u001b[38;5;241m-\u001b[39m\u001b[38;5;241m>\u001b[39m Tuple[\u001b[38;5;28mint\u001b[39m, \u001b[38;5;28mint\u001b[39m, \u001b[38;5;28mint\u001b[39m]:\n",
      "\u001b[0;31mXGBoostError\u001b[0m: \nXGBoost Library (libxgboost.dylib) could not be loaded.\nLikely causes:\n  * OpenMP runtime is not installed\n    - vcomp140.dll or libgomp-1.dll for Windows\n    - libomp.dylib for Mac OSX\n    - libgomp.so for Linux and other UNIX-like OSes\n    Mac OSX users: Run `brew install libomp` to install OpenMP runtime.\n\n  * You are running 32-bit Python on a 64-bit OS\n\nError message(s): [\"dlopen(/Users/tizianapelamatti/Library/Python/3.9/lib/python/site-packages/xgboost/lib/libxgboost.dylib, 0x0006): Library not loaded: @rpath/libomp.dylib\\n  Referenced from: <FBD6AEF9-AFAB-39D7-B881-755157DA0497> /Users/tizianapelamatti/Library/Python/3.9/lib/python/site-packages/xgboost/lib/libxgboost.dylib\\n  Reason: tried: '/usr/local/opt/libomp/lib/libomp.dylib' (no such file), '/System/Volumes/Preboot/Cryptexes/OS/usr/local/opt/libomp/lib/libomp.dylib' (no such file), '/usr/local/opt/libomp/lib/libomp.dylib' (no such file), '/System/Volumes/Preboot/Cryptexes/OS/usr/local/opt/libomp/lib/libomp.dylib' (no such file)\"]\n"
     ]
    }
   ],
   "source": [
    "import numpy as np\n",
    "import matplotlib.pyplot as plt\n",
    "import pandas as pd\n",
    "import seaborn as sns\n",
    "from tabulate import tabulate\n",
    "from sklearn.model_selection import train_test_split\n",
    "from sklearn.preprocessing import StandardScaler\n",
    "from sklearn.linear_model import LogisticRegression\n",
    "from sklearn.tree import DecisionTreeClassifier\n",
    "from sklearn.ensemble import RandomForestClassifier\n",
    "from sklearn.neighbors import KNeighborsClassifier\n",
    "from sklearn.metrics import classification_report, confusion_matrix, accuracy_score\n",
    "from sklearn.neural_network import MLPClassifier\n",
    "from sklearn.feature_selection import RFE\n",
    "from sklearn.feature_selection import SelectFromModel\n"
   ]
  },
  {
   "cell_type": "code",
   "execution_count": 17,
   "id": "5185f8bc",
   "metadata": {},
   "outputs": [
    {
     "name": "stdout",
     "output_type": "stream",
     "text": [
      "(6288, 1024)\n"
     ]
    }
   ],
   "source": [
    "labels = pd.read_csv('marksheet.csv')\n",
    "dataset = pd.read_csv('PI-CAI_features.csv')\n",
    "\n",
    "print(dataset.shape)\n",
    "\n",
    "# Filter the dataset to include only AI annotations and t2w sequences and ROI lesion\n",
    "filtered_dataset = dataset[dataset['annotator'] == 'AI']\n",
    "filtered_dataset = filtered_dataset[filtered_dataset['sequence'] == 't2w']\n",
    "filtered_dataset = filtered_dataset[filtered_dataset['ROI'] == 'lesion']\n",
    "filtered_dataset.drop(columns=['annotator', 'sequence', 'ROI_ID', 'ROI','img_path', 'seg_path', 'extraction_ID'], inplace=True)\n",
    "dataset = filtered_dataset\n",
    "\n",
    "# Rename columns to match the labels dataset\n",
    "labels.rename(columns={'patient_id': 'patient_ID', 'study_id': 'study_ID'}, inplace=True)\n",
    "\n",
    "# We only want Magnetic Resonace Biopsy (MRBx) labels because Systematic Biopsy (SBx) labels are not for our usecase\n",
    "# we also remove those that have both because clicinians result might be biased\n",
    "#labels = labels[labels['histopath_type'] == 'MRBx']\n",
    "\n",
    "# Remove useless columns from labels dataset\n",
    "labels.drop(columns=['mri_date', 'histopath_type', 'center', 'lesion_ISUP', 'lesion_GS'], inplace=True)\n",
    "\n",
    "# Rename Yes to 1 and No to 0 in the labels dataset\n",
    "labels.case_csPCa = labels.case_csPCa.map(lambda x: 1 if x == 'YES' else 0)"
   ]
  },
  {
   "cell_type": "code",
   "execution_count": 18,
   "id": "24f2ed41",
   "metadata": {},
   "outputs": [],
   "source": [
    "labels.dropna(inplace=True)"
   ]
  },
  {
   "cell_type": "code",
   "execution_count": 19,
   "id": "674080d7",
   "metadata": {},
   "outputs": [],
   "source": [
    "corr_matrix = dataset.drop(columns=['study_ID', 'patient_ID']).corr().abs()\n",
    "\n",
    "upper = corr_matrix.where(np.triu(np.ones(corr_matrix.shape), k=1).astype(bool))\n",
    "\n",
    "\n",
    "to_drop = [column for column in upper.columns if any(upper[column] > 0.90)]\n",
    "\n",
    "dataset.drop(to_drop, axis=1, inplace=True)"
   ]
  },
  {
   "cell_type": "code",
   "execution_count": 20,
   "id": "57af1bf2",
   "metadata": {},
   "outputs": [],
   "source": [
    "isup = 'case_ISUP'\n",
    "pca = 'case_csPCa'"
   ]
  },
  {
   "cell_type": "code",
   "execution_count": 21,
   "id": "f63bfc34",
   "metadata": {},
   "outputs": [],
   "source": [
    "merge = pd.merge(dataset, labels, on=['patient_ID', 'study_ID'], how='inner')\n",
    "merge.drop(columns=['patient_ID', 'study_ID'], inplace=True)"
   ]
  },
  {
   "cell_type": "code",
   "execution_count": 22,
   "id": "962591ce",
   "metadata": {},
   "outputs": [],
   "source": [
    "merge['ISUP>=3'] = merge[isup].map(lambda x: 1 if x >= 3 else 0)"
   ]
  },
  {
   "cell_type": "code",
   "execution_count": 38,
   "id": "0e37af85",
   "metadata": {},
   "outputs": [],
   "source": [
    "X_train, X_test, y_train, y_test = train_test_split(merge.drop(columns=[isup, pca, 'ISUP>=3']), merge['ISUP>=3'], test_size=0.2, random_state=42)\n",
    "scaler = StandardScaler()\n",
    "X_train_scaled = scaler.fit_transform(X_train)"
   ]
  },
  {
   "cell_type": "markdown",
   "id": "0d75399f",
   "metadata": {},
   "source": [
    "## ISUP Prediction"
   ]
  },
  {
   "cell_type": "code",
   "execution_count": 24,
   "id": "9f69c5b7",
   "metadata": {},
   "outputs": [
    {
     "name": "stdout",
     "output_type": "stream",
     "text": [
      "MLP Accuracy: 0.5614035087719298\n",
      "MLP Classification Report:\n",
      "               precision    recall  f1-score   support\n",
      "\n",
      "           0       0.48      0.67      0.56        24\n",
      "           1       0.67      0.48      0.56        33\n",
      "\n",
      "    accuracy                           0.56        57\n",
      "   macro avg       0.58      0.58      0.56        57\n",
      "weighted avg       0.59      0.56      0.56        57\n",
      "\n"
     ]
    },
    {
     "data": {
      "image/png": "[encoded data removed]",
      "text/plain": [
       "<Figure size 800x600 with 2 Axes>"
      ]
     },
     "metadata": {},
     "output_type": "display_data"
    }
   ],
   "source": [
    "# MLP, my best friend\n",
    "mlp = MLPClassifier(max_iter=1000, random_state=42, hidden_layer_sizes=(100, 50, 50, 50, 100, 50), activation='relu', solver='adam')\n",
    "mlp.fit(X_train, y_train)\n",
    "y_pred_mlp = mlp.predict(X_test)\n",
    "mlp_accuracy = accuracy_score(y_test, y_pred_mlp)\n",
    "mlp_report = classification_report(y_test, y_pred_mlp, output_dict=True)\n",
    "mlp_cm = confusion_matrix(y_test, y_pred_mlp)\n",
    "\n",
    "print(\"MLP Accuracy:\", mlp_accuracy)\n",
    "print(\"MLP Classification Report:\\n\", classification_report(y_test, y_pred_mlp))\n",
    "plt.figure(figsize=(8, 6))\n",
    "sns.heatmap(mlp_cm, annot=True, fmt='d', cmap='Blues', xticklabels=['2', '>=3'], yticklabels=['2', '>=3'])\n",
    "plt.title('MLP Confusion Matrix')\n",
    "plt.xlabel('Predicted')\n",
    "plt.ylabel('True')\n",
    "plt.show()"
   ]
  },
  {
   "cell_type": "code",
   "execution_count": 25,
   "id": "dddf2904",
   "metadata": {},
   "outputs": [
    {
     "name": "stdout",
     "output_type": "stream",
     "text": [
      "Random Forest Accuracy: 0.631578947368421\n",
      "Random Forest Classification Report:\n",
      "               precision    recall  f1-score   support\n",
      "\n",
      "           0       0.54      0.88      0.67        24\n",
      "           1       0.83      0.45      0.59        33\n",
      "\n",
      "    accuracy                           0.63        57\n",
      "   macro avg       0.69      0.66      0.63        57\n",
      "weighted avg       0.71      0.63      0.62        57\n",
      "\n"
     ]
    },
    {
     "data": {
      "image/png": "[encoded data removed]",
      "text/plain": [
       "<Figure size 800x600 with 2 Axes>"
      ]
     },
     "metadata": {},
     "output_type": "display_data"
    }
   ],
   "source": [
    "# Random Forest\n",
    "rf = RandomForestClassifier(random_state=42)\n",
    "rf.fit(X_train, y_train)\n",
    "y_pred_rf = rf.predict(X_test)\n",
    "rf_accuracy = accuracy_score(y_test, y_pred_rf)\n",
    "rf_report = classification_report(y_test, y_pred_rf, output_dict=True)\n",
    "rf_cm = confusion_matrix(y_test, y_pred_rf)\n",
    "print(\"Random Forest Accuracy:\", rf_accuracy)\n",
    "print(\"Random Forest Classification Report:\\n\", classification_report(y_test, y_pred_rf))\n",
    "plt.figure(figsize=(8, 6))\n",
    "sns.heatmap(rf_cm, annot=True, fmt='d', cmap='Blues', yticklabels=['2', '>=3'], xticklabels=['2', '>=3'])\n",
    "plt.title('Random Forest Confusion Matrix ISUP')\n",
    "plt.xlabel('Predicted ISUP')\n",
    "plt.ylabel('True ISUP')\n",
    "plt.show()\n"
   ]
  },
  {
   "cell_type": "code",
   "execution_count": 26,
   "id": "37e5d885",
   "metadata": {},
   "outputs": [
    {
     "data": {
      "text/plain": [
       "case_ISUP\n",
       "2    144\n",
       "3     70\n",
       "5     40\n",
       "4     27\n",
       "Name: count, dtype: int64"
      ]
     },
     "execution_count": 26,
     "metadata": {},
     "output_type": "execute_result"
    }
   ],
   "source": [
    "merge[isup].value_counts()"
   ]
  },
  {
   "cell_type": "code",
   "execution_count": 27,
   "id": "c469bd73",
   "metadata": {},
   "outputs": [
    {
     "data": {
      "text/plain": [
       "0    39\n",
       "1    18\n",
       "Name: count, dtype: int64"
      ]
     },
     "execution_count": 27,
     "metadata": {},
     "output_type": "execute_result"
    }
   ],
   "source": [
    "pd.Series(y_pred_rf).value_counts()"
   ]
  },
  {
   "cell_type": "code",
   "execution_count": 28,
   "id": "f4d13fc2",
   "metadata": {},
   "outputs": [
    {
     "data": {
      "text/plain": [
       "ISUP>=3\n",
       "1    33\n",
       "0    24\n",
       "Name: count, dtype: int64"
      ]
     },
     "execution_count": 28,
     "metadata": {},
     "output_type": "execute_result"
    }
   ],
   "source": [
    "y_test.value_counts()"
   ]
  },
  {
   "cell_type": "code",
   "execution_count": 77,
   "id": "7c47eb76",
   "metadata": {},
   "outputs": [
    {
     "name": "stdout",
     "output_type": "stream",
     "text": [
      "Defaulting to user installation because normal site-packages is not writeable\n",
      "Requirement already satisfied: xgboost in /Users/tizianapelamatti/Library/Python/3.9/lib/python/site-packages (2.1.4)\n",
      "Requirement already satisfied: scipy in /Users/tizianapelamatti/Library/Python/3.9/lib/python/site-packages (from xgboost) (1.13.1)\n",
      "Requirement already satisfied: numpy in /Users/tizianapelamatti/Library/Python/3.9/lib/python/site-packages (from xgboost) (2.0.2)\n",
      "\u001b[33mWARNING: You are using pip version 21.2.4; however, version 25.1.1 is available.\n",
      "You should consider upgrading via the '/Library/Developer/CommandLineTools/usr/bin/python3 -m pip install --upgrade pip' command.\u001b[0m\n",
      "Note: you may need to restart the kernel to use updated packages.\n"
     ]
    }
   ],
   "source": [
    "\n",
    "pip install xgboost"
   ]
  },
  {
   "cell_type": "code",
   "execution_count": 71,
   "id": "2b750e61",
   "metadata": {},
   "outputs": [
    {
     "ename": "XGBoostError",
     "evalue": "\nXGBoost Library (libxgboost.dylib) could not be loaded.\nLikely causes:\n  * OpenMP runtime is not installed\n    - vcomp140.dll or libgomp-1.dll for Windows\n    - libomp.dylib for Mac OSX\n    - libgomp.so for Linux and other UNIX-like OSes\n    Mac OSX users: Run `brew install libomp` to install OpenMP runtime.\n\n  * You are running 32-bit Python on a 64-bit OS\n\nError message(s): [\"dlopen(/Users/tizianapelamatti/Library/Python/3.9/lib/python/site-packages/xgboost/lib/libxgboost.dylib, 0x0006): Library not loaded: @rpath/libomp.dylib\\n  Referenced from: <FBD6AEF9-AFAB-39D7-B881-755157DA0497> /Users/tizianapelamatti/Library/Python/3.9/lib/python/site-packages/xgboost/lib/libxgboost.dylib\\n  Reason: tried: '/usr/local/opt/libomp/lib/libomp.dylib' (no such file), '/System/Volumes/Preboot/Cryptexes/OS/usr/local/opt/libomp/lib/libomp.dylib' (no such file), '/usr/local/opt/libomp/lib/libomp.dylib' (no such file), '/System/Volumes/Preboot/Cryptexes/OS/usr/local/opt/libomp/lib/libomp.dylib' (no such file)\"]\n",
     "output_type": "error",
     "traceback": [
      "\u001b[0;31m---------------------------------------------------------------------------\u001b[0m",
      "\u001b[0;31mXGBoostError\u001b[0m                              Traceback (most recent call last)",
      "Cell \u001b[0;32mIn[71], line 1\u001b[0m\n\u001b[0;32m----> 1\u001b[0m \u001b[38;5;28;01mimport\u001b[39;00m\u001b[38;5;250m \u001b[39m\u001b[38;5;21;01mxgboost\u001b[39;00m\u001b[38;5;250m \u001b[39m\u001b[38;5;28;01mas\u001b[39;00m\u001b[38;5;250m \u001b[39m\u001b[38;5;21;01mxgb\u001b[39;00m\n",
      "File \u001b[0;32m~/Library/Python/3.9/lib/python/site-packages/xgboost/__init__.py:6\u001b[0m\n\u001b[1;32m      1\u001b[0m \u001b[38;5;124;03m\"\"\"XGBoost: eXtreme Gradient Boosting library.\u001b[39;00m\n\u001b[1;32m      2\u001b[0m \n\u001b[1;32m      3\u001b[0m \u001b[38;5;124;03mContributors: https://github.com/dmlc/xgboost/blob/master/CONTRIBUTORS.md\u001b[39;00m\n\u001b[1;32m      4\u001b[0m \u001b[38;5;124;03m\"\"\"\u001b[39;00m\n\u001b[0;32m----> 6\u001b[0m \u001b[38;5;28;01mfrom\u001b[39;00m\u001b[38;5;250m \u001b[39m\u001b[38;5;21;01m.\u001b[39;00m\u001b[38;5;250m \u001b[39m\u001b[38;5;28;01mimport\u001b[39;00m tracker  \u001b[38;5;66;03m# noqa\u001b[39;00m\n\u001b[1;32m      7\u001b[0m \u001b[38;5;28;01mfrom\u001b[39;00m\u001b[38;5;250m \u001b[39m\u001b[38;5;21;01m.\u001b[39;00m\u001b[38;5;250m \u001b[39m\u001b[38;5;28;01mimport\u001b[39;00m collective, dask\n\u001b[1;32m      8\u001b[0m \u001b[38;5;28;01mfrom\u001b[39;00m\u001b[38;5;250m \u001b[39m\u001b[38;5;21;01m.\u001b[39;00m\u001b[38;5;21;01mcore\u001b[39;00m\u001b[38;5;250m \u001b[39m\u001b[38;5;28;01mimport\u001b[39;00m (\n\u001b[1;32m      9\u001b[0m     Booster,\n\u001b[1;32m     10\u001b[0m     DataIter,\n\u001b[0;32m   (...)\u001b[0m\n\u001b[1;32m     15\u001b[0m     build_info,\n\u001b[1;32m     16\u001b[0m )\n",
      "File \u001b[0;32m~/Library/Python/3.9/lib/python/site-packages/xgboost/tracker.py:9\u001b[0m\n\u001b[1;32m      6\u001b[0m \u001b[38;5;28;01mfrom\u001b[39;00m\u001b[38;5;250m \u001b[39m\u001b[38;5;21;01menum\u001b[39;00m\u001b[38;5;250m \u001b[39m\u001b[38;5;28;01mimport\u001b[39;00m IntEnum, unique\n\u001b[1;32m      7\u001b[0m \u001b[38;5;28;01mfrom\u001b[39;00m\u001b[38;5;250m \u001b[39m\u001b[38;5;21;01mtyping\u001b[39;00m\u001b[38;5;250m \u001b[39m\u001b[38;5;28;01mimport\u001b[39;00m Dict, Optional, Union\n\u001b[0;32m----> 9\u001b[0m \u001b[38;5;28;01mfrom\u001b[39;00m\u001b[38;5;250m \u001b[39m\u001b[38;5;21;01m.\u001b[39;00m\u001b[38;5;21;01mcore\u001b[39;00m\u001b[38;5;250m \u001b[39m\u001b[38;5;28;01mimport\u001b[39;00m _LIB, _check_call, make_jcargs\n\u001b[1;32m     12\u001b[0m \u001b[38;5;28;01mdef\u001b[39;00m\u001b[38;5;250m \u001b[39m\u001b[38;5;21mget_family\u001b[39m(addr: \u001b[38;5;28mstr\u001b[39m) \u001b[38;5;241m-\u001b[39m\u001b[38;5;241m>\u001b[39m \u001b[38;5;28mint\u001b[39m:\n\u001b[1;32m     13\u001b[0m \u001b[38;5;250m    \u001b[39m\u001b[38;5;124;03m\"\"\"Get network family from address.\"\"\"\u001b[39;00m\n",
      "File \u001b[0;32m~/Library/Python/3.9/lib/python/site-packages/xgboost/core.py:269\u001b[0m\n\u001b[1;32m    265\u001b[0m     \u001b[38;5;28;01mreturn\u001b[39;00m lib\n\u001b[1;32m    268\u001b[0m \u001b[38;5;66;03m# load the XGBoost library globally\u001b[39;00m\n\u001b[0;32m--> 269\u001b[0m _LIB \u001b[38;5;241m=\u001b[39m \u001b[43m_load_lib\u001b[49m\u001b[43m(\u001b[49m\u001b[43m)\u001b[49m\n\u001b[1;32m    272\u001b[0m \u001b[38;5;28;01mdef\u001b[39;00m\u001b[38;5;250m \u001b[39m\u001b[38;5;21m_check_call\u001b[39m(ret: \u001b[38;5;28mint\u001b[39m) \u001b[38;5;241m-\u001b[39m\u001b[38;5;241m>\u001b[39m \u001b[38;5;28;01mNone\u001b[39;00m:\n\u001b[1;32m    273\u001b[0m \u001b[38;5;250m    \u001b[39m\u001b[38;5;124;03m\"\"\"Check the return value of C API call\u001b[39;00m\n\u001b[1;32m    274\u001b[0m \n\u001b[1;32m    275\u001b[0m \u001b[38;5;124;03m    This function will raise exception when error occurs.\u001b[39;00m\n\u001b[0;32m   (...)\u001b[0m\n\u001b[1;32m    281\u001b[0m \u001b[38;5;124;03m        return value from API calls\u001b[39;00m\n\u001b[1;32m    282\u001b[0m \u001b[38;5;124;03m    \"\"\"\u001b[39;00m\n",
      "File \u001b[0;32m~/Library/Python/3.9/lib/python/site-packages/xgboost/core.py:222\u001b[0m, in \u001b[0;36m_load_lib\u001b[0;34m()\u001b[0m\n\u001b[1;32m    220\u001b[0m     \u001b[38;5;28;01mif\u001b[39;00m \u001b[38;5;129;01mnot\u001b[39;00m lib_success:\n\u001b[1;32m    221\u001b[0m         libname \u001b[38;5;241m=\u001b[39m os\u001b[38;5;241m.\u001b[39mpath\u001b[38;5;241m.\u001b[39mbasename(lib_paths[\u001b[38;5;241m0\u001b[39m])\n\u001b[0;32m--> 222\u001b[0m         \u001b[38;5;28;01mraise\u001b[39;00m XGBoostError(\n\u001b[1;32m    223\u001b[0m             \u001b[38;5;124mf\u001b[39m\u001b[38;5;124m\"\"\"\u001b[39m\n\u001b[1;32m    224\u001b[0m \u001b[38;5;124mXGBoost Library (\u001b[39m\u001b[38;5;132;01m{\u001b[39;00mlibname\u001b[38;5;132;01m}\u001b[39;00m\u001b[38;5;124m) could not be loaded.\u001b[39m\n\u001b[1;32m    225\u001b[0m \u001b[38;5;124mLikely causes:\u001b[39m\n\u001b[1;32m    226\u001b[0m \u001b[38;5;124m  * OpenMP runtime is not installed\u001b[39m\n\u001b[1;32m    227\u001b[0m \u001b[38;5;124m    - vcomp140.dll or libgomp-1.dll for Windows\u001b[39m\n\u001b[1;32m    228\u001b[0m \u001b[38;5;124m    - libomp.dylib for Mac OSX\u001b[39m\n\u001b[1;32m    229\u001b[0m \u001b[38;5;124m    - libgomp.so for Linux and other UNIX-like OSes\u001b[39m\n\u001b[1;32m    230\u001b[0m \u001b[38;5;124m    Mac OSX users: Run `brew install libomp` to install OpenMP runtime.\u001b[39m\n\u001b[1;32m    231\u001b[0m \n\u001b[1;32m    232\u001b[0m \u001b[38;5;124m  * You are running 32-bit Python on a 64-bit OS\u001b[39m\n\u001b[1;32m    233\u001b[0m \n\u001b[1;32m    234\u001b[0m \u001b[38;5;124mError message(s): \u001b[39m\u001b[38;5;132;01m{\u001b[39;00mos_error_list\u001b[38;5;132;01m}\u001b[39;00m\n\u001b[1;32m    235\u001b[0m \u001b[38;5;124m\"\"\"\u001b[39m\n\u001b[1;32m    236\u001b[0m         )\n\u001b[1;32m    237\u001b[0m     _register_log_callback(lib)\n\u001b[1;32m    239\u001b[0m     \u001b[38;5;28;01mdef\u001b[39;00m\u001b[38;5;250m \u001b[39m\u001b[38;5;21mparse\u001b[39m(ver: \u001b[38;5;28mstr\u001b[39m) \u001b[38;5;241m-\u001b[39m\u001b[38;5;241m>\u001b[39m Tuple[\u001b[38;5;28mint\u001b[39m, \u001b[38;5;28mint\u001b[39m, \u001b[38;5;28mint\u001b[39m]:\n",
      "\u001b[0;31mXGBoostError\u001b[0m: \nXGBoost Library (libxgboost.dylib) could not be loaded.\nLikely causes:\n  * OpenMP runtime is not installed\n    - vcomp140.dll or libgomp-1.dll for Windows\n    - libomp.dylib for Mac OSX\n    - libgomp.so for Linux and other UNIX-like OSes\n    Mac OSX users: Run `brew install libomp` to install OpenMP runtime.\n\n  * You are running 32-bit Python on a 64-bit OS\n\nError message(s): [\"dlopen(/Users/tizianapelamatti/Library/Python/3.9/lib/python/site-packages/xgboost/lib/libxgboost.dylib, 0x0006): Library not loaded: @rpath/libomp.dylib\\n  Referenced from: <FBD6AEF9-AFAB-39D7-B881-755157DA0497> /Users/tizianapelamatti/Library/Python/3.9/lib/python/site-packages/xgboost/lib/libxgboost.dylib\\n  Reason: tried: '/usr/local/opt/libomp/lib/libomp.dylib' (no such file), '/System/Volumes/Preboot/Cryptexes/OS/usr/local/opt/libomp/lib/libomp.dylib' (no such file), '/usr/local/opt/libomp/lib/libomp.dylib' (no such file), '/System/Volumes/Preboot/Cryptexes/OS/usr/local/opt/libomp/lib/libomp.dylib' (no such file)\"]\n"
     ]
    }
   ],
   "source": [
    "import xgboost as xgb"
   ]
  },
  {
   "cell_type": "markdown",
   "id": "092ef3e3",
   "metadata": {},
   "source": [
    "## PCa Prediction"
   ]
  },
  {
   "cell_type": "code",
   "execution_count": 29,
   "id": "fbe298ff",
   "metadata": {},
   "outputs": [
    {
     "data": {
      "text/plain": [
       "array([1])"
      ]
     },
     "execution_count": 29,
     "metadata": {},
     "output_type": "execute_result"
    }
   ],
   "source": [
    "# Can we really answer the question?\n",
    "merge.case_csPCa.unique()\n",
    "\n",
    "# We can't because we only have positive cases, thus we can't train a model to predict negative cases"
   ]
  },
  {
   "cell_type": "markdown",
   "id": "63e52d24",
   "metadata": {},
   "source": [
    "FEATURE SELECTION PER MVL"
   ]
  },
  {
   "cell_type": "markdown",
   "id": "c449bded",
   "metadata": {},
   "source": [
    "questo mi serve perche così aggiungo la mia variabile target in binario"
   ]
  },
  {
   "cell_type": "code",
   "execution_count": 30,
   "id": "e1a4255d",
   "metadata": {},
   "outputs": [],
   "source": [
    "labels['ISUP>=3'] = (labels['case_ISUP'] >= 3).astype(int)"
   ]
  },
  {
   "cell_type": "markdown",
   "id": "fc315e68",
   "metadata": {},
   "source": [
    "faccio un merge per allineare le righe "
   ]
  },
  {
   "cell_type": "code",
   "execution_count": 31,
   "id": "a7a956db",
   "metadata": {},
   "outputs": [],
   "source": [
    "merged = pd.merge(dataset, labels[['patient_ID', 'study_ID', 'ISUP>=3']], on=['patient_ID', 'study_ID'], how='inner')\n"
   ]
  },
  {
   "cell_type": "markdown",
   "id": "53f80eb8",
   "metadata": {},
   "source": [
    "ora imposto la variabile X, selezionando solo le colonne numeriche"
   ]
  },
  {
   "cell_type": "code",
   "execution_count": 32,
   "id": "bac6fe5a",
   "metadata": {},
   "outputs": [],
   "source": [
    "X = merged.drop(columns=['study_ID', 'patient_ID', 'ISUP>=3'])\n",
    "X = X.select_dtypes(include=[np.number]) "
   ]
  },
  {
   "cell_type": "markdown",
   "id": "0206e2bd",
   "metadata": {},
   "source": []
  },
  {
   "cell_type": "markdown",
   "id": "92a8e903",
   "metadata": {},
   "source": [
    "rimuovo feature con varianza bassa e quelle con una correlazione alta"
   ]
  },
  {
   "cell_type": "code",
   "execution_count": 37,
   "id": "4501d6a0",
   "metadata": {},
   "outputs": [],
   "source": [
    "from sklearn.feature_selection import VarianceThreshold\n",
    "var_thresh = VarianceThreshold(threshold=0.01)\n",
    "X = X.loc[:, var_thresh.fit(X).get_support()]\n",
    "\n",
    "mlp_cm = X.corr().abs()\n",
    "var=mlp_cm.where(np.triu(np.ones(mlp_cm.shape), k=1).astype(bool))\n",
    "to_drop_corr = [column for column in var.columns if any(var[column] > 0.90)]\n",
    "X = X.drop(columns=to_drop_corr)\n",
    "\n",
    "y = merged['ISUP>=3']"
   ]
  },
  {
   "cell_type": "markdown",
   "id": "f3a56552",
   "metadata": {},
   "source": [
    "feature selection con RFE"
   ]
  },
  {
   "cell_type": "markdown",
   "id": "c62825cf",
   "metadata": {},
   "source": [
    "LOGISTIC REGRESSION"
   ]
  },
  {
   "cell_type": "code",
   "execution_count": 43,
   "id": "32ad8406",
   "metadata": {},
   "outputs": [
    {
     "data": {
      "text/html": [
       "<style>#sk-container-id-3 {\n",
       "  /* Definition of color scheme common for light and dark mode */\n",
       "  --sklearn-color-text: #000;\n",
       "  --sklearn-color-text-muted: #666;\n",
       "  --sklearn-color-line: gray;\n",
       "  /* Definition of color scheme for unfitted estimators */\n",
       "  --sklearn-color-unfitted-level-0: #fff5e6;\n",
       "  --sklearn-color-unfitted-level-1: #f6e4d2;\n",
       "  --sklearn-color-unfitted-level-2: #ffe0b3;\n",
       "  --sklearn-color-unfitted-level-3: chocolate;\n",
       "  /* Definition of color scheme for fitted estimators */\n",
       "  --sklearn-color-fitted-level-0: #f0f8ff;\n",
       "  --sklearn-color-fitted-level-1: #d4ebff;\n",
       "  --sklearn-color-fitted-level-2: #b3dbfd;\n",
       "  --sklearn-color-fitted-level-3: cornflowerblue;\n",
       "\n",
       "  /* Specific color for light theme */\n",
       "  --sklearn-color-text-on-default-background: var(--sg-text-color, var(--theme-code-foreground, var(--jp-content-font-color1, black)));\n",
       "  --sklearn-color-background: var(--sg-background-color, var(--theme-background, var(--jp-layout-color0, white)));\n",
       "  --sklearn-color-border-box: var(--sg-text-color, var(--theme-code-foreground, var(--jp-content-font-color1, black)));\n",
       "  --sklearn-color-icon: #696969;\n",
       "\n",
       "  @media (prefers-color-scheme: dark) {\n",
       "    /* Redefinition of color scheme for dark theme */\n",
       "    --sklearn-color-text-on-default-background: var(--sg-text-color, var(--theme-code-foreground, var(--jp-content-font-color1, white)));\n",
       "    --sklearn-color-background: var(--sg-background-color, var(--theme-background, var(--jp-layout-color0, #111)));\n",
       "    --sklearn-color-border-box: var(--sg-text-color, var(--theme-code-foreground, var(--jp-content-font-color1, white)));\n",
       "    --sklearn-color-icon: #878787;\n",
       "  }\n",
       "}\n",
       "\n",
       "#sk-container-id-3 {\n",
       "  color: var(--sklearn-color-text);\n",
       "}\n",
       "\n",
       "#sk-container-id-3 pre {\n",
       "  padding: 0;\n",
       "}\n",
       "\n",
       "#sk-container-id-3 input.sk-hidden--visually {\n",
       "  border: 0;\n",
       "  clip: rect(1px 1px 1px 1px);\n",
       "  clip: rect(1px, 1px, 1px, 1px);\n",
       "  height: 1px;\n",
       "  margin: -1px;\n",
       "  overflow: hidden;\n",
       "  padding: 0;\n",
       "  position: absolute;\n",
       "  width: 1px;\n",
       "}\n",
       "\n",
       "#sk-container-id-3 div.sk-dashed-wrapped {\n",
       "  border: 1px dashed var(--sklearn-color-line);\n",
       "  margin: 0 0.4em 0.5em 0.4em;\n",
       "  box-sizing: border-box;\n",
       "  padding-bottom: 0.4em;\n",
       "  background-color: var(--sklearn-color-background);\n",
       "}\n",
       "\n",
       "#sk-container-id-3 div.sk-container {\n",
       "  /* jupyter's `normalize.less` sets `[hidden] { display: none; }`\n",
       "     but bootstrap.min.css set `[hidden] { display: none !important; }`\n",
       "     so we also need the `!important` here to be able to override the\n",
       "     default hidden behavior on the sphinx rendered scikit-learn.org.\n",
       "     See: https://github.com/scikit-learn/scikit-learn/issues/21755 */\n",
       "  display: inline-block !important;\n",
       "  position: relative;\n",
       "}\n",
       "\n",
       "#sk-container-id-3 div.sk-text-repr-fallback {\n",
       "  display: none;\n",
       "}\n",
       "\n",
       "div.sk-parallel-item,\n",
       "div.sk-serial,\n",
       "div.sk-item {\n",
       "  /* draw centered vertical line to link estimators */\n",
       "  background-image: linear-gradient(var(--sklearn-color-text-on-default-background), var(--sklearn-color-text-on-default-background));\n",
       "  background-size: 2px 100%;\n",
       "  background-repeat: no-repeat;\n",
       "  background-position: center center;\n",
       "}\n",
       "\n",
       "/* Parallel-specific style estimator block */\n",
       "\n",
       "#sk-container-id-3 div.sk-parallel-item::after {\n",
       "  content: \"\";\n",
       "  width: 100%;\n",
       "  border-bottom: 2px solid var(--sklearn-color-text-on-default-background);\n",
       "  flex-grow: 1;\n",
       "}\n",
       "\n",
       "#sk-container-id-3 div.sk-parallel {\n",
       "  display: flex;\n",
       "  align-items: stretch;\n",
       "  justify-content: center;\n",
       "  background-color: var(--sklearn-color-background);\n",
       "  position: relative;\n",
       "}\n",
       "\n",
       "#sk-container-id-3 div.sk-parallel-item {\n",
       "  display: flex;\n",
       "  flex-direction: column;\n",
       "}\n",
       "\n",
       "#sk-container-id-3 div.sk-parallel-item:first-child::after {\n",
       "  align-self: flex-end;\n",
       "  width: 50%;\n",
       "}\n",
       "\n",
       "#sk-container-id-3 div.sk-parallel-item:last-child::after {\n",
       "  align-self: flex-start;\n",
       "  width: 50%;\n",
       "}\n",
       "\n",
       "#sk-container-id-3 div.sk-parallel-item:only-child::after {\n",
       "  width: 0;\n",
       "}\n",
       "\n",
       "/* Serial-specific style estimator block */\n",
       "\n",
       "#sk-container-id-3 div.sk-serial {\n",
       "  display: flex;\n",
       "  flex-direction: column;\n",
       "  align-items: center;\n",
       "  background-color: var(--sklearn-color-background);\n",
       "  padding-right: 1em;\n",
       "  padding-left: 1em;\n",
       "}\n",
       "\n",
       "\n",
       "/* Toggleable style: style used for estimator/Pipeline/ColumnTransformer box that is\n",
       "clickable and can be expanded/collapsed.\n",
       "- Pipeline and ColumnTransformer use this feature and define the default style\n",
       "- Estimators will overwrite some part of the style using the `sk-estimator` class\n",
       "*/\n",
       "\n",
       "/* Pipeline and ColumnTransformer style (default) */\n",
       "\n",
       "#sk-container-id-3 div.sk-toggleable {\n",
       "  /* Default theme specific background. It is overwritten whether we have a\n",
       "  specific estimator or a Pipeline/ColumnTransformer */\n",
       "  background-color: var(--sklearn-color-background);\n",
       "}\n",
       "\n",
       "/* Toggleable label */\n",
       "#sk-container-id-3 label.sk-toggleable__label {\n",
       "  cursor: pointer;\n",
       "  display: flex;\n",
       "  width: 100%;\n",
       "  margin-bottom: 0;\n",
       "  padding: 0.5em;\n",
       "  box-sizing: border-box;\n",
       "  text-align: center;\n",
       "  align-items: start;\n",
       "  justify-content: space-between;\n",
       "  gap: 0.5em;\n",
       "}\n",
       "\n",
       "#sk-container-id-3 label.sk-toggleable__label .caption {\n",
       "  font-size: 0.6rem;\n",
       "  font-weight: lighter;\n",
       "  color: var(--sklearn-color-text-muted);\n",
       "}\n",
       "\n",
       "#sk-container-id-3 label.sk-toggleable__label-arrow:before {\n",
       "  /* Arrow on the left of the label */\n",
       "  content: \"▸\";\n",
       "  float: left;\n",
       "  margin-right: 0.25em;\n",
       "  color: var(--sklearn-color-icon);\n",
       "}\n",
       "\n",
       "#sk-container-id-3 label.sk-toggleable__label-arrow:hover:before {\n",
       "  color: var(--sklearn-color-text);\n",
       "}\n",
       "\n",
       "/* Toggleable content - dropdown */\n",
       "\n",
       "#sk-container-id-3 div.sk-toggleable__content {\n",
       "  max-height: 0;\n",
       "  max-width: 0;\n",
       "  overflow: hidden;\n",
       "  text-align: left;\n",
       "  /* unfitted */\n",
       "  background-color: var(--sklearn-color-unfitted-level-0);\n",
       "}\n",
       "\n",
       "#sk-container-id-3 div.sk-toggleable__content.fitted {\n",
       "  /* fitted */\n",
       "  background-color: var(--sklearn-color-fitted-level-0);\n",
       "}\n",
       "\n",
       "#sk-container-id-3 div.sk-toggleable__content pre {\n",
       "  margin: 0.2em;\n",
       "  border-radius: 0.25em;\n",
       "  color: var(--sklearn-color-text);\n",
       "  /* unfitted */\n",
       "  background-color: var(--sklearn-color-unfitted-level-0);\n",
       "}\n",
       "\n",
       "#sk-container-id-3 div.sk-toggleable__content.fitted pre {\n",
       "  /* unfitted */\n",
       "  background-color: var(--sklearn-color-fitted-level-0);\n",
       "}\n",
       "\n",
       "#sk-container-id-3 input.sk-toggleable__control:checked~div.sk-toggleable__content {\n",
       "  /* Expand drop-down */\n",
       "  max-height: 200px;\n",
       "  max-width: 100%;\n",
       "  overflow: auto;\n",
       "}\n",
       "\n",
       "#sk-container-id-3 input.sk-toggleable__control:checked~label.sk-toggleable__label-arrow:before {\n",
       "  content: \"▾\";\n",
       "}\n",
       "\n",
       "/* Pipeline/ColumnTransformer-specific style */\n",
       "\n",
       "#sk-container-id-3 div.sk-label input.sk-toggleable__control:checked~label.sk-toggleable__label {\n",
       "  color: var(--sklearn-color-text);\n",
       "  background-color: var(--sklearn-color-unfitted-level-2);\n",
       "}\n",
       "\n",
       "#sk-container-id-3 div.sk-label.fitted input.sk-toggleable__control:checked~label.sk-toggleable__label {\n",
       "  background-color: var(--sklearn-color-fitted-level-2);\n",
       "}\n",
       "\n",
       "/* Estimator-specific style */\n",
       "\n",
       "/* Colorize estimator box */\n",
       "#sk-container-id-3 div.sk-estimator input.sk-toggleable__control:checked~label.sk-toggleable__label {\n",
       "  /* unfitted */\n",
       "  background-color: var(--sklearn-color-unfitted-level-2);\n",
       "}\n",
       "\n",
       "#sk-container-id-3 div.sk-estimator.fitted input.sk-toggleable__control:checked~label.sk-toggleable__label {\n",
       "  /* fitted */\n",
       "  background-color: var(--sklearn-color-fitted-level-2);\n",
       "}\n",
       "\n",
       "#sk-container-id-3 div.sk-label label.sk-toggleable__label,\n",
       "#sk-container-id-3 div.sk-label label {\n",
       "  /* The background is the default theme color */\n",
       "  color: var(--sklearn-color-text-on-default-background);\n",
       "}\n",
       "\n",
       "/* On hover, darken the color of the background */\n",
       "#sk-container-id-3 div.sk-label:hover label.sk-toggleable__label {\n",
       "  color: var(--sklearn-color-text);\n",
       "  background-color: var(--sklearn-color-unfitted-level-2);\n",
       "}\n",
       "\n",
       "/* Label box, darken color on hover, fitted */\n",
       "#sk-container-id-3 div.sk-label.fitted:hover label.sk-toggleable__label.fitted {\n",
       "  color: var(--sklearn-color-text);\n",
       "  background-color: var(--sklearn-color-fitted-level-2);\n",
       "}\n",
       "\n",
       "/* Estimator label */\n",
       "\n",
       "#sk-container-id-3 div.sk-label label {\n",
       "  font-family: monospace;\n",
       "  font-weight: bold;\n",
       "  display: inline-block;\n",
       "  line-height: 1.2em;\n",
       "}\n",
       "\n",
       "#sk-container-id-3 div.sk-label-container {\n",
       "  text-align: center;\n",
       "}\n",
       "\n",
       "/* Estimator-specific */\n",
       "#sk-container-id-3 div.sk-estimator {\n",
       "  font-family: monospace;\n",
       "  border: 1px dotted var(--sklearn-color-border-box);\n",
       "  border-radius: 0.25em;\n",
       "  box-sizing: border-box;\n",
       "  margin-bottom: 0.5em;\n",
       "  /* unfitted */\n",
       "  background-color: var(--sklearn-color-unfitted-level-0);\n",
       "}\n",
       "\n",
       "#sk-container-id-3 div.sk-estimator.fitted {\n",
       "  /* fitted */\n",
       "  background-color: var(--sklearn-color-fitted-level-0);\n",
       "}\n",
       "\n",
       "/* on hover */\n",
       "#sk-container-id-3 div.sk-estimator:hover {\n",
       "  /* unfitted */\n",
       "  background-color: var(--sklearn-color-unfitted-level-2);\n",
       "}\n",
       "\n",
       "#sk-container-id-3 div.sk-estimator.fitted:hover {\n",
       "  /* fitted */\n",
       "  background-color: var(--sklearn-color-fitted-level-2);\n",
       "}\n",
       "\n",
       "/* Specification for estimator info (e.g. \"i\" and \"?\") */\n",
       "\n",
       "/* Common style for \"i\" and \"?\" */\n",
       "\n",
       ".sk-estimator-doc-link,\n",
       "a:link.sk-estimator-doc-link,\n",
       "a:visited.sk-estimator-doc-link {\n",
       "  float: right;\n",
       "  font-size: smaller;\n",
       "  line-height: 1em;\n",
       "  font-family: monospace;\n",
       "  background-color: var(--sklearn-color-background);\n",
       "  border-radius: 1em;\n",
       "  height: 1em;\n",
       "  width: 1em;\n",
       "  text-decoration: none !important;\n",
       "  margin-left: 0.5em;\n",
       "  text-align: center;\n",
       "  /* unfitted */\n",
       "  border: var(--sklearn-color-unfitted-level-1) 1pt solid;\n",
       "  color: var(--sklearn-color-unfitted-level-1);\n",
       "}\n",
       "\n",
       ".sk-estimator-doc-link.fitted,\n",
       "a:link.sk-estimator-doc-link.fitted,\n",
       "a:visited.sk-estimator-doc-link.fitted {\n",
       "  /* fitted */\n",
       "  border: var(--sklearn-color-fitted-level-1) 1pt solid;\n",
       "  color: var(--sklearn-color-fitted-level-1);\n",
       "}\n",
       "\n",
       "/* On hover */\n",
       "div.sk-estimator:hover .sk-estimator-doc-link:hover,\n",
       ".sk-estimator-doc-link:hover,\n",
       "div.sk-label-container:hover .sk-estimator-doc-link:hover,\n",
       ".sk-estimator-doc-link:hover {\n",
       "  /* unfitted */\n",
       "  background-color: var(--sklearn-color-unfitted-level-3);\n",
       "  color: var(--sklearn-color-background);\n",
       "  text-decoration: none;\n",
       "}\n",
       "\n",
       "div.sk-estimator.fitted:hover .sk-estimator-doc-link.fitted:hover,\n",
       ".sk-estimator-doc-link.fitted:hover,\n",
       "div.sk-label-container:hover .sk-estimator-doc-link.fitted:hover,\n",
       ".sk-estimator-doc-link.fitted:hover {\n",
       "  /* fitted */\n",
       "  background-color: var(--sklearn-color-fitted-level-3);\n",
       "  color: var(--sklearn-color-background);\n",
       "  text-decoration: none;\n",
       "}\n",
       "\n",
       "/* Span, style for the box shown on hovering the info icon */\n",
       ".sk-estimator-doc-link span {\n",
       "  display: none;\n",
       "  z-index: 9999;\n",
       "  position: relative;\n",
       "  font-weight: normal;\n",
       "  right: .2ex;\n",
       "  padding: .5ex;\n",
       "  margin: .5ex;\n",
       "  width: min-content;\n",
       "  min-width: 20ex;\n",
       "  max-width: 50ex;\n",
       "  color: var(--sklearn-color-text);\n",
       "  box-shadow: 2pt 2pt 4pt #999;\n",
       "  /* unfitted */\n",
       "  background: var(--sklearn-color-unfitted-level-0);\n",
       "  border: .5pt solid var(--sklearn-color-unfitted-level-3);\n",
       "}\n",
       "\n",
       ".sk-estimator-doc-link.fitted span {\n",
       "  /* fitted */\n",
       "  background: var(--sklearn-color-fitted-level-0);\n",
       "  border: var(--sklearn-color-fitted-level-3);\n",
       "}\n",
       "\n",
       ".sk-estimator-doc-link:hover span {\n",
       "  display: block;\n",
       "}\n",
       "\n",
       "/* \"?\"-specific style due to the `<a>` HTML tag */\n",
       "\n",
       "#sk-container-id-3 a.estimator_doc_link {\n",
       "  float: right;\n",
       "  font-size: 1rem;\n",
       "  line-height: 1em;\n",
       "  font-family: monospace;\n",
       "  background-color: var(--sklearn-color-background);\n",
       "  border-radius: 1rem;\n",
       "  height: 1rem;\n",
       "  width: 1rem;\n",
       "  text-decoration: none;\n",
       "  /* unfitted */\n",
       "  color: var(--sklearn-color-unfitted-level-1);\n",
       "  border: var(--sklearn-color-unfitted-level-1) 1pt solid;\n",
       "}\n",
       "\n",
       "#sk-container-id-3 a.estimator_doc_link.fitted {\n",
       "  /* fitted */\n",
       "  border: var(--sklearn-color-fitted-level-1) 1pt solid;\n",
       "  color: var(--sklearn-color-fitted-level-1);\n",
       "}\n",
       "\n",
       "/* On hover */\n",
       "#sk-container-id-3 a.estimator_doc_link:hover {\n",
       "  /* unfitted */\n",
       "  background-color: var(--sklearn-color-unfitted-level-3);\n",
       "  color: var(--sklearn-color-background);\n",
       "  text-decoration: none;\n",
       "}\n",
       "\n",
       "#sk-container-id-3 a.estimator_doc_link.fitted:hover {\n",
       "  /* fitted */\n",
       "  background-color: var(--sklearn-color-fitted-level-3);\n",
       "}\n",
       "</style><div id=\"sk-container-id-3\" class=\"sk-top-container\"><div class=\"sk-text-repr-fallback\"><pre>RFE(estimator=LogisticRegression(max_iter=1000, random_state=42),\n",
       "    n_features_to_select=10)</pre><b>In a Jupyter environment, please rerun this cell to show the HTML representation or trust the notebook. <br />On GitHub, the HTML representation is unable to render, please try loading this page with nbviewer.org.</b></div><div class=\"sk-container\" hidden><div class=\"sk-item sk-dashed-wrapped\"><div class=\"sk-label-container\"><div class=\"sk-label fitted sk-toggleable\"><input class=\"sk-toggleable__control sk-hidden--visually\" id=\"sk-estimator-id-7\" type=\"checkbox\" ><label for=\"sk-estimator-id-7\" class=\"sk-toggleable__label fitted sk-toggleable__label-arrow\"><div><div>RFE</div></div><div><a class=\"sk-estimator-doc-link fitted\" rel=\"noreferrer\" target=\"_blank\" href=\"https://scikit-learn.org/1.6/modules/generated/sklearn.feature_selection.RFE.html\">?<span>Documentation for RFE</span></a><span class=\"sk-estimator-doc-link fitted\">i<span>Fitted</span></span></div></label><div class=\"sk-toggleable__content fitted\"><pre>RFE(estimator=LogisticRegression(max_iter=1000, random_state=42),\n",
       "    n_features_to_select=10)</pre></div> </div></div><div class=\"sk-parallel\"><div class=\"sk-parallel-item\"><div class=\"sk-item\"><div class=\"sk-label-container\"><div class=\"sk-label fitted sk-toggleable\"><input class=\"sk-toggleable__control sk-hidden--visually\" id=\"sk-estimator-id-8\" type=\"checkbox\" ><label for=\"sk-estimator-id-8\" class=\"sk-toggleable__label fitted sk-toggleable__label-arrow\"><div><div>estimator: LogisticRegression</div></div></label><div class=\"sk-toggleable__content fitted\"><pre>LogisticRegression(max_iter=1000, random_state=42)</pre></div> </div></div><div class=\"sk-serial\"><div class=\"sk-item\"><div class=\"sk-estimator fitted sk-toggleable\"><input class=\"sk-toggleable__control sk-hidden--visually\" id=\"sk-estimator-id-9\" type=\"checkbox\" ><label for=\"sk-estimator-id-9\" class=\"sk-toggleable__label fitted sk-toggleable__label-arrow\"><div><div>LogisticRegression</div></div><div><a class=\"sk-estimator-doc-link fitted\" rel=\"noreferrer\" target=\"_blank\" href=\"https://scikit-learn.org/1.6/modules/generated/sklearn.linear_model.LogisticRegression.html\">?<span>Documentation for LogisticRegression</span></a></div></label><div class=\"sk-toggleable__content fitted\"><pre>LogisticRegression(max_iter=1000, random_state=42)</pre></div> </div></div></div></div></div></div></div></div></div>"
      ],
      "text/plain": [
       "RFE(estimator=LogisticRegression(max_iter=1000, random_state=42),\n",
       "    n_features_to_select=10)"
      ]
     },
     "execution_count": 43,
     "metadata": {},
     "output_type": "execute_result"
    }
   ],
   "source": [
    "lr = LogisticRegression(max_iter=1000, random_state=42)\n",
    "rfe = RFE(estimator=lr, n_features_to_select=10)\n",
    "rfe.fit(X_train_scaled, y_train)"
   ]
  },
  {
   "cell_type": "code",
   "execution_count": 66,
   "id": "37f63381",
   "metadata": {},
   "outputs": [
    {
     "name": "stdout",
     "output_type": "stream",
     "text": [
      "- log-sigma-3-0-mm-3D_glszm_LargeAreaEmphasis\n",
      "- wavelet-LLH_ngtdm_Coarseness\n",
      "- wavelet-LHL_firstorder_90Percentile\n",
      "- wavelet-LHL_firstorder_Maximum\n",
      "- wavelet-LHH_glszm_LargeAreaEmphasis\n",
      "- wavelet-LHH_gldm_LargeDependenceHighGrayLevelEmphasis\n",
      "- wavelet-HLL_ngtdm_Coarseness\n",
      "- wavelet-HLH_glrlm_LongRunLowGrayLevelEmphasis\n",
      "- wavelet-HHL_ngtdm_Coarseness\n",
      "- psa\n"
     ]
    }
   ],
   "source": [
    "best_feat = X_train.columns[rfe.support_]\n",
    "print(\"\\n\".join(f\"- {f}\" for f in best_feat))"
   ]
  },
  {
   "cell_type": "code",
   "execution_count": 67,
   "id": "8d780466",
   "metadata": {},
   "outputs": [],
   "source": [
    "from sklearn.feature_selection import SelectKBest, f_classif\n",
    "\n",
    "selector = SelectKBest(score_func=f_classif, k='all')\n",
    "selector.fit(X_train_scaled, y_train)\n",
    "scores = selector.scores_\n",
    "\n",
    "importance_df = pd.DataFrame({\n",
    "    'Feature': X_train.columns,\n",
    "    'Score': scores\n",
    "}).sort_values(by='Score', ascending=False)\n",
    "\n",
    "# Seleziona con soglia furba\n",
    "threshold = importance_df['Score'].mean()\n",
    "selected_features = importance_df[importance_df['Score'] > threshold]['Feature'].tolist()"
   ]
  },
  {
   "cell_type": "code",
   "execution_count": 68,
   "id": "fa1f65f1",
   "metadata": {},
   "outputs": [
    {
     "name": "stdout",
     "output_type": "stream",
     "text": [
      "- wavelet-LHH_firstorder_Minimum\n",
      "- wavelet-LHH_ngtdm_Complexity\n",
      "- wavelet-LHH_gldm_LargeDependenceHighGrayLevelEmphasis\n",
      "- wavelet-LHH_firstorder_Maximum\n",
      "- psad\n",
      "- original_gldm_LargeDependenceLowGrayLevelEmphasis\n",
      "- psa\n",
      "- wavelet-LHL_gldm_LargeDependenceLowGrayLevelEmphasis\n",
      "- wavelet-HLH_gldm_LargeDependenceLowGrayLevelEmphasis\n",
      "- wavelet-LLL_firstorder_Skewness\n",
      "- wavelet-LHH_firstorder_Kurtosis\n",
      "- wavelet-LLH_firstorder_Maximum\n",
      "- wavelet-LHH_firstorder_Entropy\n",
      "- wavelet-LHL_ngtdm_Busyness\n",
      "- log-sigma-5-0-mm-3D_glcm_ClusterShade\n",
      "- wavelet-LLL_firstorder_Kurtosis\n",
      "- wavelet-LHH_firstorder_10Percentile\n",
      "- wavelet-HLH_glszm_LargeAreaLowGrayLevelEmphasis\n",
      "- wavelet-LLH_ngtdm_Coarseness\n",
      "- original_glrlm_LongRunLowGrayLevelEmphasis\n",
      "- log-sigma-5-0-mm-3D_firstorder_Skewness\n",
      "- wavelet-LLH_firstorder_Minimum\n",
      "- wavelet-LHL_firstorder_Minimum\n",
      "- wavelet-LHL_firstorder_Entropy\n",
      "- wavelet-HLL_glszm_SizeZoneNonUniformityNormalized\n",
      "- log-sigma-3-0-mm-3D_glcm_DifferenceEntropy\n",
      "- wavelet-LLH_ngtdm_Complexity\n",
      "- wavelet-LHL_ngtdm_Complexity\n",
      "- wavelet-LLH_firstorder_90Percentile\n",
      "- wavelet-LLL_firstorder_Range\n",
      "- original_gldm_LargeDependenceHighGrayLevelEmphasis\n",
      "- wavelet-HHL_firstorder_Entropy\n",
      "- wavelet-LHH_glszm_LargeAreaHighGrayLevelEmphasis\n",
      "- wavelet-LHH_ngtdm_Strength\n",
      "- wavelet-LHL_glrlm_LongRunLowGrayLevelEmphasis\n",
      "- log-sigma-3-0-mm-3D_glszm_LargeAreaLowGrayLevelEmphasis\n",
      "- log-sigma-5-0-mm-3D_firstorder_10Percentile\n",
      "- wavelet-LLH_glcm_ClusterProminence\n",
      "- wavelet-HHH_firstorder_Skewness\n",
      "- original_shape_MajorAxisLength\n",
      "- log-sigma-5-0-mm-3D_glszm_SmallAreaLowGrayLevelEmphasis\n",
      "- wavelet-LHH_glszm_LargeAreaEmphasis\n",
      "- original_glszm_LargeAreaLowGrayLevelEmphasis\n",
      "- wavelet-LHH_glszm_LargeAreaLowGrayLevelEmphasis\n",
      "- wavelet-LHH_glcm_ClusterProminence\n",
      "- original_shape_Maximum2DDiameterColumn\n",
      "- wavelet-LHH_firstorder_90Percentile\n",
      "- wavelet-HLL_ngtdm_Coarseness\n",
      "- wavelet-LLH_firstorder_Kurtosis\n",
      "- log-sigma-5-0-mm-3D_firstorder_Minimum\n",
      "- log-sigma-3-0-mm-3D_gldm_LargeDependenceLowGrayLevelEmphasis\n",
      "- log-sigma-3-0-mm-3D_firstorder_Entropy\n",
      "- wavelet-HHH_ngtdm_Busyness\n",
      "- original_glcm_Autocorrelation\n",
      "- wavelet-HHH_gldm_LargeDependenceLowGrayLevelEmphasis\n",
      "- wavelet-HHH_glcm_Correlation\n",
      "- wavelet-HHH_ngtdm_Complexity\n",
      "- log-sigma-5-0-mm-3D_glszm_SizeZoneNonUniformityNormalized\n",
      "- wavelet-HHL_glcm_Correlation\n",
      "- wavelet-LLH_firstorder_InterquartileRange\n",
      "- original_glcm_Correlation\n",
      "- log-sigma-3-0-mm-3D_glszm_SmallAreaLowGrayLevelEmphasis\n",
      "- wavelet-LHL_glszm_LargeAreaLowGrayLevelEmphasis\n",
      "- log-sigma-3-0-mm-3D_firstorder_Range\n",
      "- wavelet-HHH_firstorder_Maximum\n",
      "- patient_age\n",
      "- wavelet-LLH_gldm_LargeDependenceLowGrayLevelEmphasis\n",
      "- wavelet-LHL_firstorder_90Percentile\n",
      "- original_ngtdm_Busyness\n",
      "- log-sigma-3-0-mm-3D_ngtdm_Busyness\n",
      "- wavelet-LHL_firstorder_Skewness\n",
      "- log-sigma-5-0-mm-3D_glszm_LargeAreaLowGrayLevelEmphasis\n",
      "- wavelet-LHH_glcm_Correlation\n",
      "- wavelet-LLL_ngtdm_Contrast\n",
      "- wavelet-HHL_firstorder_Median\n",
      "- log-sigma-3-0-mm-3D_glcm_DifferenceVariance\n",
      "- wavelet-LHL_glszm_LargeAreaEmphasis\n",
      "- wavelet-LLH_glrlm_LongRunLowGrayLevelEmphasis\n",
      "- wavelet-HLL_firstorder_InterquartileRange\n",
      "- log-sigma-3-0-mm-3D_firstorder_Minimum\n",
      "- wavelet-HLH_glrlm_LongRunLowGrayLevelEmphasis\n",
      "- log-sigma-5-0-mm-3D_glszm_SmallAreaEmphasis\n",
      "- wavelet-HHH_ngtdm_Contrast\n",
      "- wavelet-HHL_ngtdm_Complexity\n",
      "- wavelet-LLH_ngtdm_Contrast\n",
      "- wavelet-HLL_glcm_ClusterProminence\n",
      "- log-sigma-3-0-mm-3D_ngtdm_Coarseness\n",
      "- original_firstorder_Minimum\n",
      "- wavelet-LHL_ngtdm_Contrast\n",
      "- wavelet-LHL_glcm_Correlation\n",
      "- wavelet-LHH_firstorder_InterquartileRange\n",
      "- wavelet-LLL_glcm_DifferenceVariance\n",
      "- original_shape_Maximum2DDiameterSlice\n",
      "- wavelet-HHL_firstorder_Minimum\n",
      "- wavelet-HHH_firstorder_Median\n",
      "- original_glszm_SizeZoneNonUniformityNormalized\n",
      "- original_firstorder_Entropy\n",
      "- prostate_volume\n",
      "- wavelet-HLL_glszm_LargeAreaEmphasis\n",
      "- wavelet-LLL_glcm_Imc2\n",
      "- wavelet-LHL_gldm_LargeDependenceHighGrayLevelEmphasis\n"
     ]
    }
   ],
   "source": [
    "print(\"\\n\".join(f\"- {f}\" for f in selected_features))"
   ]
  },
  {
   "cell_type": "markdown",
   "id": "8500ade5",
   "metadata": {},
   "source": [
    "FEATURE SELECTION PER RANDOM FOREST"
   ]
  },
  {
   "cell_type": "code",
   "execution_count": 59,
   "id": "bec81cb5",
   "metadata": {},
   "outputs": [
    {
     "name": "stdout",
     "output_type": "stream",
     "text": [
      "- wavelet-LHH_gldm_LargeDependenceLowGrayLevelEmphasis\n",
      "- wavelet-LHL_ngtdm_Busyness\n",
      "- psa\n",
      "- wavelet-LHH_ngtdm_Busyness\n",
      "- wavelet-LHH_ngtdm_Complexity\n",
      "- wavelet-LLH_firstorder_Maximum\n",
      "- original_firstorder_Minimum\n",
      "- log-sigma-3-0-mm-3D_gldm_SmallDependenceHighGrayLevelEmphasis\n",
      "- wavelet-LHH_firstorder_Minimum\n",
      "- original_firstorder_Skewness\n"
     ]
    }
   ],
   "source": [
    "var_imp = rf.feature_importances_\n",
    "feat_importance_df = pd.DataFrame({'Feature': X_train.columns, 'var_imp': var_imp})\n",
    "feat_importance_df.sort_values(by='var_imp', ascending=False, inplace=True)\n",
    "\n",
    "# 3. Seleziona le top 10\n",
    "best_feat_rf = feat_importance_df['Feature'].iloc[:10].tolist()\n",
    "print(\"\\n\".join(f\"- {f}\" for f in best_feat_rf))"
   ]
  },
  {
   "cell_type": "code",
   "execution_count": 62,
   "id": "287ea2df",
   "metadata": {},
   "outputs": [
    {
     "name": "stdout",
     "output_type": "stream",
     "text": [
      "Feature selezionate da SelectFromModel:\n",
      "- original_shape_Flatness\n",
      "- original_firstorder_10Percentile\n",
      "- original_firstorder_Kurtosis\n",
      "- original_firstorder_Maximum\n",
      "- original_firstorder_Minimum\n",
      "- original_firstorder_Skewness\n",
      "- original_glcm_Correlation\n",
      "- original_glcm_Idm\n",
      "- original_glrlm_LongRunLowGrayLevelEmphasis\n",
      "- original_gldm_LargeDependenceLowGrayLevelEmphasis\n",
      "- original_ngtdm_Busyness\n",
      "- log-sigma-3-0-mm-3D_firstorder_90Percentile\n",
      "- log-sigma-3-0-mm-3D_firstorder_Entropy\n",
      "- log-sigma-3-0-mm-3D_firstorder_Minimum\n",
      "- log-sigma-3-0-mm-3D_firstorder_Skewness\n",
      "- log-sigma-3-0-mm-3D_glcm_Autocorrelation\n",
      "- log-sigma-3-0-mm-3D_glcm_Contrast\n",
      "- log-sigma-3-0-mm-3D_glcm_DifferenceVariance\n",
      "- log-sigma-3-0-mm-3D_glszm_SmallAreaLowGrayLevelEmphasis\n",
      "- log-sigma-3-0-mm-3D_gldm_LargeDependenceLowGrayLevelEmphasis\n",
      "- log-sigma-3-0-mm-3D_gldm_SmallDependenceHighGrayLevelEmphasis\n",
      "- log-sigma-3-0-mm-3D_ngtdm_Busyness\n",
      "- log-sigma-3-0-mm-3D_ngtdm_Strength\n",
      "- log-sigma-5-0-mm-3D_firstorder_10Percentile\n",
      "- log-sigma-5-0-mm-3D_firstorder_Entropy\n",
      "- log-sigma-5-0-mm-3D_firstorder_InterquartileRange\n",
      "- log-sigma-5-0-mm-3D_firstorder_Minimum\n",
      "- log-sigma-5-0-mm-3D_firstorder_Skewness\n",
      "- log-sigma-5-0-mm-3D_glcm_ClusterShade\n",
      "- log-sigma-5-0-mm-3D_glcm_Contrast\n",
      "- log-sigma-5-0-mm-3D_glcm_Correlation\n",
      "- log-sigma-5-0-mm-3D_glcm_Imc1\n",
      "- log-sigma-5-0-mm-3D_glcm_InverseVariance\n",
      "- log-sigma-5-0-mm-3D_glrlm_LongRunEmphasis\n",
      "- log-sigma-5-0-mm-3D_glszm_LargeAreaLowGrayLevelEmphasis\n",
      "- log-sigma-5-0-mm-3D_glszm_SizeZoneNonUniformityNormalized\n",
      "- log-sigma-5-0-mm-3D_gldm_LargeDependenceLowGrayLevelEmphasis\n",
      "- log-sigma-5-0-mm-3D_ngtdm_Strength\n",
      "- wavelet-LLH_firstorder_90Percentile\n",
      "- wavelet-LLH_firstorder_InterquartileRange\n",
      "- wavelet-LLH_firstorder_Maximum\n",
      "- wavelet-LLH_firstorder_Minimum\n",
      "- wavelet-LLH_firstorder_Skewness\n",
      "- wavelet-LLH_glcm_ClusterShade\n",
      "- wavelet-LLH_glcm_Idm\n",
      "- wavelet-LLH_glszm_LargeAreaLowGrayLevelEmphasis\n",
      "- wavelet-LLH_glszm_SizeZoneNonUniformityNormalized\n",
      "- wavelet-LLH_ngtdm_Complexity\n",
      "- wavelet-LLH_ngtdm_Contrast\n",
      "- wavelet-LHL_firstorder_90Percentile\n",
      "- wavelet-LHL_firstorder_Entropy\n",
      "- wavelet-LHL_firstorder_Kurtosis\n",
      "- wavelet-LHL_firstorder_Maximum\n",
      "- wavelet-LHL_firstorder_Minimum\n",
      "- wavelet-LHL_firstorder_Skewness\n",
      "- wavelet-LHL_glcm_ClusterShade\n",
      "- wavelet-LHL_glcm_Imc2\n",
      "- wavelet-LHL_glszm_LargeAreaHighGrayLevelEmphasis\n",
      "- wavelet-LHL_glszm_LargeAreaLowGrayLevelEmphasis\n",
      "- wavelet-LHL_ngtdm_Busyness\n",
      "- wavelet-LHL_ngtdm_Coarseness\n",
      "- wavelet-LHL_ngtdm_Complexity\n",
      "- wavelet-LHH_firstorder_10Percentile\n",
      "- wavelet-LHH_firstorder_Entropy\n",
      "- wavelet-LHH_firstorder_Kurtosis\n",
      "- wavelet-LHH_firstorder_Maximum\n",
      "- wavelet-LHH_firstorder_Minimum\n",
      "- wavelet-LHH_glcm_ClusterProminence\n",
      "- wavelet-LHH_glcm_Idm\n",
      "- wavelet-LHH_glszm_LargeAreaLowGrayLevelEmphasis\n",
      "- wavelet-LHH_glszm_SizeZoneNonUniformityNormalized\n",
      "- wavelet-LHH_gldm_LargeDependenceHighGrayLevelEmphasis\n",
      "- wavelet-LHH_gldm_LargeDependenceLowGrayLevelEmphasis\n",
      "- wavelet-LHH_ngtdm_Busyness\n",
      "- wavelet-LHH_ngtdm_Complexity\n",
      "- wavelet-HLL_firstorder_10Percentile\n",
      "- wavelet-HLL_firstorder_InterquartileRange\n",
      "- wavelet-HLL_firstorder_Mean\n",
      "- wavelet-HLL_firstorder_Median\n",
      "- wavelet-HLL_firstorder_Minimum\n",
      "- wavelet-HLL_firstorder_Skewness\n",
      "- wavelet-HLL_glcm_ClusterProminence\n",
      "- wavelet-HLL_glcm_ClusterShade\n",
      "- wavelet-HLL_glszm_LargeAreaEmphasis\n",
      "- wavelet-HLL_glszm_SizeZoneNonUniformityNormalized\n",
      "- wavelet-HLL_ngtdm_Busyness\n",
      "- wavelet-HLL_ngtdm_Complexity\n",
      "- wavelet-HLH_firstorder_90Percentile\n",
      "- wavelet-HLH_firstorder_Kurtosis\n",
      "- wavelet-HLH_firstorder_Mean\n",
      "- wavelet-HLH_firstorder_Median\n",
      "- wavelet-HLH_firstorder_RootMeanSquared\n",
      "- wavelet-HLH_firstorder_Skewness\n",
      "- wavelet-HLH_glcm_ClusterProminence\n",
      "- wavelet-HLH_glcm_Correlation\n",
      "- wavelet-HLH_glcm_Idm\n",
      "- wavelet-HLH_glrlm_LongRunLowGrayLevelEmphasis\n",
      "- wavelet-HLH_glszm_LargeAreaLowGrayLevelEmphasis\n",
      "- wavelet-HLH_gldm_LargeDependenceLowGrayLevelEmphasis\n",
      "- wavelet-HHL_firstorder_Entropy\n",
      "- wavelet-HHL_firstorder_InterquartileRange\n",
      "- wavelet-HHL_firstorder_Median\n",
      "- wavelet-HHL_firstorder_RootMeanSquared\n",
      "- wavelet-HHL_glcm_ClusterShade\n",
      "- wavelet-HHL_glcm_Correlation\n",
      "- wavelet-HHL_glszm_LargeAreaLowGrayLevelEmphasis\n",
      "- wavelet-HHL_gldm_LargeDependenceHighGrayLevelEmphasis\n",
      "- wavelet-HHL_ngtdm_Complexity\n",
      "- wavelet-HHL_ngtdm_Strength\n",
      "- wavelet-HHH_firstorder_90Percentile\n",
      "- wavelet-HHH_firstorder_Entropy\n",
      "- wavelet-HHH_firstorder_Maximum\n",
      "- wavelet-HHH_firstorder_Mean\n",
      "- wavelet-HHH_firstorder_Median\n",
      "- wavelet-HHH_firstorder_Minimum\n",
      "- wavelet-HHH_firstorder_Skewness\n",
      "- wavelet-HHH_glcm_Correlation\n",
      "- wavelet-HHH_glrlm_LongRunLowGrayLevelEmphasis\n",
      "- wavelet-HHH_glszm_SizeZoneNonUniformityNormalized\n",
      "- wavelet-HHH_gldm_LargeDependenceLowGrayLevelEmphasis\n",
      "- wavelet-LLL_firstorder_Kurtosis\n",
      "- wavelet-LLL_firstorder_Skewness\n",
      "- wavelet-LLL_glcm_Autocorrelation\n",
      "- wavelet-LLL_glcm_Contrast\n",
      "- wavelet-LLL_glcm_Imc2\n",
      "- patient_age\n",
      "- psa\n",
      "- psad\n",
      "- prostate_volume\n"
     ]
    }
   ],
   "source": [
    "sfm_rf = SelectFromModel(rf, threshold='mean', prefit=True)\n",
    "selected_mask = sfm_rf.get_support()\n",
    "useful_rf_features = X_train.columns[selected_mask].tolist()\n",
    "\n",
    "print(\"Feature selezionate da SelectFromModel:\")\n",
    "for f in useful_rf_features:\n",
    "    print(\"-\", f)"
   ]
  }
 ],
 "metadata": {
  "kernelspec": {
   "display_name": "Python 3",
   "language": "python",
   "name": "python3"
  },
  "language_info": {
   "codemirror_mode": {
    "name": "ipython",
    "version": 3
   },
   "file_extension": ".py",
   "mimetype": "text/x-python",
   "name": "python",
   "nbconvert_exporter": "python",
   "pygments_lexer": "ipython3",
   "version": "3.9.6"
  }
 },
 "nbformat": 4,
 "nbformat_minor": 5
}

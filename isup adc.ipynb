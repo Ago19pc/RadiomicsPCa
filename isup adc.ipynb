{
 "cells": [
  {
   "cell_type": "code",
   "execution_count": 1,
   "id": "fd75b24a",
   "metadata": {},
   "outputs": [],
   "source": [
    "import numpy as np\n",
    "import matplotlib.pyplot as plt\n",
    "import pandas as pd\n",
    "import seaborn as sns\n",
    "from tabulate import tabulate\n",
    "from sklearn.model_selection import train_test_split\n",
    "from sklearn.preprocessing import StandardScaler\n",
    "from sklearn.linear_model import LogisticRegression\n",
    "from sklearn.tree import DecisionTreeClassifier\n",
    "from sklearn.ensemble import RandomForestClassifier\n",
    "from sklearn.neighbors import KNeighborsClassifier\n",
    "from sklearn.metrics import classification_report, confusion_matrix, accuracy_score\n",
    "from sklearn.neural_network import MLPClassifier"
   ]
  },
  {
   "cell_type": "code",
   "execution_count": 2,
   "id": "5185f8bc",
   "metadata": {},
   "outputs": [
    {
     "name": "stdout",
     "output_type": "stream",
     "text": [
      "(6288, 1024)\n"
     ]
    }
   ],
   "source": [
    "labels = pd.read_csv('marksheet.csv')\n",
    "dataset = pd.read_csv('PI-CAI_features')\n",
    "\n",
    "print(dataset.shape)\n",
    "\n",
    "# Filter the dataset to include only AI annotations and t2w sequences and ROI lesion\n",
    "filtered_dataset = dataset[dataset['annotator'] == 'AI']\n",
    "filtered_dataset = filtered_dataset[filtered_dataset['sequence'] == 'adc']\n",
    "filtered_dataset = filtered_dataset[filtered_dataset['ROI'] == 'lesion']\n",
    "filtered_dataset.drop(columns=['annotator', 'sequence', 'ROI_ID', 'ROI','img_path', 'seg_path', 'extraction_ID'], inplace=True)\n",
    "dataset = filtered_dataset\n",
    "\n",
    "# Rename columns to match the labels dataset\n",
    "labels.rename(columns={'patient_id': 'patient_ID', 'study_id': 'study_ID'}, inplace=True)\n",
    "\n",
    "# We only want Magnetic Resonace Biopsy (MRBx) labels because Systematic Biopsy (SBx) labels are not for our usecase\n",
    "# we also remove those that have both because clicinians result might be biased\n",
    "#labels = labels[labels['histopath_type'] == 'MRBx']\n",
    "\n",
    "# Remove useless columns from labels dataset\n",
    "labels.drop(columns=['mri_date', 'histopath_type', 'center', 'lesion_ISUP', 'lesion_GS'], inplace=True)\n",
    "\n",
    "# Rename Yes to 1 and No to 0 in the labels dataset\n",
    "labels.case_csPCa = labels.case_csPCa.map(lambda x: 1 if x == 'YES' else 0)"
   ]
  },
  {
   "cell_type": "code",
   "execution_count": 3,
   "id": "24f2ed41",
   "metadata": {},
   "outputs": [],
   "source": [
    "labels.dropna(inplace=True)"
   ]
  },
  {
   "cell_type": "code",
   "execution_count": 4,
   "id": "674080d7",
   "metadata": {},
   "outputs": [],
   "source": [
    "corr_matrix = dataset.drop(columns=['study_ID', 'patient_ID']).corr().abs()\n",
    "\n",
    "upper = corr_matrix.where(np.triu(np.ones(corr_matrix.shape), k=1).astype(bool))\n",
    "\n",
    "\n",
    "to_drop = [column for column in upper.columns if any(upper[column] > 0.90)]\n",
    "\n",
    "dataset.drop(to_drop, axis=1, inplace=True)"
   ]
  },
  {
   "cell_type": "code",
   "execution_count": 5,
   "id": "57af1bf2",
   "metadata": {},
   "outputs": [],
   "source": [
    "isup = 'case_ISUP'\n",
    "pca = 'case_csPCa'"
   ]
  },
  {
   "cell_type": "code",
   "execution_count": 6,
   "id": "f63bfc34",
   "metadata": {},
   "outputs": [],
   "source": [
    "merge = pd.merge(dataset, labels, on=['patient_ID', 'study_ID'], how='inner')\n",
    "merge.drop(columns=['patient_ID', 'study_ID'], inplace=True)"
   ]
  },
  {
   "cell_type": "code",
   "execution_count": 7,
   "id": "962591ce",
   "metadata": {},
   "outputs": [],
   "source": [
    "merge['ISUP>=3'] = merge[isup].map(lambda x: 1 if x >= 3 else 0)"
   ]
  },
  {
   "cell_type": "code",
   "execution_count": 8,
   "id": "0e37af85",
   "metadata": {},
   "outputs": [],
   "source": [
    "X_train, X_test, y_train, y_test = train_test_split(merge.drop(columns=[isup, pca, 'ISUP>=3']), merge['ISUP>=3'], test_size=0.2, random_state=42)"
   ]
  },
  {
   "cell_type": "markdown",
   "id": "0d75399f",
   "metadata": {},
   "source": [
    "## ISUP Prediction"
   ]
  },
  {
   "cell_type": "code",
   "execution_count": 9,
   "id": "9f69c5b7",
   "metadata": {},
   "outputs": [
    {
     "name": "stdout",
     "output_type": "stream",
     "text": [
      "MLP Accuracy: 0.543859649122807\n",
      "MLP Classification Report:\n",
      "               precision    recall  f1-score   support\n",
      "\n",
      "           0       0.47      0.71      0.57        24\n",
      "           1       0.67      0.42      0.52        33\n",
      "\n",
      "    accuracy                           0.54        57\n",
      "   macro avg       0.57      0.57      0.54        57\n",
      "weighted avg       0.58      0.54      0.54        57\n",
      "\n"
     ]
    },
    {
     "data": {
      "image/png": "[encoded data removed]",
      "text/plain": [
       "<Figure size 800x600 with 2 Axes>"
      ]
     },
     "metadata": {},
     "output_type": "display_data"
    }
   ],
   "source": [
    "# MLP, my best friend\n",
    "mlp = MLPClassifier(max_iter=1000, random_state=42, hidden_layer_sizes=(100, 50, 50, 50, 100, 50), activation='relu', solver='adam')\n",
    "mlp.fit(X_train, y_train)\n",
    "y_pred_mlp = mlp.predict(X_test)\n",
    "mlp_accuracy = accuracy_score(y_test, y_pred_mlp)\n",
    "mlp_report = classification_report(y_test, y_pred_mlp, output_dict=True)\n",
    "mlp_cm = confusion_matrix(y_test, y_pred_mlp)\n",
    "\n",
    "print(\"MLP Accuracy:\", mlp_accuracy)\n",
    "print(\"MLP Classification Report:\\n\", classification_report(y_test, y_pred_mlp))\n",
    "plt.figure(figsize=(8, 6))\n",
    "sns.heatmap(mlp_cm, annot=True, fmt='d', cmap='Blues', xticklabels=['2', '>=3'], yticklabels=['2', '>=3'])\n",
    "plt.title('MLP Confusion Matrix')\n",
    "plt.xlabel('Predicted')\n",
    "plt.ylabel('True')\n",
    "plt.show()"
   ]
  },
  {
   "cell_type": "code",
   "execution_count": 10,
   "id": "dddf2904",
   "metadata": {},
   "outputs": [
    {
     "name": "stdout",
     "output_type": "stream",
     "text": [
      "Random Forest Accuracy: 0.6140350877192983\n",
      "Random Forest Classification Report:\n",
      "               precision    recall  f1-score   support\n",
      "\n",
      "           0       0.52      0.92      0.67        24\n",
      "           1       0.87      0.39      0.54        33\n",
      "\n",
      "    accuracy                           0.61        57\n",
      "   macro avg       0.70      0.66      0.60        57\n",
      "weighted avg       0.72      0.61      0.59        57\n",
      "\n"
     ]
    },
    {
     "data": {
      "image/png": "[encoded data removed]",
      "text/plain": [
       "<Figure size 800x600 with 2 Axes>"
      ]
     },
     "metadata": {},
     "output_type": "display_data"
    }
   ],
   "source": [
    "# Random Forest\n",
    "rf = RandomForestClassifier(random_state=42)\n",
    "rf.fit(X_train, y_train)\n",
    "y_pred_rf = rf.predict(X_test)\n",
    "rf_accuracy = accuracy_score(y_test, y_pred_rf)\n",
    "rf_report = classification_report(y_test, y_pred_rf, output_dict=True)\n",
    "rf_cm = confusion_matrix(y_test, y_pred_rf)\n",
    "print(\"Random Forest Accuracy:\", rf_accuracy)\n",
    "print(\"Random Forest Classification Report:\\n\", classification_report(y_test, y_pred_rf))\n",
    "plt.figure(figsize=(8, 6))\n",
    "sns.heatmap(rf_cm, annot=True, fmt='d', cmap='Blues', yticklabels=['2', '>=3'], xticklabels=['2', '>=3'])\n",
    "plt.title('Random Forest Confusion Matrix ISUP')\n",
    "plt.xlabel('Predicted ISUP')\n",
    "plt.ylabel('True ISUP')\n",
    "plt.show()\n"
   ]
  },
  {
   "cell_type": "code",
   "execution_count": 11,
   "id": "37e5d885",
   "metadata": {},
   "outputs": [
    {
     "data": {
      "text/plain": [
       "case_ISUP\n",
       "2    144\n",
       "3     70\n",
       "5     40\n",
       "4     27\n",
       "Name: count, dtype: int64"
      ]
     },
     "execution_count": 11,
     "metadata": {},
     "output_type": "execute_result"
    }
   ],
   "source": [
    "merge[isup].value_counts()"
   ]
  },
  {
   "cell_type": "code",
   "execution_count": 12,
   "id": "c469bd73",
   "metadata": {},
   "outputs": [
    {
     "data": {
      "text/plain": [
       "0    42\n",
       "1    15\n",
       "Name: count, dtype: int64"
      ]
     },
     "execution_count": 12,
     "metadata": {},
     "output_type": "execute_result"
    }
   ],
   "source": [
    "pd.Series(y_pred_rf).value_counts()"
   ]
  },
  {
   "cell_type": "code",
   "execution_count": 13,
   "id": "f4d13fc2",
   "metadata": {},
   "outputs": [
    {
     "data": {
      "text/plain": [
       "ISUP>=3\n",
       "1    33\n",
       "0    24\n",
       "Name: count, dtype: int64"
      ]
     },
     "execution_count": 13,
     "metadata": {},
     "output_type": "execute_result"
    }
   ],
   "source": [
    "y_test.value_counts()"
   ]
  },
  {
   "cell_type": "markdown",
   "id": "092ef3e3",
   "metadata": {},
   "source": [
    "## PCa Prediction"
   ]
  },
  {
   "cell_type": "code",
   "execution_count": 14,
   "id": "fbe298ff",
   "metadata": {},
   "outputs": [
    {
     "data": {
      "text/plain": [
       "array([1])"
      ]
     },
     "execution_count": 14,
     "metadata": {},
     "output_type": "execute_result"
    }
   ],
   "source": [
    "# Can we really answer the question?\n",
    "merge.case_csPCa.unique()\n",
    "\n",
    "# We can't because we only have positive cases, thus we can't train a model to predict negative cases"
   ]
  }
 ],
 "metadata": {
  "kernelspec": {
   "display_name": "Python 3",
   "language": "python",
   "name": "python3"
  },
  "language_info": {
   "codemirror_mode": {
    "name": "ipython",
    "version": 3
   },
   "file_extension": ".py",
   "mimetype": "text/x-python",
   "name": "python",
   "nbconvert_exporter": "python",
   "pygments_lexer": "ipython3",
   "version": "3.13.3"
  }
 },
 "nbformat": 4,
 "nbformat_minor": 5
}
